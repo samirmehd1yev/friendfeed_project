{
 "cells": [
  {
   "cell_type": "markdown",
   "metadata": {},
   "source": [
    "# Community Detection in FriendFeed Network\n",
    "\n",
    "This notebook focuses on preparing the graph for detecting communities within the FriendFeed social network. \n",
    "\n",
    "We'll use the preprocessed datasets to build a graph and analyze community structures."
   ]
  },
  {
   "cell_type": "markdown",
   "metadata": {},
   "source": [
    "## 1. Import Libraries and Load Data"
   ]
  },
  {
   "cell_type": "code",
   "execution_count": 1,
   "metadata": {},
   "outputs": [],
   "source": [
    "import pandas as pd\n",
    "import networkx as nx\n",
    "import matplotlib.pyplot as plt\n",
    "import seaborn as sns\n",
    "from networkx.algorithms import community\n",
    "import random\n",
    "import matplotlib.pyplot as plt\n",
    "import gc\n",
    "import concurrent.futures\n",
    "import numpy as np\n",
    "import warnings\n",
    "from collections import Counter\n",
    "import gzip\n",
    "\n",
    "%matplotlib inline\n",
    "sns.set(style='whitegrid')\n",
    "\n",
    "# Suppress specific FutureWarning\n",
    "warnings.filterwarnings(\"ignore\", category=FutureWarning)"
   ]
  },
  {
   "cell_type": "code",
   "execution_count": 2,
   "metadata": {},
   "outputs": [],
   "source": [
    "# Load preprocessed data\n",
    "users = pd.read_parquet('processed_data/users_cleaned.parquet')\n",
    "subs = pd.read_parquet('processed_data/subs_cleaned.parquet')\n",
    "following = pd.read_parquet('processed_data/following_cleaned.parquet')\n",
    "comments = pd.read_parquet('processed_data/comments_cleaned.parquet')\n",
    "likes = pd.read_parquet('processed_data/likes_cleaned.parquet')\n",
    "entries = pd.read_parquet('processed_data/entries_cleaned.parquet')"
   ]
  },
  {
   "cell_type": "code",
   "execution_count": 3,
   "metadata": {},
   "outputs": [
    {
     "name": "stdout",
     "output_type": "stream",
     "text": [
      "Number of user IDs in 'likes' but not in 'users': 0\n"
     ]
    }
   ],
   "source": [
    "# Get the unique user IDs from both dataframes\n",
    "user_ids_in_likes = set(likes['userID'].unique())\n",
    "user_ids_in_users = set(users['ID'].unique())\n",
    "\n",
    "# Find user IDs in likes but not in users\n",
    "user_ids_not_in_users = user_ids_in_likes - user_ids_in_users\n",
    "\n",
    "# Display the result\n",
    "print(f\"Number of user IDs in 'likes' but not in 'users': {len(user_ids_not_in_users)}\")\n",
    "if len(user_ids_not_in_users) > 0:\n",
    "    print(f\"Sample of user IDs not in users: {list(user_ids_not_in_users)[:10]}\")\n"
   ]
  },
  {
   "cell_type": "code",
   "execution_count": 4,
   "metadata": {},
   "outputs": [
    {
     "name": "stdout",
     "output_type": "stream",
     "text": [
      "Number of user IDs in 'entries' but not in 'users': 0\n"
     ]
    }
   ],
   "source": [
    "# Get the unique user IDs from both dataframes\n",
    "user_ids_in_entries = set(entries['PostedBy'].unique())\n",
    "user_ids_in_users = set(users['ID'].unique())\n",
    "\n",
    "# Find user IDs in likes but not in users\n",
    "user_ids_not_in_users = user_ids_in_entries - user_ids_in_users\n",
    "\n",
    "# Display the result\n",
    "print(f\"Number of user IDs in 'entries' but not in 'users': {len(user_ids_not_in_users)}\")\n",
    "if len(user_ids_not_in_users) > 0:\n",
    "    print(f\"Sample of user IDs not in users: {list(user_ids_not_in_users)[:10]}\")\n"
   ]
  },
  {
   "cell_type": "code",
   "execution_count": null,
   "metadata": {},
   "outputs": [],
   "source": []
  },
  {
   "cell_type": "code",
   "execution_count": 5,
   "metadata": {},
   "outputs": [
    {
     "name": "stdout",
     "output_type": "stream",
     "text": [
      "users: (645414, 4)\n",
      "subs: (24761879, 2)\n",
      "following: (18477145, 3)\n",
      "comments: (2835155, 6)\n",
      "likes: (427214, 3)\n",
      "entries: (10954103, 5)\n"
     ]
    }
   ],
   "source": [
    "# sizes of each dataframe\n",
    "print('users:', users.shape)\n",
    "print('subs:', subs.shape)\n",
    "print('following:', following.shape)\n",
    "print('comments:', comments.shape)\n",
    "print('likes:', likes.shape)\n",
    "print('entries:', entries.shape)"
   ]
  },
  {
   "cell_type": "code",
   "execution_count": 6,
   "metadata": {},
   "outputs": [
    {
     "name": "stdout",
     "output_type": "stream",
     "text": [
      "df: users\n",
      "Index(['ID', 'Type', 'Name', 'Description'], dtype='object')\n",
      "unique users: 645414\n",
      "----------------------------\n",
      "\n",
      "df: subs\n",
      "Index(['FollowerID', 'FollowedID'], dtype='object')\n",
      "unique subs: 525824\n",
      "unique subs: 527108\n",
      "----------------------------\n",
      "\n",
      "df: following\n",
      "Index(['FollowerID', 'FollowedID', 'Timestamp'], dtype='object')\n",
      "unique following: 196436\n",
      "unique following: 443552\n",
      "----------------------------\n",
      "\n",
      "df: comments\n",
      "Index(['PostID', 'EntryID', 'PostedBy', 'SourceURL', 'Timestamp', 'Text'], dtype='object')\n",
      "unique comments: 40919\n",
      "----------------------------\n",
      "\n",
      "df: likes\n",
      "Index(['userID', 'PostID', 'Timestamp'], dtype='object')\n",
      "unique likes: 13308\n",
      "----------------------------\n",
      "\n",
      "df: entries\n",
      "Index(['PostID', 'PostedBy', 'SourceURL', 'Timestamp', 'Text'], dtype='object')\n",
      "unique entries: 209716\n"
     ]
    }
   ],
   "source": [
    "# length of unique users\n",
    "print('df: users')\n",
    "print(users.columns)\n",
    "print('unique users:', len(users['ID'].unique()))\n",
    "print('----------------------------\\n')\n",
    "\n",
    "print('df: subs')\n",
    "print(subs.columns)\n",
    "print('unique subs:', len(subs['FollowerID'].unique()))\n",
    "print('unique subs:', len(subs['FollowedID'].unique()))\n",
    "print('----------------------------\\n')\n",
    "\n",
    "print('df: following')\n",
    "print(following.columns)\n",
    "print('unique following:', len(following['FollowerID'].unique()))\n",
    "print('unique following:', len(following['FollowedID'].unique()))\n",
    "print('----------------------------\\n')\n",
    "\n",
    "print('df: comments')\n",
    "print(comments.columns)\n",
    "print('unique comments:', len(comments['PostedBy'].unique()))\n",
    "print('----------------------------\\n')\n",
    "\n",
    "print('df: likes')\n",
    "print(likes.columns)\n",
    "print('unique likes:', len(likes['userID'].unique()))\n",
    "print('----------------------------\\n')\n",
    "\n",
    "print('df: entries')\n",
    "print(entries.columns)\n",
    "print('unique entries:', len(entries['PostedBy'].unique()))"
   ]
  },
  {
   "cell_type": "markdown",
   "metadata": {},
   "source": [
    "## 2. Build the Network Graph\n",
    "\n",
    "We'll create a directed graph where nodes represent users, and edges represent different types of interactions such as follows, likes, and comments."
   ]
  },
  {
   "cell_type": "code",
   "execution_count": 7,
   "metadata": {},
   "outputs": [
    {
     "name": "stdout",
     "output_type": "stream",
     "text": [
      "Graph has 645414\n",
      "CPU times: user 657 ms, sys: 85.8 ms, total: 743 ms\n",
      "Wall time: 741 ms\n"
     ]
    }
   ],
   "source": [
    "%%time\n",
    "# Initialize directed graph\n",
    "G = nx.DiGraph()\n",
    "\n",
    "# Add nodes for users\n",
    "G.add_nodes_from(users['ID'])\n",
    "\n",
    "# Display basic graph information\n",
    "print(f\"Graph has {G.number_of_nodes()}\")"
   ]
  },
  {
   "cell_type": "code",
   "execution_count": 8,
   "metadata": {},
   "outputs": [
    {
     "name": "stdout",
     "output_type": "stream",
     "text": [
      "All node names are unique.\n"
     ]
    }
   ],
   "source": [
    "# Get the list of node names\n",
    "node_names = list(G.nodes())\n",
    "# Create a DataFrame from the node names\n",
    "df = pd.DataFrame(node_names, columns=['NodeName'])\n",
    "\n",
    "# Count duplicates\n",
    "duplicate_counts = df['NodeName'].value_counts()\n",
    "\n",
    "# Identify and display duplicates\n",
    "duplicates = duplicate_counts[duplicate_counts > 1]\n",
    "\n",
    "if not duplicates.empty:\n",
    "    print(\"Duplicate node names found:\")\n",
    "    print(duplicates)\n",
    "else:\n",
    "    print(\"All node names are unique.\")"
   ]
  },
  {
   "cell_type": "code",
   "execution_count": null,
   "metadata": {},
   "outputs": [],
   "source": []
  },
  {
   "cell_type": "code",
   "execution_count": 9,
   "metadata": {},
   "outputs": [],
   "source": [
    "# Define number of workers (cores)\n",
    "num_workers = 12  # Adjust based on the number of available CPU cores"
   ]
  },
  {
   "cell_type": "code",
   "execution_count": 10,
   "metadata": {},
   "outputs": [],
   "source": [
    "# Split DataFrame into smaller chunks for parallel processing\n",
    "def split_dataframe(df, num_chunks):\n",
    "    return np.array_split(df, num_chunks)\n",
    "\n",
    "# Function to generate edges for a chunk of the DataFrame\n",
    "def generate_edges_following(df_chunk):\n",
    "    return [(row['FollowerID'], row['FollowedID']) for _, row in df_chunk.iterrows()]\n",
    "\n",
    "# Function to generate edges for a chunk of the 'subs' DataFrame\n",
    "def generate_edges_subs(df_chunk):\n",
    "    return [(row['FollowerID'], row['FollowedID']) for _, row in df_chunk.iterrows()]\n",
    "\n",
    "# Function to generate edges for a chunk of the 'likes' DataFrame\n",
    "def generate_edges_likes(df_chunk, post_owner_mapping):\n",
    "    edges = []\n",
    "    for _, row in df_chunk.iterrows():\n",
    "        user_id = row['userID']  # User who liked the post\n",
    "        post_id = row['PostID']  # Post that was liked\n",
    "\n",
    "        # Find the owner of the post\n",
    "        if post_id in post_owner_mapping:\n",
    "            post_owner = post_owner_mapping[post_id]\n",
    "            # Add an edge from the user who liked the post to the owner of the post\n",
    "            edges.append((user_id, post_owner))\n",
    "    return edges\n",
    "\n",
    "# Function to generate edges for a chunk of the 'comments' DataFrame\n",
    "def generate_edges_comments(df_chunk, post_author_mapping):\n",
    "    edges = []\n",
    "    for _, row in df_chunk.iterrows():\n",
    "        commenter = row['PostedBy']  # The user who made the comment\n",
    "        entry_id = row['EntryID']    # The post (EntryID) on which the comment was made\n",
    "        \n",
    "        # Find the author of the post (EntryID)\n",
    "        if entry_id in post_author_mapping:\n",
    "            post_author = post_author_mapping[entry_id]\n",
    "            # Add an edge from the commenter to the author of the post they commented on\n",
    "            edges.append((commenter, post_author))\n",
    "    return edges"
   ]
  },
  {
   "cell_type": "markdown",
   "metadata": {},
   "source": [
    "###  Adding edges based on following"
   ]
  },
  {
   "cell_type": "code",
   "execution_count": 11,
   "metadata": {},
   "outputs": [
    {
     "name": "stdout",
     "output_type": "stream",
     "text": [
      "Graph has 645414 nodes and 18477145 edges\n",
      "CPU times: user 55.7 s, sys: 6.55 s, total: 1min 2s\n",
      "Wall time: 2min 30s\n"
     ]
    }
   ],
   "source": [
    "%%time\n",
    "# Split the 'following' DataFrame into chunks\n",
    "df_chunks = split_dataframe(following, num_workers)\n",
    "\n",
    "# Parallelize edge creation\n",
    "with concurrent.futures.ProcessPoolExecutor(max_workers=num_workers) as executor:\n",
    "    # Submit tasks to workers and gather results\n",
    "    edges_chunks = list(executor.map(generate_edges_following, df_chunks))\n",
    "\n",
    "# Combine the edges from all workers\n",
    "edges = [edge for chunk in edges_chunks for edge in chunk]\n",
    "\n",
    "# Add edges to the graph\n",
    "G.add_edges_from(edges, relationship='following')\n",
    "\n",
    "# Display basic graph information\n",
    "print(f\"Graph has {G.number_of_nodes()} nodes and {G.number_of_edges()} edges\")"
   ]
  },
  {
   "cell_type": "markdown",
   "metadata": {},
   "source": [
    "###  Adding edges based on subs"
   ]
  },
  {
   "cell_type": "code",
   "execution_count": 12,
   "metadata": {},
   "outputs": [
    {
     "name": "stdout",
     "output_type": "stream",
     "text": [
      "Graph has 645414 nodes and 39380139 edges\n",
      "CPU times: user 1min 8s, sys: 10 s, total: 1min 18s\n",
      "Wall time: 3min 34s\n"
     ]
    }
   ],
   "source": [
    "%%time\n",
    "# Split the 'subs' DataFrame into chunks\n",
    "df_chunks = split_dataframe(subs, num_workers)\n",
    "\n",
    "# Parallelize edge creation for the 'subs' edges\n",
    "with concurrent.futures.ProcessPoolExecutor(max_workers=num_workers) as executor:\n",
    "    # Submit tasks to workers and gather results\n",
    "    edges_chunks = list(executor.map(generate_edges_subs, df_chunks))\n",
    "\n",
    "# Combine the edges from all workers\n",
    "edges_subs = [edge for chunk in edges_chunks for edge in chunk]\n",
    "\n",
    "# Add edges to the graph\n",
    "G.add_edges_from(edges_subs, relationship='subs')\n",
    "\n",
    "# Display basic graph information after adding edges\n",
    "print(f\"Graph has {G.number_of_nodes()} nodes and {G.number_of_edges()} edges\")\n"
   ]
  },
  {
   "cell_type": "markdown",
   "metadata": {},
   "source": [
    "###  Adding edges based on likes"
   ]
  },
  {
   "cell_type": "code",
   "execution_count": 13,
   "metadata": {},
   "outputs": [
    {
     "name": "stdout",
     "output_type": "stream",
     "text": [
      "Graph has 645414 nodes and 39431538 edges\n",
      "CPU times: user 1min 14s, sys: 20 s, total: 1min 34s\n",
      "Wall time: 1min 50s\n"
     ]
    }
   ],
   "source": [
    "%%time\n",
    "# Step 1: Create a mapping of PostID to the user who owns the post (from the 'entries' DataFrame)\n",
    "post_owner_mapping = dict(zip(entries['PostID'], entries['PostedBy']))\n",
    "\n",
    "# Split the 'likes' DataFrame into chunks\n",
    "df_chunks = split_dataframe(likes, num_workers)\n",
    "\n",
    "# Parallelize edge creation for the 'likes' edges\n",
    "with concurrent.futures.ProcessPoolExecutor(max_workers=num_workers) as executor:\n",
    "    # Submit tasks to workers and gather results\n",
    "    edges_likes_chunks = list(executor.map(generate_edges_likes, df_chunks, [post_owner_mapping] * num_workers))\n",
    "\n",
    "# Combine the edges from all workers\n",
    "edges_likes = [edge for chunk in edges_likes_chunks for edge in chunk]\n",
    "\n",
    "# Add the edges to the graph\n",
    "G.add_edges_from(edges_likes, relationship='like')\n",
    "\n",
    "# Display basic graph information after adding edges\n",
    "print(f\"Graph has {G.number_of_nodes()} nodes and {G.number_of_edges()} edges\")"
   ]
  },
  {
   "cell_type": "markdown",
   "metadata": {},
   "source": [
    "###  Adding edges based on comment"
   ]
  },
  {
   "cell_type": "code",
   "execution_count": 14,
   "metadata": {},
   "outputs": [
    {
     "name": "stdout",
     "output_type": "stream",
     "text": [
      "Graph has 645414 nodes and 39562155 edges\n",
      "CPU times: user 1min 31s, sys: 23.1 s, total: 1min 54s\n",
      "Wall time: 2min 22s\n"
     ]
    }
   ],
   "source": [
    "%%time\n",
    "# Step 1: Create a mapping of EntryID (PostID in comments) to the user who owns the post (from the 'entries' DataFrame)\n",
    "post_author_mapping = dict(zip(entries['PostID'], entries['PostedBy']))\n",
    "\n",
    "# Split the 'comments' DataFrame into chunks\n",
    "df_chunks = split_dataframe(comments, num_workers)\n",
    "\n",
    "# Parallelize edge creation for the 'comments' edges\n",
    "with concurrent.futures.ProcessPoolExecutor(max_workers=num_workers) as executor:\n",
    "    # Submit tasks to workers and gather results\n",
    "    edges_comments_chunks = list(executor.map(generate_edges_comments, df_chunks, [post_author_mapping] * num_workers))\n",
    "\n",
    "# Combine the edges from all workers\n",
    "edges_comments = [edge for chunk in edges_comments_chunks for edge in chunk]\n",
    "\n",
    "# Add the edges to the graph\n",
    "G.add_edges_from(edges_comments, relationship='comment')\n",
    "\n",
    "# Display updated graph information\n",
    "print(f\"Graph has {G.number_of_nodes()} nodes and {G.number_of_edges()} edges\")"
   ]
  },
  {
   "cell_type": "code",
   "execution_count": 15,
   "metadata": {},
   "outputs": [
    {
     "name": "stdout",
     "output_type": "stream",
     "text": [
      "\n",
      "Minimum degree: 0 (Nodes: 1998)\n",
      "Maximum degree: 178290 (Nodes: 1)\n",
      "Average degree: 122.59\n",
      "Median degree: 9.0\n"
     ]
    }
   ],
   "source": [
    "# Get the degree of each node (the number of edges connected to each node)\n",
    "degree_counts = dict(G.degree())\n",
    "\n",
    "# Prepare a list of degree values\n",
    "degree_values = list(degree_counts.values())\n",
    "\n",
    "# Count the frequency of each degree value\n",
    "degree_distribution = Counter(degree_values)\n",
    "\n",
    "# Display the number of nodes for each degree (0 edges, 1 edge, 2 edges, etc.)\n",
    "# for degree, count in sorted(degree_distribution.items()):\n",
    "    # print(f\"Nodes with {degree} edges: {count}\")\n",
    "\n",
    "# Calculate min, max, average, and median of the degree values\n",
    "min_degree = np.min(degree_values)\n",
    "max_degree = np.max(degree_values)\n",
    "average_degree = np.mean(degree_values)\n",
    "median_degree = np.median(degree_values)\n",
    "\n",
    "# Count the number of nodes with min and max edges\n",
    "min_degree_count = degree_distribution[min_degree]\n",
    "max_degree_count = degree_distribution[max_degree]\n",
    "\n",
    "# Print statistics\n",
    "print(f\"\\nMinimum degree: {min_degree} (Nodes: {min_degree_count})\")\n",
    "print(f\"Maximum degree: {max_degree} (Nodes: {max_degree_count})\")\n",
    "print(f\"Average degree: {average_degree:.2f}\")\n",
    "print(f\"Median degree: {median_degree}\")"
   ]
  },
  {
   "cell_type": "markdown",
   "metadata": {},
   "source": [
    "### Plot samples from the likes in the network"
   ]
  },
  {
   "cell_type": "code",
   "execution_count": null,
   "metadata": {},
   "outputs": [],
   "source": []
  },
  {
   "cell_type": "code",
   "execution_count": 16,
   "metadata": {},
   "outputs": [
    {
     "data": {
      "image/png": "[encoded data removed]",
      "text/plain": [
       "<Figure size 400x400 with 1 Axes>"
      ]
     },
     "metadata": {},
     "output_type": "display_data"
    }
   ],
   "source": [
    "# Step 1: Specify the number of nodes to sample based on the most connections (highest degree)\n",
    "num_nodes_to_sample = 10  # Set your desired number of nodes\n",
    "\n",
    "# Get the degrees of all nodes (degree is the number of edges connected to a node)\n",
    "node_degrees = dict(G.degree())\n",
    "\n",
    "# Sort nodes by degree in descending order and select the top ones\n",
    "sampled_nodes = sorted(node_degrees, key=node_degrees.get, reverse=True)[:num_nodes_to_sample]\n",
    "\n",
    "# Step 2: Create a subgraph from the sampled nodes\n",
    "G_sampled = G.subgraph(sampled_nodes).copy()\n",
    "\n",
    "# Step 3: Prepare edge colors based on relationships\n",
    "edge_colors = []\n",
    "for u, v, data in G_sampled.edges(data=True):\n",
    "    relationship = data['relationship']\n",
    "    if relationship == 'following':\n",
    "        edge_colors.append('blue')\n",
    "    elif relationship == 'subs':\n",
    "        edge_colors.append('orange')\n",
    "    elif relationship == 'like':\n",
    "        edge_colors.append('green')\n",
    "    elif relationship == 'comment':\n",
    "        edge_colors.append('red')\n",
    "    else:\n",
    "        edge_colors.append('gray')\n",
    "\n",
    "# Step 4: Plot the sampled subgraph with colored edges\n",
    "plt.figure(figsize=(4, 4))  # Set the plot size\n",
    "nx.draw(G_sampled, node_size=500, edge_color=edge_colors, with_labels=True)\n",
    "\n",
    "# Step 5: Create a legend for the edges\n",
    "colors = {'following': 'blue', 'subs': 'orange', 'like': 'green', 'comment': 'red', 'other': 'gray'}\n",
    "\n",
    "# Create legend entries\n",
    "unique_relationships = set(data['relationship'] for _, _, data in G_sampled.edges(data=True))\n",
    "for relationship in unique_relationships:\n",
    "    plt.plot([], [], color=colors.get(relationship, 'gray'), label=relationship, linewidth=4)\n",
    "\n",
    "plt.title('Top Nodes Subgraph with Edge Colors by Relationship')\n",
    "plt.legend(title='Relationships', loc='upper right', bbox_to_anchor=(1, 1))\n",
    "plt.show()\n"
   ]
  },
  {
   "cell_type": "code",
   "execution_count": 17,
   "metadata": {},
   "outputs": [
    {
     "name": "stdin",
     "output_type": "stream",
     "text": [
      "I am waiting: ... \n"
     ]
    },
    {
     "name": "stdout",
     "output_type": "stream",
     "text": [
      "\n"
     ]
    }
   ],
   "source": [
    "print(input('I am waiting: ...'))"
   ]
  },
  {
   "cell_type": "code",
   "execution_count": 18,
   "metadata": {},
   "outputs": [
    {
     "name": "stdout",
     "output_type": "stream",
     "text": [
      "Node: br3adman, Degree: 178290\n",
      "Node: malikimrana1, Degree: 166401\n",
      "Node: sonergonul, Degree: 159406\n",
      "Node: phasuk111, Degree: 159201\n",
      "Node: omarabid, Degree: 143402\n",
      "Node: xahac, Degree: 133903\n",
      "Node: alpb, Degree: 109659\n",
      "Node: nickcodipietro, Degree: 108931\n",
      "Node: kimkardashian, Degree: 102530\n",
      "Node: kmorrison, Degree: 102211\n"
     ]
    }
   ],
   "source": [
    "# Create a list of tuples (node, degree) and sort by degree in descending order\n",
    "num_nodes_to_sample = 10\n",
    "sorted_nodes_with_degrees = sorted(node_degrees.items(), key=lambda item: item[1], reverse=True)[:num_nodes_to_sample]\n",
    "\n",
    "# Display the sorted nodes with their degrees\n",
    "for node, degree in sorted_nodes_with_degrees:\n",
    "    print(f\"Node: {node}, Degree: {degree}\")"
   ]
  },
  {
   "cell_type": "code",
   "execution_count": 19,
   "metadata": {},
   "outputs": [
    {
     "data": {
      "text/plain": [
       "7975"
      ]
     },
     "execution_count": 19,
     "metadata": {},
     "output_type": "execute_result"
    }
   ],
   "source": [
    "# Free up the memory\n",
    "del users, subs, following, comments, likes, entries\n",
    "gc.collect()"
   ]
  },
  {
   "cell_type": "markdown",
   "metadata": {},
   "source": [
    "### Save the network"
   ]
  },
  {
   "cell_type": "code",
   "execution_count": 25,
   "metadata": {},
   "outputs": [
    {
     "name": "stdout",
     "output_type": "stream",
     "text": [
      "Graph type: <class 'networkx.classes.digraph.DiGraph'>\n",
      "Number of nodes: 645414\n",
      "Number of edges: 39562155\n"
     ]
    }
   ],
   "source": [
    "num_nodes = G.number_of_nodes()\n",
    "num_edges = G.number_of_edges()\n",
    "\n",
    "# Print graph information\n",
    "print(f\"Graph type: {type(G)}\")\n",
    "print(f\"Number of nodes: {num_nodes}\")\n",
    "print(f\"Number of edges: {num_edges}\")"
   ]
  },
  {
   "cell_type": "markdown",
   "metadata": {},
   "source": [
    "with gzip.open('graph/graph.graphml.gz', 'wb') as f:\n",
    "    nx.write_graphml(G, f)\n"
   ]
  },
  {
   "cell_type": "code",
   "execution_count": 28,
   "metadata": {},
   "outputs": [],
   "source": [
    "# Extract only the edge tuples (without the edge attributes)\n",
    "batch_size = 4000000  # Number of edges per file\n",
    "\n",
    "# Extract only the edge tuples (ignoring the attributes)\n",
    "edges = [(u, v) for u, v, _ in G.edges(data=True)]\n",
    "\n",
    "for i in range(0, len(edges), batch_size):\n",
    "    chunk = edges[i:i + batch_size]\n",
    "    # Create a subgraph with these edges\n",
    "    subgraph = G.edge_subgraph(chunk)\n",
    "    nx.write_graphml(subgraph, f\"graph/graph_batch_{i//batch_size}.graphml\")\n"
   ]
  },
  {
   "cell_type": "code",
   "execution_count": 29,
   "metadata": {},
   "outputs": [
    {
     "name": "stdout",
     "output_type": "stream",
     "text": [
      "Edge from spaceastronautics to dontia has attributes: {'relationship': 'subs'}\n",
      "Edge from spaceastronautics to doruman10 has attributes: {'relationship': 'subs'}\n",
      "Edge from spaceastronautics to dotwonder has attributes: {'relationship': 'subs'}\n",
      "Edge from spaceastronautics to dougclose has attributes: {'relationship': 'subs'}\n",
      "Edge from spaceastronautics to douglance has attributes: {'relationship': 'subs'}\n",
      "Edge from spaceastronautics to douglasi has attributes: {'relationship': 'subs'}\n",
      "Edge from spaceastronautics to dougplanet has attributes: {'relationship': 'subs'}\n",
      "Edge from spaceastronautics to dpease has attributes: {'relationship': 'subs'}\n",
      "Edge from spaceastronautics to dpeter has attributes: {'relationship': 'subs'}\n",
      "Edge from spaceastronautics to draven666 has attributes: {'relationship': 'subs'}\n"
     ]
    }
   ],
   "source": [
    "# Missing attributes\n",
    "i = 0\n",
    "for u, v, attrs in G.edges(data=True):\n",
    "    print(f\"Edge from {u} to {v} has attributes: {attrs}\")\n",
    "    i += 1\n",
    "    if i == 10:\n",
    "        break"
   ]
  },
  {
   "cell_type": "code",
   "execution_count": null,
   "metadata": {},
   "outputs": [],
   "source": []
  }
 ],
 "metadata": {
  "kernelspec": {
   "display_name": "MiniConda",
   "language": "python",
   "name": "base"
  },
  "language_info": {
   "codemirror_mode": {
    "name": "ipython",
    "version": 3
   },
   "file_extension": ".py",
   "mimetype": "text/x-python",
   "name": "python",
   "nbconvert_exporter": "python",
   "pygments_lexer": "ipython3",
   "version": "3.12.4"
  }
 },
 "nbformat": 4,
 "nbformat_minor": 4
}
