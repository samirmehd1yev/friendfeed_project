{
  "cells": [
    {
      "cell_type": "markdown",
      "id": "c5e91c60",
      "metadata": {},
      "source": [
        "# Community Detection in FriendFeed Network - Leiden Method\n",
        "\n"
      ]
    },
    {
      "cell_type": "code",
      "execution_count": 1,
      "metadata": {},
      "outputs": [
        {
          "name": "stdout",
          "output_type": "stream",
          "text": [
            "Number of user IDs in 'userID' not in 'users': 0\n",
            "Number of user IDs in 'PostedBy' not in 'users': 0\n"
          ]
        }
      ],
      "source": [
        "\n",
        "## 1. Import Libraries and Load Data\n",
        "import dask.dataframe as dd\n",
        "import igraph as ig\n",
        "import leidenalg\n",
        "import gc\n",
        "import numpy as np\n",
        "import time\n",
        "from collections import Counter, defaultdict\n",
        "import matplotlib.pyplot as plt\n",
        "import warnings\n",
        "\n",
        "# Plotting settings\n",
        "%matplotlib inline\n",
        "warnings.filterwarnings(\"ignore\", category=FutureWarning)\n",
        "\n",
        "# Start timing\n",
        "start_time = time.time()\n",
        "\n",
        "# Load preprocessed data with Dask\n",
        "users = dd.read_parquet('processed_data/users_cleaned.parquet')\n",
        "subs = dd.read_parquet('processed_data/subs_cleaned.parquet')\n",
        "following = dd.read_parquet('processed_data/following_cleaned.parquet')\n",
        "comments = dd.read_parquet('processed_data/comments_cleaned.parquet')\n",
        "likes = dd.read_parquet('processed_data/likes_cleaned.parquet')\n",
        "entries = dd.read_parquet('processed_data/entries_cleaned.parquet')\n",
        "\n",
        "# Verify that all user IDs in interactions exist in the users DataFrame\n",
        "def verify_user_ids(interaction_df, user_column_name):\n",
        "    interaction_user_ids = set(interaction_df[user_column_name].unique().compute())\n",
        "    user_ids = set(users['ID'].unique().compute())\n",
        "    missing_user_ids = interaction_user_ids - user_ids\n",
        "    print(f\"Number of user IDs in '{user_column_name}' not in 'users': {len(missing_user_ids)}\")\n",
        "    if len(missing_user_ids) > 0:\n",
        "        print(f\"Sample of missing user IDs: {list(missing_user_ids)[:10]}\")\n",
        "\n",
        "# Run verification\n",
        "verify_user_ids(likes, 'userID')\n",
        "verify_user_ids(entries, 'PostedBy')\n"
      ]
    },
    {
      "cell_type": "code",
      "execution_count": 2,
      "id": "fa4709dc",
      "metadata": {},
      "outputs": [
        {
          "name": "stdout",
          "output_type": "stream",
          "text": [
            "users shape: (645414, 4)\n",
            "subs shape: (24761879, 2)\n",
            "following shape: (18477145, 3)\n",
            "comments shape: (2835155, 6)\n",
            "likes shape: (427214, 3)\n",
            "entries shape: (10954103, 5)\n"
          ]
        }
      ],
      "source": [
        "# Function to print shape of Dask DataFrames\n",
        "def print_dask_shape(df, name):\n",
        "    row_count = df.shape[0].compute()\n",
        "    col_count = len(df.columns)\n",
        "    print(f\"{name} shape: ({row_count}, {col_count})\")\n",
        "\n",
        "# Print shapes for each DataFrame\n",
        "print_dask_shape(users, 'users')\n",
        "print_dask_shape(subs, 'subs')\n",
        "print_dask_shape(following, 'following')\n",
        "print_dask_shape(comments, 'comments')\n",
        "print_dask_shape(likes, 'likes')\n",
        "print_dask_shape(entries, 'entries')\n"
      ]
    },
    {
      "cell_type": "code",
      "execution_count": 3,
      "metadata": {},
      "outputs": [
        {
          "name": "stdout",
          "output_type": "stream",
          "text": [
            "Graph initialized with 645414 nodes.\n",
            "Added 18477145 'following' edges with weight 1. Total edges: 18477145\n",
            "Added 24761879 'subs' edges with weight 1. Total edges: 43239024\n",
            "Added 370687 'like' edges with weight 2. Total edges: 43609711\n",
            "Added 2623974 'comment' edges with weight 3. Total edges: 46233685\n"
          ]
        }
      ],
      "source": [
        "# Initialize the Graph\n",
        "G = ig.Graph(directed=True)\n",
        "\n",
        "# Add nodes for users\n",
        "G.add_vertices(users['ID'].compute().tolist())\n",
        "print(f\"Graph initialized with {G.vcount()} nodes.\")\n",
        "\n",
        "# Define weights for different interaction types\n",
        "interaction_weights = {'following': 1, 'subs': 1, 'like': 2, 'comment': 3}\n",
        "\n",
        "# Helper function to add weighted edges\n",
        "def add_weighted_edges(df, source_col, target_col, relationship_type):\n",
        "    # Retrieve source-target pairs and compute them in-memory\n",
        "    edges = df[[source_col, target_col]].compute().values\n",
        "    weight = interaction_weights[relationship_type]\n",
        "    \n",
        "    # Ensure we pass only pairs for edges\n",
        "    G.add_edges([(edge[0], edge[1]) for edge in edges])  \n",
        "    # Assign weights and relationship type attributes\n",
        "    G.es[-len(edges):]['relationship'] = relationship_type\n",
        "    G.es[-len(edges):]['weight'] = [weight] * len(edges)  # Set weight for each added edge\n",
        "    print(f\"Added {len(edges)} '{relationship_type}' edges with weight {weight}. Total edges: {G.ecount()}\")\n",
        "\n",
        "# Add edges for 'following' and 'subs'\n",
        "add_weighted_edges(following, 'FollowerID', 'FollowedID', 'following')\n",
        "add_weighted_edges(subs, 'FollowerID', 'FollowedID', 'subs')\n",
        "\n",
        "# Prepare mappings for post authors\n",
        "post_author_entries = dict(zip(entries['PostID'].compute(), entries['PostedBy'].compute()))\n",
        "post_author_comments = dict(zip(comments['PostID'].compute(), comments['PostedBy'].compute()))\n",
        "post_author_mapping = {**post_author_entries, **post_author_comments}\n",
        "\n",
        "# Filter out edges with None values for 'like' edges\n",
        "likes_edges = [(row['userID'], post_author_mapping.get(row['PostID'])) for _, row in likes.iterrows()]\n",
        "likes_edges = [(source, target) for source, target in likes_edges if source is not None and target is not None]\n",
        "\n",
        "# Add to graph with weight for 'like'\n",
        "G.add_edges(likes_edges)\n",
        "G.es[-len(likes_edges):]['relationship'] = 'like'\n",
        "G.es[-len(likes_edges):]['weight'] = [interaction_weights['like']] * len(likes_edges)\n",
        "print(f\"Added {len(likes_edges)} 'like' edges with weight {interaction_weights['like']}. Total edges: {G.ecount()}\")\n",
        "\n",
        "# Clear intermediate variables to free memory\n",
        "del likes_edges\n",
        "gc.collect()\n",
        "\n",
        "# Filter out edges with None values for 'comment' edges\n",
        "comments_edges = [(row['PostedBy'], post_author_entries.get(row['EntryID'])) for _, row in comments.iterrows()]\n",
        "comments_edges = [(source, target) for source, target in comments_edges if source is not None and target is not None]\n",
        "\n",
        "# Add to graph with weight for 'comment'\n",
        "G.add_edges(comments_edges)\n",
        "G.es[-len(comments_edges):]['relationship'] = 'comment'\n",
        "G.es[-len(comments_edges):]['weight'] = [interaction_weights['comment']] * len(comments_edges)\n",
        "print(f\"Added {len(comments_edges)} 'comment' edges with weight {interaction_weights['comment']}. Total edges: {G.ecount()}\")"
      ]
    },
    {
      "cell_type": "code",
      "execution_count": 4,
      "id": "cf223455",
      "metadata": {},
      "outputs": [
        {
          "name": "stdout",
          "output_type": "stream",
          "text": [
            "Graph has 645414 nodes and 44671399 edges after removing self-loops.\n"
          ]
        }
      ],
      "source": [
        "# Remove self-loops by selecting edges where the source and target vertices are the same\n",
        "self_loop_edges = G.es.select(lambda e: e.source == e.target)\n",
        "G.delete_edges(self_loop_edges)\n",
        "\n",
        "print(f\"Graph has {G.vcount()} nodes and {G.ecount()} edges after removing self-loops.\")\n"
      ]
    },
    {
      "cell_type": "code",
      "execution_count": 5,
      "metadata": {},
      "outputs": [
        {
          "name": "stdout",
          "output_type": "stream",
          "text": [
            "Number of communities detected: 4768\n"
          ]
        }
      ],
      "source": [
        "## 3. Community Detection with Leiden Algorithm\n",
        "# Run the Leiden algorithm\n",
        "partition = leidenalg.find_partition(G, leidenalg.ModularityVertexPartition, weights='weight')\n",
        "print(f\"Number of communities detected: {len(set(partition.membership))}\")\n"
      ]
    },
    {
      "cell_type": "code",
      "execution_count": 6,
      "id": "75cb6441",
      "metadata": {},
      "outputs": [
        {
          "name": "stdout",
          "output_type": "stream",
          "text": [
            "Modularity Score: 0.4594\n",
            "Quality Score: 0.4927\n"
          ]
        }
      ],
      "source": [
        "# Modularity score - measure of the strength of community structure\n",
        "modularity_score = partition.modularity\n",
        "print(f\"Modularity Score: {modularity_score:.4f}\")\n",
        "\n",
        "# score of the partition\n",
        "score = partition.quality()\n",
        "print(f\"Quality Score: {score:.4f}\")"
      ]
    },
    {
      "cell_type": "code",
      "execution_count": 7,
      "id": "162a30c1",
      "metadata": {},
      "outputs": [
        {
          "name": "stdout",
          "output_type": "stream",
          "text": [
            "Community 0: 202355 nodes\n",
            "Community 1: 69721 nodes\n",
            "Community 2: 68536 nodes\n",
            "Community 3: 53465 nodes\n",
            "Community 4: 35667 nodes\n",
            "Community 5: 33781 nodes\n",
            "Community 6: 32778 nodes\n",
            "Community 7: 29481 nodes\n",
            "Community 8: 22117 nodes\n",
            "Community 9: 19105 nodes\n"
          ]
        }
      ],
      "source": [
        "# Map each node to its community\n",
        "community_mapping = dict(zip(G.vs['name'], partition.membership))\n",
        "# Calculate and display community sizes\n",
        "community_sizes = Counter(partition.membership)\n",
        "top_communities = community_sizes.most_common(10)\n",
        "for comm_id, size in top_communities:\n",
        "    print(f\"Community {comm_id}: {size} nodes\")"
      ]
    },
    {
      "cell_type": "code",
      "execution_count": 8,
      "id": "871cb653",
      "metadata": {},
      "outputs": [
        {
          "name": "stdout",
          "output_type": "stream",
          "text": [
            "Length of the communities: 4768\n"
          ]
        }
      ],
      "source": [
        "# length of the communities\n",
        "print(f\"Length of the communities: {len(community_sizes)}\")"
      ]
    },
    {
      "cell_type": "code",
      "execution_count": 9,
      "id": "4f251d16",
      "metadata": {},
      "outputs": [
        {
          "name": "stdout",
          "output_type": "stream",
          "text": [
            "Number of communities with fewer than 2 nodes: 2045\n"
          ]
        }
      ],
      "source": [
        "# Count the number of communities with fewer than 2 nodes\n",
        "count_small_communities = sum(1 for size in community_sizes.values() if size < 2)\n",
        "\n",
        "print(f\"Number of communities with fewer than 2 nodes: {count_small_communities}\")\n"
      ]
    },
    {
      "cell_type": "code",
      "execution_count": 17,
      "id": "ce9c7c30",
      "metadata": {},
      "outputs": [
        {
          "name": "stdout",
          "output_type": "stream",
          "text": [
            "Top 10 nodes by degree: ('br3adman', 'malikimrana1', 'sonergonul', 'phasuk111', 'omarabid', 'xahac', 'nickcodipietro', 'alpb', 'mashable', 'kimkardashian', 'kmorrison', 'uforella', 'foreveradog', 'seoptimise', 'jsin', 'gustavogualbert', 'donkayvan', 'theguruseye', 'qwreck', 'farcecars', 'leolaporte', 'elena170364', 'courtneyengle', 'josemarbessa', 'bejoyru', 'spaceastronautics', 'barackobama', 'johnarcews', 'carrolltrust', 'ludwikc', 'garinkilpatrick', 'billromanos', 'donfuxx', 'ridwan2906', 'tavria', 'robangeles', 'webbizplan', 'streetmachine', 'derekhaines', 'puffaddering', 'kevinrose', 'profitbaron', 'freelance2day', 'mbl', 'micheleficara', 'veronicabelmont', 'toddhuff1234', 'denverflower', 'chrisvoss', 'livecrunch', 'jasoncalacanis', 'typojar', 'stejules', 'denversolarguy', 'dinovedo', 'envisiongroup', 'technotodd', 'webmelhor', 'b2b', 'techwall', 'lightandcomposition', 'miapo', 'aemailmarketing', 'whizbuzz1', 'steffanantonas', 'revtrev', 'dindasheeva', 'danschawbel', 'branislavchrastina', 'peterrobertcasey', 'moneyhackers', 'healthcarenewsupdates', 'marrows', 'tweetwithsteve', 'denverartsygal', 'l0ckergn0me', 'zee', 'bluefur', 'welovedates', 'pingmedia', 'davesaunders', 'deanholmes', 'iamdiddy', 'louisgray', 'allfriends', 'apptacious', 'abdurrakib', 'cnnbrk', 'goforyourdream', 'milomoonhere', 'praguebob', 'iksa01', 'denversnowdude', 'kinlan', 'olvias', 'bigcreekbill', 'denverfoodguy', 'thepianomarket', 'factday', 'evhead')\n",
            "Communities for top 10 nodes: (0, 0, 0, 0, 0, 0, 5, 0, 0, 0, 0, 0, 0, 0, 0, 0, 0, 0, 0, 0, 0, 0, 0, 2, 0, 0, 3, 0, 6, 0, 0, 0, 0, 0, 2, 0, 0, 6, 2, 0, 0, 0, 6, 5, 0, 0, 0, 0, 0, 0, 0, 2, 0, 0, 0, 0, 0, 2, 0, 0, 2, 0, 0, 2, 0, 2, 2, 0, 0, 0, 0, 0, 0, 2, 0, 0, 0, 0, 0, 0, 0, 0, 0, 0, 0, 0, 2, 3, 2, 2, 2, 2, 2, 0, 2, 0, 2, 0, 0, 0)\n",
            "top node value count Counter({0: 75, 2: 18, 6: 3, 5: 2, 3: 2})\n"
          ]
        }
      ],
      "source": [
        "# Get the degrees for all nodes\n",
        "node_degrees = [(node.index, node.degree()) for node in G.vs]\n",
        "\n",
        "# Sort nodes by degree in descending order and select the top 100\n",
        "top_10_nodes = sorted(node_degrees, key=lambda x: x[1], reverse=True)[:100]\n",
        "\n",
        "# Get the names and communities of the top 100 nodes\n",
        "top_nodes_info = [(str(G.vs[node_id]['name']), community_mapping[G.vs[node_id]['name']]) for node_id, _ in top_10_nodes]\n",
        "top_node_names, top_nodes_communities = zip(*top_nodes_info)\n",
        "\n",
        "# Print the results\n",
        "print(f\"Top 10 nodes by degree: {top_node_names}\")\n",
        "print(f\"Communities for top 10 nodes: {top_nodes_communities}\")\n",
        "print(f\"top node value count {Counter(top_nodes_communities)}\")"
      ]
    },
    {
      "cell_type": "code",
      "execution_count": 18,
      "id": "92628d44",
      "metadata": {},
      "outputs": [
        {
          "name": "stdout",
          "output_type": "stream",
          "text": [
            "Total single-user communities: 2045\n",
            "User IDs in single-user communities: ['drmnmlk', 'dudude', 'ebuu', 'elaryan', 'erenhatirnaz', 'fadetobright', 'ferideceylan', 'fmgraphics', 'forget', 'gbirkett', 'gemma', 'gmania', 'incesticide', 'informedidiot', 'irishsideofmoon', 'ivancokrajcovic', 'jack100', 'jcporter1', 'jodyengland1', 'jordi4', 'josephdsmithjr', 'juliecarr', 'earfun', 'hermielazaro', 'kamraj', 'hoboot1', 'kassyjohnson', 'katapult', 'katetanita', 'kbipropertiesllc', 'kernal', 'korhansonmezsoy', 'lazarustaylor', 'linkster', 'lizardqueen', 'lmg', 'lydiawee', 'koutheir', 'mahooch', 'marianatalavera', 'marinutri', 'markchew', 'mazdak1', 'mdryan', 'millenareis', 'miptalk', 'davideridolfi', 'azizfoladvand', 'laroussibenyacoub', 'mojoyugen', 'mustyrhymer', 'ncollette', 'no2coldcalling', 'omargatti', 'paisa', 'panzullo', 'paolacaggia', 'paulmenard', 'pcextra', 'pclifton', 'piccoloimprenditore', 'pierremarques', 'pino', 'purna', 'caxonturse', 'baykiz', 'raissazhou', 'rasoul', 'bilallekesiz1', 'buy-n-sellhouses', 'realmagazine', 'reyes6diaz', 'ryahne', 'samgoli', 'scottfree', 'sczcz', 'sexylover', 'shahram2', 'sheffieldjobsuk', 'sjoerd', 'soulboy37', 'susanandrews', 'tayyab4c1', 'test-engineer', 'thechicagobears', 'timrushworth', 'marcintartas', 'natalieedwards', 'vanessa659ygcp', 'vardoger', 'vivekdevaiah', 'wallpapers123', 'weldonlee', 'whenalone', 'elodievialle', 'emirtekeliolu', 'eparan', 'epitome1', 'esset', 'fabrizioalbertazzi', 'fesr', 'fltodaycds', 'franzi78', 'fuka', 'ginosmom', 'golanicolas', 'golnoosh68', 'guestpass33', 'hamdyhassouna', 'hameed', 'horaha', 'hosei', 'ibrahim104', 'ilders', 'intersky', 'jackjohnsonmus', 'jaefsih', 'jasonweaver', 'edwarren', 'johnsmith1', 'jonathancohen', 'jonathanmackenzie', 'jrm200306', 'annetteaikenwasharper', 'gloriastradtman', 'justcw', 'khagiya2', 'kisava', 'kwyj', 'liamcampbell', 'konutkredisi', 'lydiamarine', 'ikyknyobabubah', 'majidn', 'marcelo3844', 'martin241', 'maryamhaddad', 'massimogalasso', 'matee', 'matt4fb', 'maurobonini', 'melekdoruel', 'merabet', 'ati405', 'koopdeta', 'mrdavidberry', 'mrgreenheart', 'nadirakbyk', 'nerdgod', 'niogong', 'oes', 'ondrik', 'otadea', 'paulpalmer', 'pingsitess', 'poopool', 'pradeep4', 'caryhome', 'qvwt5', 'cuban', 'kuomeisun', 'inmobiliariachilesur', 'recepkl', 'rheinlanddiva', 'samjfung', 'savas58', 'calliesink', 'shalab', 'shaman1', 'sum41', 'suzisuzi', 't00fan', 'takase', 'thecreditreport', 'thelmadreyer', 'theshutterbug', 'toninholima', 'memblue13', 'tramsmail', 'trancy', 'ulaevirgen', 'unclefester', 'vitaminsiztrtl', 'vonzone', 'wasakearn', 'zayiflamamerkezi', 'zyhe', 'drborajaelcatalnpino', 'edbro', 'evaola', 'evgenyfomenko', 'fearchar', 'fiveriversmarketing', 'frankiefoofoo', 'frankmillar', 'gharanligh', 'giuseppescoppet', 'glazemoo', 'greateagletech', 'greecorey', 'gssmr', 'hayaletsurucu', 'hehimself', 'henacho8', 'ikayjay', 'imnotacamgirl', 'isillllll', 'jackwetmore', 'jasonyelvington', 'jimeto', 'johnhpatton', 'jat1', 'gregsilletto', 'kamilia', 'anny', 'abdevg', 'aingealrose', 'jingleangel', 'leeannyatesoneil', 'lherb3', 'lixo-eletronico', 'lotus1008', 'angelafranceschini', 'maemoworldru', 'bellboyd', 'alanben', 'especialmatch', 'mendarogregory', 'moradt', 'msrandall', 'my-private-feed', 'ndj', 'orcunkulluk', 'orgzem', 'osmanelagz', 'p2prince', 'pam', 'philkleingeld', 'pnaseri', 'q8y', 'raiders69247', 'jaw', 'ranowd', 'daelph', 'reannon', 'refinedone', 'ronyoung', 'royalts', 'sepa', 'serhio', 'seyda86', 'siaglafkides', 'skoczen', 'southayteen', 'ssass', 'startrekkersblog', 'survivestyle', 'teddylow', 'theomoody', 'aldosajulien', 'timsaunders', 'ayudafamiliar', 'toromeccanica1', 'valhalla', 'vijay2702', 'xir1', 'yeni-medya', 'yildizhuseyin', 'yuehu', 'yuksfiord', 'futuredave', 'abhishekbhandari1', 'globalenergywars1', 'hairyarmpit', 'helpseeker', 'hyperplayer7', 'ideaslittle', 'incare', 'islamicsufism', 'isouljaboydotcom', 'jackho', 'jarana', 'jglasspool', 'joey25', 'bapco', 'anathemedemax', 'fredibale', 'kamleshdh', 'huseyinturgut', 'carlps', 'greggring', 'ezmanyaakob', 'korzay', 'l1l1', 'lala511', 'lewentahnn', 'laniha', 'iflexmedia', 'maekmekci', 'gazizgaz', 'b-te', 'mashkurkabuli', 'mattcharltonuk', 'merlinbricoleur', 'greenwave88', 'moneyakash', 'mtantawy', 'mustafame', 'myfeed', 'nastaranalinejad', 'neox', 'nonoliza', 'notab', 'nulla-poena-sine-lege1', 'ogdenduner', 'okeydokey', 'omedhhas', 'parvizacm', 'paulshearermusic', 'picarati', 'playashaw', 'projects4students', 'mitrich1980', 'naf1488', '1cap', 'relaxedguy', 'renatapitangadealcntara', 'ringbark', 'robertojaramillo', 'rockyromero', 'sarahadam96', 'cindypalmer', 'serickson', 'setsu', 'sezenis', 'simisimo', 'sopanshewale', 'spathinator', 'suzukimidori', 'tattbrat', 'timvp', 'trinityhasit', 'tufankaskavalci', 'ufos', 'cannl', 'vincenthoang', 'wiessnersweintipps', 'winniel', 'xiaohaier', 'xutianchen', 'yaboo', 'yargan', 'yingying', 'zahraabdolahi', 'zuvay59', 'dunu', 'e2esound', 'ephi', 'ereztyanuvbarzilay', 'extraordinary-thing', 'gchung', 'glennart', 'grkvlt', 'havjin', 'hh72', 'hlengwa', 'jasonculden', 'jessica5', 'jgoodwi2', 'jhayes1', 'jlscene', 'jmleal', 'daddynanny', '2-plus-7', 'aqwblog', 'joshuamulligan', 'kamrankadioglu', 'khalghezi', 'joeasy', 'linjingxian', 'bybozz', 'harelguy', 'allyzaacuna', 'frankgo', 'josh322', 'kittymay', 'magee', 'atos-origin-global', 'mailoog', 'markwhite1', 'matthew26', 'mehmetaligamsz', 'asmanehdotcom', 'kuroosh', 'negr', 'nilayhallolu', 'nomzi', 'noticiasmarainmaculada', 'olesha', 'piperandy', 'podgorny', 'puppydogblue', 'pxt111', 'fudge-org', 'ict-telecom', 'richardmorisset', 's4t4n1st', 'sarah31', 'semerci', 'sen123', 'shontaysia', 'shuyashan', 'slopeir', 'test-muhendisligi', 'tyler5', 'urduni', 'usdirect', 'vermatrix', 'whs2smugmug', 'worldoutreachwest', 'wpuzmani', 'xichengnanhai', 'zeonix', 'dryn', 'eddyyoung', 'edi2', 'eduard', 'eerpisco', 'elyjobsuk', 'engincce', 'etyka', 'eurovikend', 'fantasy-sports-chatter', 'fran15', 'gavte', 'gerald3', 'gerg', 'google-io', 'hadirezaee', 'hakanvurgun', 'harunyasar1', 'hirathapa', 'inz', 'jasonthompson1', 'joomla6teen', 'joonsue', 'juliebledsoe', 'famiva', 'justsue', 'justynacader', 'kelikbuntu', 'kevindriscoll70', 'kevser', 'king1157', 'beverlymullins', 'komyozaw', 'kylesisk', 'jucaoliang', 'jtshortlidge', 'lilith26', 'lorenzoce', 'luisita584', 'macmaestro1', 'fatimad', 'mahmut14', 'johnprice', 'baselsawalha', 'marciocafundo', 'marcogovoni', 'marti90', 'martson', 'mdhumphreys', 'meeow47601', 'meralglgeli', 'miamidolphins', 'michellea', 'mobileturner', 'modibo', 'danburgess', 'julia85', 'mora2212', 'murat387', 'mustafagazipasa', 'mutlulukefendisi', 'neimarguerra', 'nevalezer', 'nickmoz', 'ogo', 'ositaguai', 'pablo67', 'paranoidagent', 'pttict', 'dqchina', 'olyagogolya', 'ajzc', 'gautu', 'rassoulteimouri', 'raulantoniodiazvenegas', 'rezaparvini', 'rheddog', 'shakthi1', 'sonsuzdilek', 'tenseiro', 'thomasrickenbackerr', 'tinamae', 'evolv-health', 'tzo', 'u8huch', 'unismartin', 'generic10', 'yardworkerz', 'duyguuoz', 'elcajun', 'ente', 'fans-liga-inggris', 'flashmeditation', 'fornewskin', 'gurl23', 'gvalva87', 'helenafred', 'hotelgemma', 'iiwisher', 'imdoug', 'jane92731', 'jasminefiore', 'javidkarimi', 'jeanclaude2', 'emiliopaez', 'kaanyrek', 'kamanvar', 'karaman', 'karencrabtree', 'kingcurtis', 'kartinki', 'kodeewicklund', 'kaare', 'anko16', 'loanaudit', 'loreray', 'alaruss', 'margarethjolie', 'meadowlark1', 'metliving', 'isilay90', 'michael46', 'moonwhisper', 'mtahot', 'ndchand', 'nichkhun', 'nishant2', 'noonoosh68', 'omerfarukbozkurt', 'onrec', 'papercement', 'patrickbudden', 'peacelover', 'pepsic', 'peroo', 'philipcrewe', 'plinko', 'salima', 'sandiegodivorcelawyer', 'sapserviceuk', 'shahabeddingh', 'shanica', 'shotglass', 'slec', 'sleep1', 'smithamax', 'steventp', 'stevetriner', 'techreviews', 'terrence', 'theframes', 'timseal', 'tolgaaltn', 'vodafonelive', 'volleynieuws', 'williamlittle', 'wtamu1910', 'wtnts', 'yeni-medya-pazarlama', 'yeyenong', 'yunussmihmandar', 'elghali', 'elpredicadoryelmisionero', 'evanderkleijn1', 'eypkadir', 'faikkeklik', 'felipiac', 'festusokumu', 'ghass09', 'giuliok', 'gkdave', 'grietli', 'guro40', 'hermanhernandez', 'hildajvergara', 'hybridshift', 'jasmineelnadeem', 'jasoninocelda', 'jewelsite', 'jing1991', 'jkjuh', 'juandalocoss', 'chaibaldovino', 'jxexsxs', 'k157987', 'kaanberk', 'kareembarcelona', 'karlox', 'katie10', 'keefer', 'keiopal', 'kemanci', 'kkhdaverdi', 'lajuj', 'doyalharidas', 'leftlabtv', 'alexinchinavalue', 'loosupaya', 'luca2', 'lucasyorick', 'luigi6767', 'anamarisol', 'cynthiasusanmadderra', 'jnicolette', 'cjmayoral', 'hosseinb', 'manuel17', 'marikaa', 'marinajumeirah', 'mastergrillers', 'melekim1', 'miamiheat', 'mikekeener', 'milkshakemelody', 'mla-groovers', 'foori', 'ciciamiau', 'mousse74', 'musousha', 'nunush', 'oliverbreckon', 'osquest', 'phoenixwomyn', 'pozgonul', 'psolaimani', 'quadirahamedshaikshaik', 'rabbitrip', 'rajeevbajpai', 'christinamariaselvam', 'gairola', 'recklezz', 'reggi', 'regrettin', 'renaissanceperformers', 'richardwagner', 'rizwanaftab', 'rusha84', 'sabanaydin', 'sametkorkmaz', 'sara67', 'seaf', 'seidk', 'shahramk', 'shehriali', 'spirituality1', 'sudabehdavalou', 'sweeytie', 'thekraftykats', 'rickbp1', 'jungetonhalle', 'fbionline', 'djanowski', 'trendtube', 'tugrulcelik', 'unknown822', 'wandrews', 'winslowdalpe', 'wyleyj', 'xiangwei', 'yunusyrk', 'duplication-of-success', 'dwightpd', 'ecto', 'ekianti', 'erospoli', 'estratagemma', 'excycles', 'ezwayhouses1', 'farid67', 'fawazjee', 'frankglaser', 'gigib', 'angelahepburn', 'goncadogu', 'guojiaying', 'hakub', 'ibrahim51', 'igor11', 'japanfriend', 'javid2', 'jeremyroman', 'jhongar', 'jimmckitrick', 'beaumontdesign', 'jungsand', 'anthonyquizon', 'kaandemircelik', 'kcrt', 'kevinmayhand', 'caitlinelizabethbower', 'kingsporttn', 'limbs2009', 'lindady', 'filipeborges', 'loura1', 'fantastik', 'dougleather', 'mane-s-room', 'marklyndon', 'mdrake', 'mehmetugurgokturk', 'michaelsoliman', 'mikewillettshc', 'minniedanbegornia', 'catrell', 'mrbigsong', 'mrflower', 'nare', 'nextbigfutur', 'nicktaptiklis', 'onurzolu', 'otagorailtrail', 'p1983p', 'pellini', 'peter-bither', 'philippebocuse', 'pncjs', 'portalzinetv', 'prabhakar143', 'lurtz', 'efange777', 'markvandorp', 'javierhernandez', 'rgemelli', 'rhasanen', 'rickgrant', 'ritz10', 'ryanchow', 'salllka', 'saotai', 'sercanyildirim', 'serendipityyy', 'shavi', 'showpanoromochka', 'sikisikibaba', 'simonasantandrea', 'smtbcn', 'socalswar', 'sqa', 'ssddff', 'superslow', 'suzannejezekarriaga', 'taimur2', 'tomwbrowning', 'francoisbriez', 'apartment2a', 'travarchiveru', 'uktvl', 'universalat', 'nys', 'vahitocek', 'willso', 'wowd', 'wyrd', 'ymac', 'zhangjie', 'drspet', 'farhad9', 'ferityuksel', 'fuckyou', 'gdawg123', 'davebilyeu', 'ecoo', 'gomesnayagam', 'grannyof6', 'gugukdevleti', 'gunsteen', 'hasanshahsavaran', 'helensinki', 'hodgie', 'idinsasani', 'jacksonatomic', 'jaymaven', 'johnhendo', 'jonathanaubry', 'galialuztamayordguez', 'jugbotarium', 'julianseo71', 'idadahabrah', 'karstense', 'kharlavanesavillasanaqui', 'kos1', 'kristens', 'iremoz', 'akay80', 'lokloklok', 'lokng', 'ivyyap', 'gaz32', 'mademoisellecrazy', 'marinewebclub', 'mattthemanmachine', 'menson', 'meshackdotcom', 'mesneanoi', 'michaelsmith4', 'milenaaa', 'miyanero', 'mkhened', 'mohama22', 'abrookscwb', 'mozolozo', 'mrheyer', 'navi', 'ncm', 'near-east-university', 'netbebegi1', 'nilberry', 'notimportant5', 'otaku-group', 'pattyhines', 'peacheslea', 'pennyc', 'philbarter', 'photodrome', 'pittsd', 'henrysmom', 'pyr8hd', 'drafet', 'dalilamahammer', 'guillemades', 'rock-paper-shotgun', 'rosella', 'rossa88', 'rostved', 'ruzzantii', 'sadoun', 'seppi2115', 'shamanism', 'sharonnafrady', 'shyftr', 'sid5', 'sirj', 'sjaandre', 'snardizzi', 'stephenhackett', 'sumapro', 'sweethome1', 'tcastillolozano', 'torontodev', 'celiarivera', 'toy85', 'tristanrineer', 'trunalthakre', 'uerta', 'bbusenazz', 'veegee6', 'veno', 'vietnamcarswell', 'webinfomatrix09', 'williamjhertaniii', 'wwbarroso', 'yak-n-do-u-universitesi', 'zentree', 'adamsd', 'adsgola', 'ah62', 'ahmadhamid', 'amasde', 'amilnichigo', 'amirhosseinshafie', 'angelo5', 'ardas', 'armaduck', 'axxtest', 'aysegulguven', 'beachrain', 'behroz', 'alexsupertramp', 'boydchan1', 'calculus', 'christchurchplano', 'cienfuegoslv1957', 'damis648', 'darkbaronsub', 'darr1', 'autoprofilelau', 'chirovip04x03f', 'casperboo', 'chrislawley', 'afrikaans', 'dfguyter', 'dianebenning', 'dipson', 'dreammarchant', 'dressel', 'fairpoint', 'felix69', 'fengheuk', 'folo', 'france2', 'gabrielecarrieri', 'grimviolins', 'gustavocortes', 'hajmehdimotherfucker', 'hasteyeeback', 'herlifetips', 'jigoantonio', 'johngish', 'jonkenator', 'kal32205', 'cincinatus', 'iammikezhang', 'kleindavis', 'krasniymak17', 'laelda', 'latifegrkan', 'leonidaf', 'lirothen', 'emmafleet', 'coralbux', 'lrussell1', 'maca', 'gerda', 'jamiehowlett', 'maozhu', 'marcello68', 'marshallgetto', 'massimilianoorlandi', 'melissalouise', 'mikapon', 'mugekundak', 'nansy1', 'peterz', 'rashbrm', 'rbn4en', 'rokummm', 'samedayloans', 'savehorse', 'selcuk78', 'sezmur', 'stevenplastner', 'stilgar91', 'takahashiaki', 'tatsuyamizuno', 'thebilingualgringo', 'therealallahcc', 'askaplumber', 'avangardstroim', 'cattme', 'tunse', 'twitterlists', 'utahlawtalk', 'vintage', 'wari', 'wesleycutlip', 'xemuj', 'xtreme-djs-lounge', 'yasinerdogan', 'yentzuhsuan', 'yikes10036', 'yomanhernanforonda', 'zhichixiaod', '0time', '278276695', 'aaronjohnson1', 'adhacqanes', 'ahmetsari42', 'akangel', 'akihirowalld', 'alexisad', 'alicarllos', 'alirahim', 'altays', 'annettejennings', 'aviperj', 'bahadrs', 'affinitymarketinginc', 'aylin6', 'behroozvalipour', 'beijingolympic', 'benrichards', 'biblioragazziletture', 'billfisher', 'bitahamidi', 'bjbfriends', 'bone', 'burstmuse', 'camazarefes', 'carlozvega', 'carme999', 'cell-phone-plans', 'cemguresci', 'cgd', 'chifothecnc', 'clinicmoney', 'cluboverload', 'cntombela', 'connie9500', 'crilla', 'cuneytpolat', 'dandoug', 'amywu', 'demolition', 'denisgun', 'despair', 'digsby', 'diligenceair', 'dlauri', 'doyalhari', 'duggargrandchild', 'fedxbox', 'frescurato', 'gorillajack', 'hakarimatsu', 'harespandis', 'hemanshuchahat', 'hikarakose', 'horst', 'isabel86', 'jack9', 'jamesliu', 'jasonhaag', 'javedahmed1', 'johnsoncity', 'joshpass', 'donaldhawk', 'danielvincentlefebvre', 'cindydavishomes', 'keatingcwk', 'kehamilansehat', 'khadaroo', 'brandonkidder', 'kiarita', 'ktototam', 'imzobi', 'leoluo', 'cruciani', 'dwrmdnz', 'lmhmed', 'lyuberetsky', 'brenthf', 'agendamariainmaculada', 'creativejuices', 'atos-origin-turkiye', 'history-of-macedonia', 'aabc12', 'manuelt909', 'marcosilver', 'max38', 'mdiazf', 'melissableuz', 'mleddy23', 'b68b', 'morteza5', 'muhammetulak', 'nenix', 'newreggae2bqdio', 'nghjkl', 'noonoosh86', 'ogurashoukai', 'oh250303', 'pixelzen', 'prashantspda', 'princess4ever', 'prsreclean1', 'pucciodegaligai', 'kennethcaling', 'izzy1869', 'auboni', 'jameelahmed', 'buynsellhousess', 'rodabisnis', 'rosroy', 'sakal661', 'sayoimpro', 'sergeyvassilchenko', 'sergiogonzalez', 'sidnay', 'singlekm', 'soraiawitcher', 'soth', 'srsforeigntrade', 'stratton', 'suserania', 'swiftfish', 'timmysmith', 'preimer', 'vasya666113', 'videobelarus', 'wiosz', 'wof', 'wolfie31', 'xmyth', 'youreyeness', '160664', '42135345134631461236', 'affiliateelite2', 'agenciamixcom', 'aleezii', 'alezita', 'algor', 'aly06031992xd', 'alysiasmith', 'ampieters', 'appleclubturkey', 'ashii', 'azzurroyacht', 'battlecat55', 'benedictsmith1', 'brokenclock', 'cadillacwilliams', 'capogiu', 'cellamusicae', 'ceycey1', 'chrismwarwick', 'colinwoods', 'craftyartist', 'danielhiggins321', 'anison', 'dasman-djamaluddin', 'anteekmze', 'davidgurwicz', 'augiforums', 'ctp', 'day-nie-sha', 'deadboy', 'defres2010', 'dennis-room', 'detayakif', 'dietpundit', 'dklima', 'donothing', 'donovanniesen', 'dornelespilati', 'eletha', 'eyllkk', 'friendshipenergy', 'fuatuysal', 'genium', 'ghjkk', 'giacecco', 'giginejrotti', 'hassomistral', 'hirehacker', 'infodude', 'infoxicatinglady', 'interstice', 'jackmilano', 'jej94105', 'jimvanmars', 'johndouglas', 'johneiler', 'junpluse', 'jyotimasters', 'kadir39', 'kalaok', 'karenbbrashear', 'kathycapkovic', 'kd4u', 'kzs', 'limonkimyonzorro', 'get-back-in-shape-after-childbirth', 'karlaabreu1', 'beautyfashionstyle', 'atosorigin', 'gerard4', 'chrispeterson1', 'marcoesposito1', 'martinredfern', 'maxlim', 'milroe', 'muharremzeren', 'musul', 'mxm', 'natashadoyel', 'nelin', 'nichevells', 'nightrocker', 'nurer', 'originoko', 'paulttest', 'radcaster', 'rafaelyrodrigues', 'bishmoto', 'robertrossi', 'rolandschaack', 'romeoasprec', 'safetygoat', 'samcali', 'sametkaankanak', 'rosaleezammuto', 'seanhumby', 'sezerucler', 'shitpee', 'staster', 'sthirchitro', 'storres', 'suidafrika', 'synnovatia', 'team-foundation-server-tfs', 'technoholicgeek', 'threads', 'titanik', 'tizianatonelli', 'tookshire', 'uberipuzo', 'vimisako', 'vohuman', 'whitehatblackbox', 'ydu', 'yeni-medya-marketing', '14subat', '18kinchan', '1wealthbuilder', '3sm3r3lda', 'ajiseptino', 'ajreid080', 'aleksanda', 'alifarzin', 'alivali', 'allendim', 'altdemion', 'annkobsabbott', 'antoniogalindo', 'argyrisd', 'aruken', 'asifiqbal1', 'atakankaynak', 'atlantautomotors', 'axel702', 'ayawo', 'bakercomms', 'aar0n', 'abanana', 'allenkim77', 'bekick-com-la-red-de-fanaticos', 'benng', 'bondoso', 'booder', 'boyer', 'bradyjfrey', 'brain', 'bricoleur', 'burakyasasever', 'calabdol', 'canmcigerim', 'charcoalwater', 'chikky', 'codeplay', 'conorena', 'corradobontempi', 'csirian', 'danielsoneg', 'daraku', 'cururu', 'amya', 'darren-hayes', 'davedulany', 'bdonald', 'beycanuzun', 'david8604511', 'bristoltnva', 'bricoleur-s-shed', 'daypress2', 'dewa', 'doktor1453', 'drdevendrapandey', 'dunaknox', 'edmiri', 'ellifavero', 'eshgniyaz', 'faruk13', 'gan3b', 'gokhanas', 'goldberg', 'gsmaanbieding', 'guvenpir', 'hankandpattykaine', 'hatza1', 'hediyekele', 'hire2hack2', 'hseyinadgzel', 'ichizi-nizi', 'jak134', 'jarlncoe', 'jaysilverman', 'jimiomori', 'joesax', 'john49', 'joriskarldzaack', 'judy8', 'dannii', 'forextradingsoftware', 'lullypuff4', 'madmosail', 'jessicawilly', 'mahmoodsaba', 'mandms', 'markwada', 'masatosaito', 'mechangineer', 'miketung', 'alistar', 'greenworld', 'pachi29', 'php-developers', 'pietwest', 'cbeatson', 'queenofhearts2', 'parallels', 'ramzanmezhiev', 'recoverytalks', 'rockleypuntik', 'romanlukaschuk', 'roor', 'sanaz3', 'saraazad1', 'satishp', 'allchet', 'sepehrfiroozabadi', 'shelbygt', 'shep1', 'sikimmi', 'silviacoppini', 'software-test-engineer', 'spicy777jp', 'suatgndodu', 'suwat82', 'tamismibilinmiyor', 'teribraley', 'tin2q', 'tonden', 'trytry', 'tugbz', 'lucapantarotto', 'vdeimos', 'verge', 'vineethrao', 'vipey', 'yello', 'zariita', 'zhoumin', 'abee', 'adali23', 'adrielo', 'aekkirton', 'affiliatemarketing2', 'ahmedabayazid', 'alexanderashvetsov', 'alexkobayashi', 'angeljblaze', 'arsenucciu', 'babopilot', 'bastamx', 'baybagatur', 'beckyhennessy', 'bedrumdecoratin', 'behnazhosseini', '3000wa', 'bel69e69', 'bigzolee', 'bobmckinstry', 'bond007ria8', 'bozkurtirmak', 'calpurnio', 'carolinatropiano', 'cheesechoker', 'chouchounur', 'chriswill', 'chubatsch', 'cmkadish', 'compuworld', 'cukurovali', 'defnesalincakta', 'derya10', 'diansukmalestari', 'diegospatzner', 'dlafata', 'dogaholics', 'drmartin87', 'dstn76', 'edo93milani', 'elperro', 'ethangarca', 'fatmaerszyorulmaz', 'gamadownload', 'gestedpubblicita', 'group2', 'gullu', 'guss7311', 'hamidf', 'havzaeymir05', 'hodin', 'inpel', 'izzo1234', 'jimkapla', 'jrchristensen', 'kansai3', 'kimcsmith', 'fitness-never-ends', 'burakozturk', 'lilangi', 'loscometasvuelan', 'ddkochar', 'lslmom', 'lucadibenedetto', 'lyuka', 'maaakk', 'madhavareddy', 'benadler', 'matinbaghdady', 'maymayd71', 'mccallumgallery', 'melp57', 'metinakkaya', 'micc', 'michelleruane', 'mobeenshahid', 'muhammadridwanchaniago', 'my-cake-room', 'nickd63', 'nicoyas', 'nig', 'noelwinstanley', 'omoshiro0101', 'onenight', 'ozgeozzie', 'p3x2y', 'poisonyvette', 'poopsheet', 'potsandpans', 'potterlim', 'queeng83', 'paulmelo', 'lordfenring', 'rate-the-app', 'debbiegies', 'refreshautos', 'ricercatoriunisi', 'search-engine-ranking', 'senjed', 'shastry', 'simoncoomes', 'simonwang', 'son', 'ssquier', 'storydude', 'stupc', 'subod', 'survivaloo', 'talmoudi', 'tayfunozturk', 'telma1', 'tol', 'ghettolegendz', 'charlesthefilmmaker', 'valyukh', 'vishaldas', 'walidplus', 'webdonuts', 'weymouth', 'willyb82', 'yaphetmalbrough', 'yitzchakbaruchfishel', '12121', '625660553', 'abhisharma59', 'ahmetcanderya', 'aireuropa', 'aldebarina', 'alexmko', 'alfolicy010mas', 'amrinder', 'andydent1', 'annifu', 'apok', 'arhansaravc', 'ariyayi89', 'artemkayukov', 'aryanarap', 'bazuafiru', 'blandy', 'blengel', 'bobolicchio56', 'bobrodenburg', 'bradlymcneil', 'brian15', 'camjam0227', 'catharrison', 'charlesmans', 'chicowa', 'cooladiu', 'counthacker', 'coupedumondedelafifa', 'crystalmac', 'cwgmagazine', 'daishii', 'bookenz', 'dashwiredemo', 'a-decade-to-die-for', 'dblacksd', 'debrablackotjen', 'delusiongrande', 'diegorealestate', 'duecey', 'ericavoell', 'errbil', 'esinesmeyin', 'espiloy', 'filitcakmak', 'funkolector', 'gitifv', 'hatayl', 'hegde', 'hire2hack1', 'hirpln', 'hollowman', 'htanaka', 'iamdon', 'ishagoyal', 'jacks1', 'jagoholmes', 'janaovo', 'jbredrebel', 'jiwoongchoi', 'junmarquez', 'kalymocha', 'at-the-end-of-the-day', 'keesvanoers', 'kevmcn73', 'judie-tzuke', 'althaidi', 'dewawahyudinatjmadja', 'kelimator', 'dougbaldie', 'lobodelasnieves', 'lost-friends', 'laurasifuentes', 'lsaloheimo', 'mazd', 'mehmetdelioglan', 'mertkarakaya48', 'mff', 'michele18', 'michelepierozzi', 'miroconsulting', 'mltm1', 'n1mnul', 'nailisthana1', 'nurdanyozdemir', 'oldie383', 'olemisscowboy', 'olli-at-mason', 'openbazar', 'oral1', 'ozturk76', 'patrickdanforth', 'patrikkullman', 'paulchavaux', 'practice-japanuser', 'alejandranaughton', 'rabendolch', 'ravi2410', 'raynardsmiley', 'rifleman', 'rredcatt', 'runkatsuwo', 'sedighehaghaziyaei', 'simonederita', 'sincerelyours', 'stevemorva1', 'taildragger120', 'teammahalo1', 'things-japan', 'thomaswestmoreland', 'tonybonini', 'torsinato', 'trabzon-emlak', 'trarex', 'trash12', 'travel-destination', 'tuttitutti', 'jimm65', 'vern1', 'viratkachenko', 'windedge', 'xingliantuke', 'xrsnet', 'ymuto0302', 'z345680', 'zgrkubat', 'zozo', '480mrt', 'adamlane', 'akaromank', 'ammyfilmz', 'anamis', 'andy30', 'apexrentals', 'arifinjackbimo', 'awais786', 'babybuzz', 'bbg', 'beckan', 'benchira', 'bessielahozarne', 'biribiberebe', 'blockwise', 'canelif', 'cerberus', 'charlottesville-real-estate', 'chemix', 'chirokuichiten', 'cvcolumbusfeeds', 'alessandromelani', 'darkbaronmusic', 'calebfunk', 'adamsinger1', 'bluejasper', 'bukhori1', 'cristalmontanez', 'davidpuno', 'davidsoares', 'aaronx', 'debrabell', 'dejonnademarco', 'destino', 'dicheys', 'dimensionakk', 'disneymagination', 'diyps3repairs', 'edaboston', 'emrahdemir1', 'eukrites', 'fabien2', 'fatihzeren', 'gildor', 'glutathioneresource', 'hanzibar', 'harun20', 'harvuviyku22', 'homa', 'interviewcoach', 'iphonerocksmylife', 'ittaydror', 'iuliiazherdieva', 'jeffmartin', 'jhaemhar', 'joannerichards', 'joedata', 'enulbr41', 'kamrani', 'kandysmith', 'karlderidder', 'katsujiya', 'kayreyes4q', 'khephir', 'kiprono', 'fxoishi', 'kylebutler', 'learningrx', 'leemartin', 'loncar', 'marcpbb', 'markdstrickland', 'mattii70', 'meisam', 'mhshariatpanah', 'mihofujiwara', 'mikeparadisjr', 'mmcardinale', 'behzadi', 'mprimas', 'msh4900', 'mwbrandon', 'myysharona', 'mzw', 'naoju', 'navs19', 'nickcarbone', 'nntt', 'onuroflu', 'paulmb', 'pedramp5', 'pensierisparsi', 'peterlai', 'petersanderson', 'petipet', 'poolsharktom', 'petervalencia', 'denisesipione1', 'redpandariffic', 'robertito', 'rotmotdelacruz439', 'runnig1', 's13', 'sahelkhani', 'saye1', 'scemastronza', 'sermasi', 'shanleymasonanderson', 'sheryarnizar', 'siamax', 'sonnyray', 'southrowanfbla', 'suatoten', 'sugoipower', 'teeth-whitening', 'teleri', 'tiphanieacreman', 'tom54', 'turul1', 'alpcskn', 'venne', 'vgmtorrents', 'waynesweeney', 'xdrunk', 'yasinunlu', 'yelizkrndz', 'ziganny', 'zxy172', '123123', 'a2zonlinesol', 'abdeli', 'acidri', 'adam1992', 'ahmetlekesiz', 'airball', 'aksela', 'albertcamus7', 'albertortiz', 'almaattaatta', 'alsurratt', 'amirkoosha', 'andikarajasa', 'andybond', 'andyvisser', 'aqvaonline', 'archu', 'arngktanolak', 'arrivelounge', 'ashokaholidays', 'asilbatur', 'assiamajd', 'astral-projection', 'aygulalemdar', 'aymanwah', 'bemo', 'benjaminftw', 'bestbookers', 'bigal1', 'bjrnisjohn', 'bratbud', 'brentnichols', 'ceciliosanchez', 'chmouse', 'christiannesaavedra', 'christin', 'cloudzilla', 'constantkelly', 'coupedumondedefootball', 'cwt777', 'daisyy', 'blog-kokoro', 'dashmashti', 'alisyeh', 'brianmckenzie', 'david90', 'bascule', 'cloudstudent', 'dereknewland', 'dimitrikostakis', 'doinchelle', 'easael', 'emiyagisawa', 'fellaisfresh', 'gameryesse', 'giannina', 'alikhan4', 'goodbazaar99', 'hamedhamed', 'hironomichi', 'hransun', 'igutorio2', 'iisjade', 'instantreply', 'izii', 'adey64', 'johnrock', 'evawojciechowska', 'joshrivera', 'florasalazar', 'justice-for-dairy-cows', 'kenhush', 'hoge1229', 'kirpim', 'kylekylewithasmile', 'l007', 'labelleepoquegroup', 'lub4o', 'bobgonthalez', 'justclaire', 'kuubi', 'matteonegri', 'mayanorthen', 'medlab', 'moanyoldgit', 'amiria', 'kia2580', 'myrtlerosetto', 'natalieviews', 'nusaybin', 'okul-ve-e-itim', 'pavelgonzalez', 'payhalf', 'pellinger', 'pillastre', 'pkuleon', 'potoly', 'pumagaju', 'edandaniel', 'quiltingforbeginners', 'josignacioprezalcocer', 'kaapiprash', 'revsteve', 'rizoa', 'robinmoffatpainter', 'sana7', 'satsuma', 'scaler', 'scottlaroche', 'selim25', 'shoojian', 'silverwings47', 'snowgeek', 'sophieb', 'streetthugz', 'suatbabacan', 'suejury', 'tarakasiddhadha', 'tatianawicke', 'telepatikhayvan', 'thakuranupam', 'thooghun', 'todar', 'amooti', 'tunger', 'uniqueiftz', 'whats-new-2day', 'xendzolina', 'zekiszen', 'aamparveez', 'alexfritze1', 'alexxyork', 'alisey', 'anydaynow', 'apple1308', 'archfollower', 'arifeen1', 'aslimmm', 'avpcool007gmailcom', 'ayuichigo', 'bangor', 'bebo23', 'bertccohen', 'berubara', 'bigger', 'cabana', 'christinecanada', 'chrisvartelas', 'ckordes', 'claudiocr', 'cocog', 'corinaoros', 'danhung', 'daniela22', 'curtisflanagan', 'billh2', 'danlwilliamson', 'darkangelfire1960', 'darktiger', 'captmattsparrow', 'bbass59', 'darrylbobey', 'carwarrantyreview', 'dawn3', 'debbiemayosmith', 'destony', 'dommi', 'efekaraaslan', 'emmap', 'escinco', 'fpsponzilli', 'friendinme', 'ago2guy', 'alexanderwainwright', 'bluetooth-reviews', 'grrrlromeo', 'gtsnoracer', 'guestpass51', 'hamidrezaxy', 'henl', 'igneous', 'jason872', 'jiujitianshishou', 'jocki', 'billiondollargirl', 'johnnyfranklin', 'johnrobson', 'josejhjoyette', 'gracesaliente', 'justbadri', 'justestuff', 'kardinalmarine', 'cananpalabas', 'katadamson', 'elliotthoneycutt', 'jocabel5', 'infosec-ramblings', 'krushna', 'ladybarber', 'listbuildinghowto', 'london-events', 'lookouvladimir', 'elisamassari', 'gracee', 'ebrugurzay', 'marialcastellon', 'marianomoreno', 'maudit', 'medok', 'mehmet33', 'mehmetkaratas', 'melikadavarnejad', 'mkroehler', 'juntobias', 'mohammadhariri', 'bboysu', 'mqarc', 'msjawahar', 'my-espn', 'my-verified-list', 'ncornag', 'partnerdo', 'pelabra', 'peterkacz', 'pragensismac1', 'proxypass', 'greensae', 'bydaev', 'richardgaywood', 'ripiajo', 'rockdahousee', 'rogerdavid', 'ronnyb', 'saeednasiri', 'sajofly', 'sanane3', 'sarahgreen140', 'scalingzenith', 'shyftr-news', 'siar', 'sigurdjarl', 'smartico', 'snipsnipsnip', 'soaryspoof', 'solomon4', 'srtunc', 'taghallob', 'teleriholton', 'ticketsnob', 'stuart5', 'totonno1', 'twt1113', 'warda', 'zeliha2', 'zgrsu', 'fabianhernandez', 'thenightsky', 'bruce1968', 'centerinvest', 'thumpngood', 'victorshortus', 'watch-live-sports-online', 'zanzeroth', 'krzysztofsendor', 'clashbuzz', 'drewtaylor', 'ebenezer', 'flying', 'hilcheyman', 'jimsmarshall', 'ladyoak', 'nagarjuna149', 'cgcomer', 'erigerom', 'gnarzilla', 'jettsetter78', 'amirmustafa2010', 'lapetitediva', 'kongmh', 'okyoussef1', 'twitminary', 'discourse', 'mudassarsahi', 'christinesee', 'comeek', 'dougbrit2', 'jordangrotepas', 'kysban', 'tacn', 'igazaar', 'jellishamilton', 'thecrabbylady', 'tonyjackson', 'tramelapontocom', 'youretheone', 'zanemiester', 'muhammadanwar', 'cheapygirl', 'dfree', 'erikeinmo', 'fredericsalley', 'onlinedating4you', 'philippebiaut', 'pmargaritis', 'soylent', 'shenia', 'zunki', 'jasonhenson', 'japractice']\n",
            "Total user IDs in single-user communities: 2045\n"
          ]
        }
      ],
      "source": [
        "# Find all community IDs with only one node\n",
        "single_user_communities = [comm_id for comm_id, size in community_sizes.items() if size == 1]\n",
        "print(f\"Total single-user communities: {len(single_user_communities)}\")\n",
        "\n",
        "# List of user IDs in single-user communities\n",
        "single_user_ids = [G.vs[node][\"name\"] for node, comm_id in enumerate(partition.membership) if comm_id in single_user_communities]\n",
        "\n",
        "# Print or examine the IDs\n",
        "print(f\"User IDs in single-user communities: {single_user_ids}\")\n",
        "print(f\"Total user IDs in single-user communities: {len(single_user_ids)}\")\n",
        "\n"
      ]
    },
    {
      "cell_type": "code",
      "execution_count": 19,
      "id": "39379183",
      "metadata": {},
      "outputs": [],
      "source": [
        "import dask.dataframe as dd\n",
        "import pandas as pd\n",
        "\n",
        "# Load preprocessed data with Dask\n",
        "users = dd.read_parquet('processed_data/users_cleaned.parquet')\n",
        "subs = dd.read_parquet('processed_data/subs_cleaned.parquet')\n",
        "following = dd.read_parquet('processed_data/following_cleaned.parquet')\n",
        "comments = dd.read_parquet('processed_data/comments_cleaned.parquet')\n",
        "likes = dd.read_parquet('processed_data/likes_cleaned.parquet')\n",
        "entries = dd.read_parquet('processed_data/entries_cleaned.parquet')\n",
        "\n",
        "def analyze_user(user_id):\n",
        "    # 1. User Information\n",
        "    user_info = users[users['ID'] == user_id].compute()\n",
        "    if user_info.empty:\n",
        "        print(f\"User ID {user_id} not found in the users dataset.\")\n",
        "        return\n",
        "    \n",
        "    print(\"User Information:\")\n",
        "    print(user_info)\n",
        "    print(\"\\n\")\n",
        "\n",
        "    # 2. Subscriptions\n",
        "    # Check who the user is following and who follows them\n",
        "    user_subs_following = subs[subs['FollowerID'] == user_id].compute()\n",
        "    user_subs_followed_by = subs[subs['FollowedID'] == user_id].compute()\n",
        "\n",
        "    print(f\"Subscriptions where user is following others: {len(user_subs_following)}\")\n",
        "    print(f\"Subscriptions where others are following the user: {len(user_subs_followed_by)}\")\n",
        "    print(\"\\n\")\n",
        "\n",
        "    # 3. Following Relationships\n",
        "    user_following = following[following['FollowerID'] == user_id].compute()\n",
        "    user_followed_by = following[following['FollowedID'] == user_id].compute()\n",
        "\n",
        "    print(f\"Following relationships where user follows others: {len(user_following)}\")\n",
        "    print(f\"Following relationships where others follow the user: {len(user_followed_by)}\")\n",
        "    print(\"\\n\")\n",
        "\n",
        "    # 4. Comments\n",
        "    # Check if the user has made any comments\n",
        "    user_comments = comments[comments['PostedBy'] == user_id].compute()\n",
        "    print(f\"Total comments made by user: {len(user_comments)}\")\n",
        "    if len(user_comments) > 0:\n",
        "        print(\"Sample comments:\")\n",
        "        print(user_comments[['PostID', 'Text', 'Timestamp']].head())\n",
        "    print(\"\\n\")\n",
        "\n",
        "    # 5. Likes\n",
        "    # Check if the user has liked any posts\n",
        "    user_likes = likes[likes['userID'] == user_id].compute()\n",
        "    print(f\"Total likes by user: {len(user_likes)}\")\n",
        "    if len(user_likes) > 0:\n",
        "        print(\"Sample likes:\")\n",
        "        print(user_likes[['PostID', 'Timestamp']].head())\n",
        "    print(\"\\n\")\n",
        "\n",
        "    # 6. Entries (Posts)\n",
        "    # Check if the user has made any posts\n",
        "    user_posts = entries[entries['PostedBy'] == user_id].compute()\n",
        "    print(f\"Total posts made by user: {len(user_posts)}\")\n",
        "    if len(user_posts) > 0:\n",
        "        print(\"Sample posts:\")\n",
        "        print(user_posts[['PostID', 'Text', 'Timestamp']].head())\n",
        "    print(\"\\n\")\n",
        "    \n",
        "    # Free up memory\n",
        "    gc.collect()"
      ]
    },
    {
      "cell_type": "code",
      "execution_count": 21,
      "id": "df93d6c1",
      "metadata": {},
      "outputs": [
        {
          "name": "stdout",
          "output_type": "stream",
          "text": [
            "User Information:\n",
            "         ID  Type      Name     Description\n",
            "342  dudude  user  terry007  No Description\n",
            "\n",
            "\n",
            "Subscriptions where user is following others: 0\n",
            "Subscriptions where others are following the user: 0\n",
            "\n",
            "\n",
            "Following relationships where user follows others: 0\n",
            "Following relationships where others follow the user: 0\n",
            "\n",
            "\n",
            "Total comments made by user: 0\n",
            "\n",
            "\n",
            "Total likes by user: 0\n",
            "\n",
            "\n",
            "Total posts made by user: 0\n",
            "\n",
            "\n"
          ]
        }
      ],
      "source": [
        "# Example usage:\n",
        "# Replace 'user_id_here' with the actual user ID you want to analyze\n",
        "analyze_user(user_id='dudude')"
      ]
    },
    {
      "cell_type": "code",
      "execution_count": 25,
      "id": "e1da34ee",
      "metadata": {},
      "outputs": [
        {
          "name": "stdout",
          "output_type": "stream",
          "text": [
            "Total subscriptions where user is following others: 0\n",
            "Total subscriptions where others are following the user: 0\n",
            "Total following relationships where user follows others: 0\n",
            "Total following relationships where others follow the user: 0\n",
            "Total comments made by users: 678\n",
            "Total likes by users: 3\n",
            "Total posts made by users: 8714\n"
          ]
        }
      ],
      "source": [
        "single_user_ids_list = list(single_user_ids)\n",
        "\n",
        "\n",
        "# Subscriptions\n",
        "user_subs_following = subs[subs['FollowerID'].isin(single_user_ids_list)]\n",
        "user_subs_followed_by = subs[subs['FollowedID'].isin(single_user_ids_list)]\n",
        "total_subs_following = user_subs_following.shape[0].compute()\n",
        "total_subs_followed_by = user_subs_followed_by.shape[0].compute()\n",
        "\n",
        "# Following relationships\n",
        "user_following = following[following['FollowerID'].isin(single_user_ids_list)]\n",
        "user_followed_by = following[following['FollowedID'].isin(single_user_ids_list)]\n",
        "total_following = user_following.shape[0].compute()\n",
        "total_followed_by = user_followed_by.shape[0].compute()\n",
        "\n",
        "# Comments\n",
        "user_comments = comments[comments['PostedBy'].isin(single_user_ids_list)]\n",
        "total_comments = user_comments.shape[0].compute()\n",
        "\n",
        "# Likes\n",
        "user_likes = likes[likes['userID'].isin(single_user_ids_list)]\n",
        "total_likes = user_likes.shape[0].compute()\n",
        "\n",
        "# Entries (Posts)\n",
        "user_posts = entries[entries['PostedBy'].isin(single_user_ids_list)]\n",
        "total_posts = user_posts.shape[0].compute()\n",
        "\n",
        "# Print total counts\n",
        "print(f\"Total subscriptions where user is following others: {total_subs_following}\")\n",
        "print(f\"Total subscriptions where others are following the user: {total_subs_followed_by}\")\n",
        "print(f\"Total following relationships where user follows others: {total_following}\")\n",
        "print(f\"Total following relationships where others follow the user: {total_followed_by}\")\n",
        "print(f\"Total comments made by users: {total_comments}\")\n",
        "print(f\"Total likes by users: {total_likes}\")\n",
        "print(f\"Total posts made by users: {total_posts}\")\n"
      ]
    },
    {
      "cell_type": "code",
      "execution_count": 26,
      "metadata": {},
      "outputs": [
        {
          "name": "stdout",
          "output_type": "stream",
          "text": [
            "Execution time: 26 minutes and 49.72 seconds\n"
          ]
        }
      ],
      "source": [
        "\n",
        "## 5. Final Notes and Cleanup\n",
        "# Free up memory\n",
        "del users, subs, following, comments, likes, entries\n",
        "gc.collect()\n",
        "\n",
        "# Display execution time\n",
        "end_time = time.time()\n",
        "total_seconds = end_time - start_time\n",
        "minutes, seconds = divmod(total_seconds, 60)\n",
        "print(f\"Execution time: {int(minutes)} minutes and {seconds:.2f} seconds\")"
      ]
    }
  ],
  "metadata": {
    "kernelspec": {
      "display_name": "friendfeed",
      "language": "python",
      "name": "python3"
    },
    "language_info": {
      "codemirror_mode": {
        "name": "ipython",
        "version": 3
      },
      "file_extension": ".py",
      "mimetype": "text/x-python",
      "name": "python",
      "nbconvert_exporter": "python",
      "pygments_lexer": "ipython3",
      "version": "3.11.0"
    }
  },
  "nbformat": 4,
  "nbformat_minor": 5
}
