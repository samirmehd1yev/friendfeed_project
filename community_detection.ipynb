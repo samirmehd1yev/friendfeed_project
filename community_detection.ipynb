{
 "cells": [
  {
   "cell_type": "markdown",
   "metadata": {},
   "source": [
    "# Community Detection in FriendFeed Network\n",
    "\n",
    "This notebook focuses on detecting communities within the FriendFeed social network. We'll use the preprocessed datasets to build a graph and analyze community structures."
   ]
  },
  {
   "cell_type": "markdown",
   "metadata": {},
   "source": [
    "## 1. Import Libraries and Load Data"
   ]
  },
  {
   "cell_type": "code",
   "execution_count": 1,
   "metadata": {},
   "outputs": [],
   "source": [
    "import pandas as pd\n",
    "import networkx as nx\n",
    "import matplotlib.pyplot as plt\n",
    "import seaborn as sns\n",
    "from networkx.algorithms import community\n",
    "from community import community_louvain\n",
    "\n",
    "%matplotlib inline\n",
    "sns.set(style='whitegrid')\n",
    "\n",
    "# Load preprocessed data\n",
    "users = pd.read_parquet('processed_data/users_cleaned.parquet')\n",
    "subs = pd.read_parquet('processed_data/subs_cleaned.parquet')\n",
    "following = pd.read_parquet('processed_data/following_cleaned.parquet')\n",
    "comments = pd.read_parquet('processed_data/comments_cleaned.parquet')\n",
    "likes = pd.read_parquet('processed_data/likes_cleaned.parquet')"
   ]
  },
  {
   "cell_type": "code",
   "execution_count": 3,
   "metadata": {},
   "outputs": [],
   "source": [
    "import pandas as pd\n",
    "import pyarrow.parquet as pq\n",
    "\n",
    "# Open the parquet file\n",
    "parquet_file = pq.ParquetFile('processed_data/entries_cleaned.parquet')\n",
    "\n",
    "# Get the actual number of row groups\n",
    "num_row_groups = parquet_file.num_row_groups\n",
    "\n",
    "# Initialize a list to collect chunks\n",
    "entries_list = []\n",
    "\n",
    "# Loop over each row group and process them one at a time\n",
    "for i in range(num_row_groups):\n",
    "    # Read the current row group\n",
    "    entries_chunk = parquet_file.read_row_group(i).to_pandas()\n",
    "    \n",
    "    # Process the chunk if needed, then append it to the list\n",
    "    entries_list.append(entries_chunk)\n",
    "\n",
    "# Concatenate all chunks into a single DataFrame if needed\n",
    "entries = pd.concat(entries_list, ignore_index=True)\n"
   ]
  },
  {
   "cell_type": "code",
   "execution_count": 5,
   "metadata": {},
   "outputs": [
    {
     "name": "stdout",
     "output_type": "stream",
     "text": [
      "2010-09-30 23:59:59\n",
      "1970-01-01 00:00:01\n"
     ]
    }
   ],
   "source": [
    "print(entries['Timestamp'].max())\n",
    "print(entries['Timestamp'].min())"
   ]
  },
  {
   "cell_type": "code",
   "execution_count": 4,
   "metadata": {},
   "outputs": [
    {
     "name": "stdout",
     "output_type": "stream",
     "text": [
      "users: (645414, 4)\n",
      "subs: (24761879, 2)\n",
      "following: (18477145, 3)\n",
      "comments: (2864942, 6)\n",
      "likes: (442858, 3)\n",
      "entries: (12450559, 5)\n"
     ]
    }
   ],
   "source": [
    "# sizes of each dataframe\n",
    "print('users:', users.shape)\n",
    "print('subs:', subs.shape)\n",
    "print('following:', following.shape)\n",
    "print('comments:', comments.shape)\n",
    "print('likes:', likes.shape)\n",
    "print('entries:', entries.shape)\n"
   ]
  },
  {
   "cell_type": "code",
   "execution_count": 23,
   "metadata": {},
   "outputs": [
    {
     "name": "stdout",
     "output_type": "stream",
     "text": [
      "Index(['ID', 'Type', 'Name', 'Description'], dtype='object')\n",
      "unique users: 645414\n",
      "Index(['FollowerID', 'FollowedID'], dtype='object')\n",
      "unique subs: 525824\n",
      "unique subs: 527108\n",
      "Index(['FollowerID', 'FollowedID', 'Timestamp'], dtype='object')\n",
      "unique following: 196436\n",
      "unique following: 443552\n",
      "Index(['PostID', 'EntryID', 'PostedBy', 'SourceURL', 'Timestamp', 'Text'], dtype='object')\n",
      "unique comments: 41692\n",
      "Index(['userID', 'PostID', 'Timestamp'], dtype='object')\n",
      "unique likes: 14533\n",
      "Index(['PostID', 'PostedBy', 'SourceURL', 'Timestamp', 'Text'], dtype='object')\n",
      "unique entries: 256542\n"
     ]
    }
   ],
   "source": [
    "# length of unique users\n",
    "print(users.columns)\n",
    "print('unique users:', len(users['ID'].unique()))\n",
    "\n",
    "print(subs.columns)\n",
    "print('unique subs:', len(subs['FollowerID'].unique()))\n",
    "print('unique subs:', len(subs['FollowedID'].unique()))\n",
    "\n",
    "print(following.columns)\n",
    "print('unique following:', len(following['FollowerID'].unique()))\n",
    "print('unique following:', len(following['FollowedID'].unique()))\n",
    "\n",
    "print(comments.columns)\n",
    "print('unique comments:', len(comments['PostedBy'].unique()))\n",
    "\n",
    "print(likes.columns)\n",
    "print('unique likes:', len(likes['userID'].unique()))\n",
    "\n",
    "print(entries.columns)\n",
    "print('unique entries:', len(entries['PostedBy'].unique()))\n",
    "\n",
    "\n",
    "\n"
   ]
  },
  {
   "cell_type": "code",
   "execution_count": 26,
   "metadata": {},
   "outputs": [
    {
     "name": "stdout",
     "output_type": "stream",
     "text": [
      "Likes: 0 user IDs not present in Users dataset.\n",
      "Comments: 0 user IDs not present in Users dataset.\n",
      "Following (Follower): 0 user IDs not present in Users dataset.\n",
      "Following (Followed): 0 user IDs not present in Users dataset.\n",
      "Subscriptions (Follower): 0 user IDs not present in Users dataset.\n",
      "Subscriptions (Followed): 0 user IDs not present in Users dataset.\n",
      "Likes: 0 post IDs not present in Entries dataset.\n",
      "Comments: 0 post IDs not present in Entries dataset.\n",
      "missing_likes_users: []\n",
      "missing_comments_users: []\n",
      "missing_following_follower: []\n",
      "missing_following_followed: []\n",
      "missing_subs_follower: []\n",
      "missing_subs_followed: []\n",
      "missing_likes_posts: []\n",
      "missing_comments_posts: []\n"
     ]
    }
   ],
   "source": [
    "# Function to check consistency of user and post IDs across datasets\n",
    "def check_user_post_consistency():\n",
    "    # Define a set of valid user IDs and Post IDs\n",
    "    valid_users = set(users['ID'])\n",
    "    valid_posts = set(entries['PostID'])\n",
    "\n",
    "    # Check each interaction dataset for user and post ID consistency\n",
    "    def user_id_check(df, column_name, dataset_name):\n",
    "        missing_users = df[~df[column_name].isin(valid_users)][column_name].unique()\n",
    "        print(f\"{dataset_name}: {len(missing_users)} user IDs not present in Users dataset.\")\n",
    "        return missing_users\n",
    "\n",
    "    def post_id_check(df, column_name, dataset_name):\n",
    "        missing_posts = df[~df[column_name].isin(valid_posts)][column_name].unique()\n",
    "        print(f\"{dataset_name}: {len(missing_posts)} post IDs not present in Entries dataset.\")\n",
    "        return missing_posts\n",
    "\n",
    "    # Perform checks\n",
    "    missing_likes_users = user_id_check(likes, 'userID', 'Likes')\n",
    "    missing_comments_users = user_id_check(comments, 'PostedBy', 'Comments')\n",
    "    missing_following_follower = user_id_check(following, 'FollowerID', 'Following (Follower)')\n",
    "    missing_following_followed = user_id_check(following, 'FollowedID', 'Following (Followed)')\n",
    "    missing_subs_follower = user_id_check(subs, 'FollowerID', 'Subscriptions (Follower)')\n",
    "    missing_subs_followed = user_id_check(subs, 'FollowedID', 'Subscriptions (Followed)')\n",
    "    \n",
    "    missing_likes_posts = post_id_check(likes, 'PostID', 'Likes')\n",
    "    missing_comments_posts = post_id_check(comments, 'EntryID', 'Comments')\n",
    "\n",
    "    return missing_likes_users, missing_comments_users, missing_following_follower, missing_following_followed, missing_subs_follower, missing_subs_followed, missing_likes_posts, missing_comments_posts\n",
    "\n",
    "# Run the check\n",
    "missing_likes_users, missing_comments_users, missing_following_follower, missing_following_followed, missing_subs_follower, missing_subs_followed, missing_likes_posts, missing_comments_posts = check_user_post_consistency()\n",
    "\n",
    "# print the results\n",
    "print('missing_likes_users:', missing_likes_users)\n",
    "print('missing_comments_users:', missing_comments_users)\n",
    "print('missing_following_follower:', missing_following_follower)\n",
    "print('missing_following_followed:', missing_following_followed)\n",
    "print('missing_subs_follower:', missing_subs_follower)\n",
    "print('missing_subs_followed:', missing_subs_followed)\n",
    "print('missing_likes_posts:', missing_likes_posts)\n",
    "print('missing_comments_posts:', missing_comments_posts)\n"
   ]
  },
  {
   "cell_type": "markdown",
   "metadata": {},
   "source": [
    "## 2. Build the Network Graph\n",
    "\n",
    "We'll create a directed graph where nodes represent users, and edges represent different types of interactions such as follows, likes, and comments."
   ]
  },
  {
   "cell_type": "code",
   "execution_count": 4,
   "metadata": {},
   "outputs": [
    {
     "name": "stdout",
     "output_type": "stream",
     "text": [
      "Graph has 645414\n"
     ]
    }
   ],
   "source": [
    "# Initialize directed graph\n",
    "G = nx.DiGraph()\n",
    "\n",
    "# Add nodes for users\n",
    "G.add_nodes_from(users['ID'])\n",
    "\n",
    "# Add edges from the various types of interactions\n",
    "# G.add_edges_from([(row['FollowerID'], row['FollowedID']) for idx, row in following.iterrows()])\n",
    "\n",
    "# Display basic graph information\n",
    "print(f\"Graph has {G.number_of_nodes()}\")\n",
    "# print(f\"Graph has {G.number_of_edges()} edges\")"
   ]
  },
  {
   "cell_type": "markdown",
   "metadata": {},
   "source": [
    "## 3. Analyze Network Structure\n",
    "\n",
    "Let's examine the basic characteristics of the network, such as degree distributions."
   ]
  },
  {
   "cell_type": "code",
   "execution_count": 6,
   "metadata": {},
   "outputs": [
    {
     "data": {
      "image/png": "[encoded data removed]",
      "text/plain": [
       "<Figure size 1000x600 with 1 Axes>"
      ]
     },
     "metadata": {},
     "output_type": "display_data"
    }
   ],
   "source": [
    "# Calculate degree distributions\n",
    "degrees = dict(G.degree())\n",
    "in_degrees = dict(G.in_degree())\n",
    "out_degrees = dict(G.out_degree())\n",
    "\n",
    "# Plot degree distribution\n",
    "plt.figure(figsize=(10, 6))\n",
    "sns.histplot(list(degrees.values()), bins=30, kde=True)\n",
    "plt.title('Degree Distribution')\n",
    "plt.xlabel('Degree')\n",
    "plt.ylabel('Frequency')\n",
    "plt.show()"
   ]
  },
  {
   "cell_type": "markdown",
   "metadata": {},
   "source": [
    "## 4. Detect Communities Using the Louvain Method\n",
    "\n",
    "The Louvain algorithm is a popular method for community detection in large networks. We'll use this method to detect communities and analyze them."
   ]
  },
  {
   "cell_type": "code",
   "execution_count": 7,
   "metadata": {},
   "outputs": [
    {
     "ename": "KeyboardInterrupt",
     "evalue": "",
     "output_type": "error",
     "traceback": [
      "\u001b[0;31m---------------------------------------------------------------------------\u001b[0m",
      "\u001b[0;31mKeyboardInterrupt\u001b[0m                         Traceback (most recent call last)",
      "Cell \u001b[0;32mIn [7], line 2\u001b[0m\n\u001b[1;32m      1\u001b[0m \u001b[38;5;66;03m# Convert graph to undirected for community detection\u001b[39;00m\n\u001b[0;32m----> 2\u001b[0m G_undirected \u001b[38;5;241m=\u001b[39m \u001b[43mG\u001b[49m\u001b[38;5;241;43m.\u001b[39;49m\u001b[43mto_undirected\u001b[49m\u001b[43m(\u001b[49m\u001b[43m)\u001b[49m\n\u001b[1;32m      4\u001b[0m \u001b[38;5;66;03m# Apply Louvain method for community detection\u001b[39;00m\n\u001b[1;32m      5\u001b[0m partition \u001b[38;5;241m=\u001b[39m community_louvain\u001b[38;5;241m.\u001b[39mbest_partition(G_undirected)\n",
      "File \u001b[0;32m~/miniforge3/envs/data_mining_project/lib/python3.10/site-packages/networkx/classes/digraph.py:1308\u001b[0m, in \u001b[0;36mDiGraph.to_undirected\u001b[0;34m(self, reciprocal, as_view)\u001b[0m\n\u001b[1;32m   1301\u001b[0m     G\u001b[38;5;241m.\u001b[39madd_edges_from(\n\u001b[1;32m   1302\u001b[0m         (u, v, deepcopy(d))\n\u001b[1;32m   1303\u001b[0m         \u001b[38;5;28;01mfor\u001b[39;00m u, nbrs \u001b[38;5;129;01min\u001b[39;00m \u001b[38;5;28mself\u001b[39m\u001b[38;5;241m.\u001b[39m_adj\u001b[38;5;241m.\u001b[39mitems()\n\u001b[1;32m   1304\u001b[0m         \u001b[38;5;28;01mfor\u001b[39;00m v, d \u001b[38;5;129;01min\u001b[39;00m nbrs\u001b[38;5;241m.\u001b[39mitems()\n\u001b[1;32m   1305\u001b[0m         \u001b[38;5;28;01mif\u001b[39;00m v \u001b[38;5;129;01min\u001b[39;00m \u001b[38;5;28mself\u001b[39m\u001b[38;5;241m.\u001b[39m_pred[u]\n\u001b[1;32m   1306\u001b[0m     )\n\u001b[1;32m   1307\u001b[0m \u001b[38;5;28;01melse\u001b[39;00m:\n\u001b[0;32m-> 1308\u001b[0m     \u001b[43mG\u001b[49m\u001b[38;5;241;43m.\u001b[39;49m\u001b[43madd_edges_from\u001b[49m\u001b[43m(\u001b[49m\n\u001b[1;32m   1309\u001b[0m \u001b[43m        \u001b[49m\u001b[43m(\u001b[49m\u001b[43mu\u001b[49m\u001b[43m,\u001b[49m\u001b[43m \u001b[49m\u001b[43mv\u001b[49m\u001b[43m,\u001b[49m\u001b[43m \u001b[49m\u001b[43mdeepcopy\u001b[49m\u001b[43m(\u001b[49m\u001b[43md\u001b[49m\u001b[43m)\u001b[49m\u001b[43m)\u001b[49m\n\u001b[1;32m   1310\u001b[0m \u001b[43m        \u001b[49m\u001b[38;5;28;43;01mfor\u001b[39;49;00m\u001b[43m \u001b[49m\u001b[43mu\u001b[49m\u001b[43m,\u001b[49m\u001b[43m \u001b[49m\u001b[43mnbrs\u001b[49m\u001b[43m \u001b[49m\u001b[38;5;129;43;01min\u001b[39;49;00m\u001b[43m \u001b[49m\u001b[38;5;28;43mself\u001b[39;49m\u001b[38;5;241;43m.\u001b[39;49m\u001b[43m_adj\u001b[49m\u001b[38;5;241;43m.\u001b[39;49m\u001b[43mitems\u001b[49m\u001b[43m(\u001b[49m\u001b[43m)\u001b[49m\n\u001b[1;32m   1311\u001b[0m \u001b[43m        \u001b[49m\u001b[38;5;28;43;01mfor\u001b[39;49;00m\u001b[43m \u001b[49m\u001b[43mv\u001b[49m\u001b[43m,\u001b[49m\u001b[43m \u001b[49m\u001b[43md\u001b[49m\u001b[43m \u001b[49m\u001b[38;5;129;43;01min\u001b[39;49;00m\u001b[43m \u001b[49m\u001b[43mnbrs\u001b[49m\u001b[38;5;241;43m.\u001b[39;49m\u001b[43mitems\u001b[49m\u001b[43m(\u001b[49m\u001b[43m)\u001b[49m\n\u001b[1;32m   1312\u001b[0m \u001b[43m    \u001b[49m\u001b[43m)\u001b[49m\n\u001b[1;32m   1313\u001b[0m \u001b[38;5;28;01mreturn\u001b[39;00m G\n",
      "File \u001b[0;32m~/miniforge3/envs/data_mining_project/lib/python3.10/site-packages/networkx/classes/graph.py:1023\u001b[0m, in \u001b[0;36mGraph.add_edges_from\u001b[0;34m(self, ebunch_to_add, **attr)\u001b[0m\n\u001b[1;32m    968\u001b[0m \u001b[38;5;28;01mdef\u001b[39;00m \u001b[38;5;21madd_edges_from\u001b[39m(\u001b[38;5;28mself\u001b[39m, ebunch_to_add, \u001b[38;5;241m*\u001b[39m\u001b[38;5;241m*\u001b[39mattr):\n\u001b[1;32m    969\u001b[0m     \u001b[38;5;124;03m\"\"\"Add all the edges in ebunch_to_add.\u001b[39;00m\n\u001b[1;32m    970\u001b[0m \n\u001b[1;32m    971\u001b[0m \u001b[38;5;124;03m    Parameters\u001b[39;00m\n\u001b[0;32m   (...)\u001b[0m\n\u001b[1;32m   1021\u001b[0m \u001b[38;5;124;03m    >>> G.add_edges_from(list((5, n) for n in G.nodes))\u001b[39;00m\n\u001b[1;32m   1022\u001b[0m \u001b[38;5;124;03m    \"\"\"\u001b[39;00m\n\u001b[0;32m-> 1023\u001b[0m     \u001b[38;5;28;01mfor\u001b[39;00m e \u001b[38;5;129;01min\u001b[39;00m ebunch_to_add:\n\u001b[1;32m   1024\u001b[0m         ne \u001b[38;5;241m=\u001b[39m \u001b[38;5;28mlen\u001b[39m(e)\n\u001b[1;32m   1025\u001b[0m         \u001b[38;5;28;01mif\u001b[39;00m ne \u001b[38;5;241m==\u001b[39m \u001b[38;5;241m3\u001b[39m:\n",
      "File \u001b[0;32m~/miniforge3/envs/data_mining_project/lib/python3.10/site-packages/networkx/classes/digraph.py:1309\u001b[0m, in \u001b[0;36m<genexpr>\u001b[0;34m(.0)\u001b[0m\n\u001b[1;32m   1301\u001b[0m     G\u001b[38;5;241m.\u001b[39madd_edges_from(\n\u001b[1;32m   1302\u001b[0m         (u, v, deepcopy(d))\n\u001b[1;32m   1303\u001b[0m         \u001b[38;5;28;01mfor\u001b[39;00m u, nbrs \u001b[38;5;129;01min\u001b[39;00m \u001b[38;5;28mself\u001b[39m\u001b[38;5;241m.\u001b[39m_adj\u001b[38;5;241m.\u001b[39mitems()\n\u001b[1;32m   1304\u001b[0m         \u001b[38;5;28;01mfor\u001b[39;00m v, d \u001b[38;5;129;01min\u001b[39;00m nbrs\u001b[38;5;241m.\u001b[39mitems()\n\u001b[1;32m   1305\u001b[0m         \u001b[38;5;28;01mif\u001b[39;00m v \u001b[38;5;129;01min\u001b[39;00m \u001b[38;5;28mself\u001b[39m\u001b[38;5;241m.\u001b[39m_pred[u]\n\u001b[1;32m   1306\u001b[0m     )\n\u001b[1;32m   1307\u001b[0m \u001b[38;5;28;01melse\u001b[39;00m:\n\u001b[1;32m   1308\u001b[0m     G\u001b[38;5;241m.\u001b[39madd_edges_from(\n\u001b[0;32m-> 1309\u001b[0m         (u, v, \u001b[43mdeepcopy\u001b[49m\u001b[43m(\u001b[49m\u001b[43md\u001b[49m\u001b[43m)\u001b[49m)\n\u001b[1;32m   1310\u001b[0m         \u001b[38;5;28;01mfor\u001b[39;00m u, nbrs \u001b[38;5;129;01min\u001b[39;00m \u001b[38;5;28mself\u001b[39m\u001b[38;5;241m.\u001b[39m_adj\u001b[38;5;241m.\u001b[39mitems()\n\u001b[1;32m   1311\u001b[0m         \u001b[38;5;28;01mfor\u001b[39;00m v, d \u001b[38;5;129;01min\u001b[39;00m nbrs\u001b[38;5;241m.\u001b[39mitems()\n\u001b[1;32m   1312\u001b[0m     )\n\u001b[1;32m   1313\u001b[0m \u001b[38;5;28;01mreturn\u001b[39;00m G\n",
      "File \u001b[0;32m~/miniforge3/envs/data_mining_project/lib/python3.10/copy.py:146\u001b[0m, in \u001b[0;36mdeepcopy\u001b[0;34m(x, memo, _nil)\u001b[0m\n\u001b[1;32m    144\u001b[0m copier \u001b[38;5;241m=\u001b[39m _deepcopy_dispatch\u001b[38;5;241m.\u001b[39mget(\u001b[38;5;28mcls\u001b[39m)\n\u001b[1;32m    145\u001b[0m \u001b[38;5;28;01mif\u001b[39;00m copier \u001b[38;5;129;01mis\u001b[39;00m \u001b[38;5;129;01mnot\u001b[39;00m \u001b[38;5;28;01mNone\u001b[39;00m:\n\u001b[0;32m--> 146\u001b[0m     y \u001b[38;5;241m=\u001b[39m \u001b[43mcopier\u001b[49m\u001b[43m(\u001b[49m\u001b[43mx\u001b[49m\u001b[43m,\u001b[49m\u001b[43m \u001b[49m\u001b[43mmemo\u001b[49m\u001b[43m)\u001b[49m\n\u001b[1;32m    147\u001b[0m \u001b[38;5;28;01melse\u001b[39;00m:\n\u001b[1;32m    148\u001b[0m     \u001b[38;5;28;01mif\u001b[39;00m \u001b[38;5;28missubclass\u001b[39m(\u001b[38;5;28mcls\u001b[39m, \u001b[38;5;28mtype\u001b[39m):\n",
      "File \u001b[0;32m~/miniforge3/envs/data_mining_project/lib/python3.10/copy.py:231\u001b[0m, in \u001b[0;36m_deepcopy_dict\u001b[0;34m(x, memo, deepcopy)\u001b[0m\n\u001b[1;32m    229\u001b[0m memo[\u001b[38;5;28mid\u001b[39m(x)] \u001b[38;5;241m=\u001b[39m y\n\u001b[1;32m    230\u001b[0m \u001b[38;5;28;01mfor\u001b[39;00m key, value \u001b[38;5;129;01min\u001b[39;00m x\u001b[38;5;241m.\u001b[39mitems():\n\u001b[0;32m--> 231\u001b[0m     y[deepcopy(key, memo)] \u001b[38;5;241m=\u001b[39m \u001b[43mdeepcopy\u001b[49m\u001b[43m(\u001b[49m\u001b[43mvalue\u001b[49m\u001b[43m,\u001b[49m\u001b[43m \u001b[49m\u001b[43mmemo\u001b[49m\u001b[43m)\u001b[49m\n\u001b[1;32m    232\u001b[0m \u001b[38;5;28;01mreturn\u001b[39;00m y\n",
      "File \u001b[0;32m~/miniforge3/envs/data_mining_project/lib/python3.10/copy.py:128\u001b[0m, in \u001b[0;36mdeepcopy\u001b[0;34m(x, memo, _nil)\u001b[0m\n\u001b[1;32m    124\u001b[0m     d[PyStringMap] \u001b[38;5;241m=\u001b[39m PyStringMap\u001b[38;5;241m.\u001b[39mcopy\n\u001b[1;32m    126\u001b[0m \u001b[38;5;28;01mdel\u001b[39;00m d, t\n\u001b[0;32m--> 128\u001b[0m \u001b[38;5;28;01mdef\u001b[39;00m \u001b[38;5;21mdeepcopy\u001b[39m(x, memo\u001b[38;5;241m=\u001b[39m\u001b[38;5;28;01mNone\u001b[39;00m, _nil\u001b[38;5;241m=\u001b[39m[]):\n\u001b[1;32m    129\u001b[0m     \u001b[38;5;124;03m\"\"\"Deep copy operation on arbitrary Python objects.\u001b[39;00m\n\u001b[1;32m    130\u001b[0m \n\u001b[1;32m    131\u001b[0m \u001b[38;5;124;03m    See the module's __doc__ string for more info.\u001b[39;00m\n\u001b[1;32m    132\u001b[0m \u001b[38;5;124;03m    \"\"\"\u001b[39;00m\n\u001b[1;32m    134\u001b[0m     \u001b[38;5;28;01mif\u001b[39;00m memo \u001b[38;5;129;01mis\u001b[39;00m \u001b[38;5;28;01mNone\u001b[39;00m:\n",
      "\u001b[0;31mKeyboardInterrupt\u001b[0m: "
     ]
    }
   ],
   "source": [
    "# Convert graph to undirected for community detection\n",
    "G_undirected = G.to_undirected()\n",
    "\n",
    "# Apply Louvain method for community detection\n",
    "partition = community_louvain.best_partition(G_undirected)\n",
    "communities = set(partition.values())\n",
    "num_communities = len(communities)\n",
    "\n",
    "print(f\"Number of communities detected: {num_communities}\")\n",
    "\n",
    "# Add community information as node attribute\n",
    "nx.set_node_attributes(G, partition, 'community')"
   ]
  },
  {
   "cell_type": "markdown",
   "metadata": {},
   "source": [
    "## 5. Visualize Communities\n",
    "\n",
    "Let's visualize the detected communities. Each node will be colored based on the community it belongs to."
   ]
  },
  {
   "cell_type": "code",
   "execution_count": null,
   "metadata": {},
   "outputs": [],
   "source": [
    "plt.figure(figsize=(12, 12))\n",
    "pos = nx.spring_layout(G_undirected, k=0.1)\n",
    "\n",
    "# Draw nodes with colors according to community\n",
    "colors = [partition[node] for node in G_undirected.nodes]\n",
    "nx.draw_networkx_nodes(G_undirected, pos, node_color=colors, cmap=plt.cm.jet, node_size=20)\n",
    "\n",
    "# Draw edges\n",
    "nx.draw_networkx_edges(G_undirected, pos, alpha=0.1)\n",
    "\n",
    "plt.title('Community Detection using Louvain Method')\n",
    "plt.axis('off')\n",
    "plt.show()"
   ]
  },
  {
   "cell_type": "markdown",
   "metadata": {},
   "source": [
    "## 6. Community Analysis\n",
    "\n",
    "We can further analyze the communities to understand their sizes and characteristics."
   ]
  },
  {
   "cell_type": "code",
   "execution_count": null,
   "metadata": {},
   "outputs": [],
   "source": [
    "# Calculate size of each community\n",
    "community_sizes = pd.Series(list(partition.values())).value_counts()\n",
    "\n",
    "plt.figure(figsize=(10, 6))\n",
    "sns.barplot(x=community_sizes.index, y=community_sizes.values, palette='viridis')\n",
    "plt.title('Community Size Distribution')\n",
    "plt.xlabel('Community ID')\n",
    "plt.ylabel('Number of Nodes')\n",
    "plt.show()"
   ]
  },
  {
   "cell_type": "markdown",
   "metadata": {},
   "source": [
    "## 7. Save the Results\n",
    "\n",
    "Finally, let's save the graph with community information for further analysis if needed."
   ]
  },
  {
   "cell_type": "code",
   "execution_count": null,
   "metadata": {},
   "outputs": [],
   "source": [
    "# Save graph with community info\n",
    "nx.write_gexf(G, 'friendfeed_community_graph.gexf')\n",
    "print(\"Graph with community information saved as 'friendfeed_community_graph.gexf'.\")"
   ]
  }
 ],
 "metadata": {
  "kernelspec": {
   "display_name": "data_mining_project",
   "language": "python",
   "name": "python3"
  },
  "language_info": {
   "codemirror_mode": {
    "name": "ipython",
    "version": 3
   },
   "file_extension": ".py",
   "mimetype": "text/x-python",
   "name": "python",
   "nbconvert_exporter": "python",
   "pygments_lexer": "ipython3",
   "version": "3.10.0"
  }
 },
 "nbformat": 4,
 "nbformat_minor": 2
}
