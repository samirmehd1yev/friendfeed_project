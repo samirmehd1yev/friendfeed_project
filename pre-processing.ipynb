{
 "cells": [
  {
   "cell_type": "markdown",
   "metadata": {},
   "source": [
    "# Import libs"
   ]
  },
  {
   "cell_type": "code",
   "execution_count": 1,
   "metadata": {},
   "outputs": [],
   "source": [
    "import pandas as pd"
   ]
  },
  {
   "cell_type": "markdown",
   "metadata": {},
   "source": [
    "# Read the data"
   ]
  },
  {
   "cell_type": "code",
   "execution_count": 10,
   "metadata": {},
   "outputs": [],
   "source": [
    "users_col_names = ['ID', 'Type', 'Name', 'Reserved field', 'Description']\n",
    "users = pd.read_csv('raw_data/users.csv', sep='|', on_bad_lines='skip', names=users_col_names)"
   ]
  },
  {
   "cell_type": "code",
   "execution_count": 3,
   "metadata": {},
   "outputs": [],
   "source": [
    "subscriptions_col_names = ['FollowerID', 'FollowedID']\n",
    "subs = pd.read_csv('raw_data/subscriptions.csv', sep=',', on_bad_lines='skip', names=subscriptions_col_names)"
   ]
  },
  {
   "cell_type": "code",
   "execution_count": 4,
   "metadata": {},
   "outputs": [],
   "source": [
    "services_col_names = ['UserID', 'ServiceID', 'ServiceName', 'ServiceURL', 'UserNameOnService', 'UserURLOnService']\n",
    "services = pd.read_csv('raw_data/services.csv', sep='|', on_bad_lines='skip', names=services_col_names)"
   ]
  },
  {
   "cell_type": "code",
   "execution_count": 5,
   "metadata": {},
   "outputs": [],
   "source": [
    "likes_col_names = ['userID', 'PostID', 'Timestamp']\n",
    "likes = pd.read_csv('raw_data/likes.csv', sep='\\t', on_bad_lines='skip', names=likes_col_names)"
   ]
  },
  {
   "cell_type": "code",
   "execution_count": 6,
   "metadata": {},
   "outputs": [
    {
     "ename": "KeyboardInterrupt",
     "evalue": "",
     "output_type": "error",
     "traceback": [
      "\u001b[0;31m---------------------------------------------------------------------------\u001b[0m",
      "\u001b[0;31mKeyboardInterrupt\u001b[0m                         Traceback (most recent call last)",
      "Cell \u001b[0;32mIn[6], line 2\u001b[0m\n\u001b[1;32m      1\u001b[0m following_col_names \u001b[38;5;241m=\u001b[39m [\u001b[38;5;124m'\u001b[39m\u001b[38;5;124mFollowerID\u001b[39m\u001b[38;5;124m'\u001b[39m, \u001b[38;5;124m'\u001b[39m\u001b[38;5;124mFollowedID\u001b[39m\u001b[38;5;124m'\u001b[39m, \u001b[38;5;124m'\u001b[39m\u001b[38;5;124mTimestamp\u001b[39m\u001b[38;5;124m'\u001b[39m]\n\u001b[0;32m----> 2\u001b[0m following \u001b[38;5;241m=\u001b[39m \u001b[43mpd\u001b[49m\u001b[38;5;241;43m.\u001b[39;49m\u001b[43mread_csv\u001b[49m\u001b[43m(\u001b[49m\u001b[38;5;124;43m'\u001b[39;49m\u001b[38;5;124;43mraw_data/followingAugSept.csv\u001b[39;49m\u001b[38;5;124;43m'\u001b[39;49m\u001b[43m,\u001b[49m\u001b[43m \u001b[49m\u001b[43msep\u001b[49m\u001b[38;5;241;43m=\u001b[39;49m\u001b[38;5;124;43m'\u001b[39;49m\u001b[38;5;130;43;01m\\t\u001b[39;49;00m\u001b[38;5;124;43m'\u001b[39;49m\u001b[43m,\u001b[49m\u001b[43m \u001b[49m\u001b[43mon_bad_lines\u001b[49m\u001b[38;5;241;43m=\u001b[39;49m\u001b[38;5;124;43m'\u001b[39;49m\u001b[38;5;124;43mskip\u001b[39;49m\u001b[38;5;124;43m'\u001b[39;49m\u001b[43m,\u001b[49m\u001b[43m \u001b[49m\u001b[43mnames\u001b[49m\u001b[38;5;241;43m=\u001b[39;49m\u001b[43mfollowing_col_names\u001b[49m\u001b[43m)\u001b[49m\n",
      "File \u001b[0;32m~/JupyterProjects/Data Mining I/DataMiningI_py3.12/lib/python3.12/site-packages/pandas/io/parsers/readers.py:1026\u001b[0m, in \u001b[0;36mread_csv\u001b[0;34m(filepath_or_buffer, sep, delimiter, header, names, index_col, usecols, dtype, engine, converters, true_values, false_values, skipinitialspace, skiprows, skipfooter, nrows, na_values, keep_default_na, na_filter, verbose, skip_blank_lines, parse_dates, infer_datetime_format, keep_date_col, date_parser, date_format, dayfirst, cache_dates, iterator, chunksize, compression, thousands, decimal, lineterminator, quotechar, quoting, doublequote, escapechar, comment, encoding, encoding_errors, dialect, on_bad_lines, delim_whitespace, low_memory, memory_map, float_precision, storage_options, dtype_backend)\u001b[0m\n\u001b[1;32m   1013\u001b[0m kwds_defaults \u001b[38;5;241m=\u001b[39m _refine_defaults_read(\n\u001b[1;32m   1014\u001b[0m     dialect,\n\u001b[1;32m   1015\u001b[0m     delimiter,\n\u001b[0;32m   (...)\u001b[0m\n\u001b[1;32m   1022\u001b[0m     dtype_backend\u001b[38;5;241m=\u001b[39mdtype_backend,\n\u001b[1;32m   1023\u001b[0m )\n\u001b[1;32m   1024\u001b[0m kwds\u001b[38;5;241m.\u001b[39mupdate(kwds_defaults)\n\u001b[0;32m-> 1026\u001b[0m \u001b[38;5;28;01mreturn\u001b[39;00m \u001b[43m_read\u001b[49m\u001b[43m(\u001b[49m\u001b[43mfilepath_or_buffer\u001b[49m\u001b[43m,\u001b[49m\u001b[43m \u001b[49m\u001b[43mkwds\u001b[49m\u001b[43m)\u001b[49m\n",
      "File \u001b[0;32m~/JupyterProjects/Data Mining I/DataMiningI_py3.12/lib/python3.12/site-packages/pandas/io/parsers/readers.py:626\u001b[0m, in \u001b[0;36m_read\u001b[0;34m(filepath_or_buffer, kwds)\u001b[0m\n\u001b[1;32m    623\u001b[0m     \u001b[38;5;28;01mreturn\u001b[39;00m parser\n\u001b[1;32m    625\u001b[0m \u001b[38;5;28;01mwith\u001b[39;00m parser:\n\u001b[0;32m--> 626\u001b[0m     \u001b[38;5;28;01mreturn\u001b[39;00m \u001b[43mparser\u001b[49m\u001b[38;5;241;43m.\u001b[39;49m\u001b[43mread\u001b[49m\u001b[43m(\u001b[49m\u001b[43mnrows\u001b[49m\u001b[43m)\u001b[49m\n",
      "File \u001b[0;32m~/JupyterProjects/Data Mining I/DataMiningI_py3.12/lib/python3.12/site-packages/pandas/io/parsers/readers.py:1968\u001b[0m, in \u001b[0;36mTextFileReader.read\u001b[0;34m(self, nrows)\u001b[0m\n\u001b[1;32m   1965\u001b[0m     \u001b[38;5;28;01melse\u001b[39;00m:\n\u001b[1;32m   1966\u001b[0m         new_col_dict \u001b[38;5;241m=\u001b[39m col_dict\n\u001b[0;32m-> 1968\u001b[0m     df \u001b[38;5;241m=\u001b[39m \u001b[43mDataFrame\u001b[49m\u001b[43m(\u001b[49m\n\u001b[1;32m   1969\u001b[0m \u001b[43m        \u001b[49m\u001b[43mnew_col_dict\u001b[49m\u001b[43m,\u001b[49m\n\u001b[1;32m   1970\u001b[0m \u001b[43m        \u001b[49m\u001b[43mcolumns\u001b[49m\u001b[38;5;241;43m=\u001b[39;49m\u001b[43mcolumns\u001b[49m\u001b[43m,\u001b[49m\n\u001b[1;32m   1971\u001b[0m \u001b[43m        \u001b[49m\u001b[43mindex\u001b[49m\u001b[38;5;241;43m=\u001b[39;49m\u001b[43mindex\u001b[49m\u001b[43m,\u001b[49m\n\u001b[1;32m   1972\u001b[0m \u001b[43m        \u001b[49m\u001b[43mcopy\u001b[49m\u001b[38;5;241;43m=\u001b[39;49m\u001b[38;5;129;43;01mnot\u001b[39;49;00m\u001b[43m \u001b[49m\u001b[43musing_copy_on_write\u001b[49m\u001b[43m(\u001b[49m\u001b[43m)\u001b[49m\u001b[43m,\u001b[49m\n\u001b[1;32m   1973\u001b[0m \u001b[43m    \u001b[49m\u001b[43m)\u001b[49m\n\u001b[1;32m   1975\u001b[0m     \u001b[38;5;28mself\u001b[39m\u001b[38;5;241m.\u001b[39m_currow \u001b[38;5;241m+\u001b[39m\u001b[38;5;241m=\u001b[39m new_rows\n\u001b[1;32m   1976\u001b[0m \u001b[38;5;28;01mreturn\u001b[39;00m df\n",
      "File \u001b[0;32m~/JupyterProjects/Data Mining I/DataMiningI_py3.12/lib/python3.12/site-packages/pandas/core/frame.py:778\u001b[0m, in \u001b[0;36mDataFrame.__init__\u001b[0;34m(self, data, index, columns, dtype, copy)\u001b[0m\n\u001b[1;32m    772\u001b[0m     mgr \u001b[38;5;241m=\u001b[39m \u001b[38;5;28mself\u001b[39m\u001b[38;5;241m.\u001b[39m_init_mgr(\n\u001b[1;32m    773\u001b[0m         data, axes\u001b[38;5;241m=\u001b[39m{\u001b[38;5;124m\"\u001b[39m\u001b[38;5;124mindex\u001b[39m\u001b[38;5;124m\"\u001b[39m: index, \u001b[38;5;124m\"\u001b[39m\u001b[38;5;124mcolumns\u001b[39m\u001b[38;5;124m\"\u001b[39m: columns}, dtype\u001b[38;5;241m=\u001b[39mdtype, copy\u001b[38;5;241m=\u001b[39mcopy\n\u001b[1;32m    774\u001b[0m     )\n\u001b[1;32m    776\u001b[0m \u001b[38;5;28;01melif\u001b[39;00m \u001b[38;5;28misinstance\u001b[39m(data, \u001b[38;5;28mdict\u001b[39m):\n\u001b[1;32m    777\u001b[0m     \u001b[38;5;66;03m# GH#38939 de facto copy defaults to False only in non-dict cases\u001b[39;00m\n\u001b[0;32m--> 778\u001b[0m     mgr \u001b[38;5;241m=\u001b[39m \u001b[43mdict_to_mgr\u001b[49m\u001b[43m(\u001b[49m\u001b[43mdata\u001b[49m\u001b[43m,\u001b[49m\u001b[43m \u001b[49m\u001b[43mindex\u001b[49m\u001b[43m,\u001b[49m\u001b[43m \u001b[49m\u001b[43mcolumns\u001b[49m\u001b[43m,\u001b[49m\u001b[43m \u001b[49m\u001b[43mdtype\u001b[49m\u001b[38;5;241;43m=\u001b[39;49m\u001b[43mdtype\u001b[49m\u001b[43m,\u001b[49m\u001b[43m \u001b[49m\u001b[43mcopy\u001b[49m\u001b[38;5;241;43m=\u001b[39;49m\u001b[43mcopy\u001b[49m\u001b[43m,\u001b[49m\u001b[43m \u001b[49m\u001b[43mtyp\u001b[49m\u001b[38;5;241;43m=\u001b[39;49m\u001b[43mmanager\u001b[49m\u001b[43m)\u001b[49m\n\u001b[1;32m    779\u001b[0m \u001b[38;5;28;01melif\u001b[39;00m \u001b[38;5;28misinstance\u001b[39m(data, ma\u001b[38;5;241m.\u001b[39mMaskedArray):\n\u001b[1;32m    780\u001b[0m     \u001b[38;5;28;01mfrom\u001b[39;00m \u001b[38;5;21;01mnumpy\u001b[39;00m\u001b[38;5;21;01m.\u001b[39;00m\u001b[38;5;21;01mma\u001b[39;00m \u001b[38;5;28;01mimport\u001b[39;00m mrecords\n",
      "File \u001b[0;32m~/JupyterProjects/Data Mining I/DataMiningI_py3.12/lib/python3.12/site-packages/pandas/core/internals/construction.py:503\u001b[0m, in \u001b[0;36mdict_to_mgr\u001b[0;34m(data, index, columns, dtype, typ, copy)\u001b[0m\n\u001b[1;32m    499\u001b[0m     \u001b[38;5;28;01melse\u001b[39;00m:\n\u001b[1;32m    500\u001b[0m         \u001b[38;5;66;03m# dtype check to exclude e.g. range objects, scalars\u001b[39;00m\n\u001b[1;32m    501\u001b[0m         arrays \u001b[38;5;241m=\u001b[39m [x\u001b[38;5;241m.\u001b[39mcopy() \u001b[38;5;28;01mif\u001b[39;00m \u001b[38;5;28mhasattr\u001b[39m(x, \u001b[38;5;124m\"\u001b[39m\u001b[38;5;124mdtype\u001b[39m\u001b[38;5;124m\"\u001b[39m) \u001b[38;5;28;01melse\u001b[39;00m x \u001b[38;5;28;01mfor\u001b[39;00m x \u001b[38;5;129;01min\u001b[39;00m arrays]\n\u001b[0;32m--> 503\u001b[0m \u001b[38;5;28;01mreturn\u001b[39;00m \u001b[43marrays_to_mgr\u001b[49m\u001b[43m(\u001b[49m\u001b[43marrays\u001b[49m\u001b[43m,\u001b[49m\u001b[43m \u001b[49m\u001b[43mcolumns\u001b[49m\u001b[43m,\u001b[49m\u001b[43m \u001b[49m\u001b[43mindex\u001b[49m\u001b[43m,\u001b[49m\u001b[43m \u001b[49m\u001b[43mdtype\u001b[49m\u001b[38;5;241;43m=\u001b[39;49m\u001b[43mdtype\u001b[49m\u001b[43m,\u001b[49m\u001b[43m \u001b[49m\u001b[43mtyp\u001b[49m\u001b[38;5;241;43m=\u001b[39;49m\u001b[43mtyp\u001b[49m\u001b[43m,\u001b[49m\u001b[43m \u001b[49m\u001b[43mconsolidate\u001b[49m\u001b[38;5;241;43m=\u001b[39;49m\u001b[43mcopy\u001b[49m\u001b[43m)\u001b[49m\n",
      "File \u001b[0;32m~/JupyterProjects/Data Mining I/DataMiningI_py3.12/lib/python3.12/site-packages/pandas/core/internals/construction.py:152\u001b[0m, in \u001b[0;36marrays_to_mgr\u001b[0;34m(arrays, columns, index, dtype, verify_integrity, typ, consolidate)\u001b[0m\n\u001b[1;32m    149\u001b[0m axes \u001b[38;5;241m=\u001b[39m [columns, index]\n\u001b[1;32m    151\u001b[0m \u001b[38;5;28;01mif\u001b[39;00m typ \u001b[38;5;241m==\u001b[39m \u001b[38;5;124m\"\u001b[39m\u001b[38;5;124mblock\u001b[39m\u001b[38;5;124m\"\u001b[39m:\n\u001b[0;32m--> 152\u001b[0m     \u001b[38;5;28;01mreturn\u001b[39;00m \u001b[43mcreate_block_manager_from_column_arrays\u001b[49m\u001b[43m(\u001b[49m\n\u001b[1;32m    153\u001b[0m \u001b[43m        \u001b[49m\u001b[43marrays\u001b[49m\u001b[43m,\u001b[49m\u001b[43m \u001b[49m\u001b[43maxes\u001b[49m\u001b[43m,\u001b[49m\u001b[43m \u001b[49m\u001b[43mconsolidate\u001b[49m\u001b[38;5;241;43m=\u001b[39;49m\u001b[43mconsolidate\u001b[49m\u001b[43m,\u001b[49m\u001b[43m \u001b[49m\u001b[43mrefs\u001b[49m\u001b[38;5;241;43m=\u001b[39;49m\u001b[43mrefs\u001b[49m\n\u001b[1;32m    154\u001b[0m \u001b[43m    \u001b[49m\u001b[43m)\u001b[49m\n\u001b[1;32m    155\u001b[0m \u001b[38;5;28;01melif\u001b[39;00m typ \u001b[38;5;241m==\u001b[39m \u001b[38;5;124m\"\u001b[39m\u001b[38;5;124marray\u001b[39m\u001b[38;5;124m\"\u001b[39m:\n\u001b[1;32m    156\u001b[0m     \u001b[38;5;28;01mreturn\u001b[39;00m ArrayManager(arrays, [index, columns])\n",
      "File \u001b[0;32m~/JupyterProjects/Data Mining I/DataMiningI_py3.12/lib/python3.12/site-packages/pandas/core/internals/managers.py:2139\u001b[0m, in \u001b[0;36mcreate_block_manager_from_column_arrays\u001b[0;34m(arrays, axes, consolidate, refs)\u001b[0m\n\u001b[1;32m   2121\u001b[0m \u001b[38;5;28;01mdef\u001b[39;00m \u001b[38;5;21mcreate_block_manager_from_column_arrays\u001b[39m(\n\u001b[1;32m   2122\u001b[0m     arrays: \u001b[38;5;28mlist\u001b[39m[ArrayLike],\n\u001b[1;32m   2123\u001b[0m     axes: \u001b[38;5;28mlist\u001b[39m[Index],\n\u001b[0;32m   (...)\u001b[0m\n\u001b[1;32m   2135\u001b[0m     \u001b[38;5;66;03m# These last three are sufficient to allow us to safely pass\u001b[39;00m\n\u001b[1;32m   2136\u001b[0m     \u001b[38;5;66;03m#  verify_integrity=False below.\u001b[39;00m\n\u001b[1;32m   2138\u001b[0m     \u001b[38;5;28;01mtry\u001b[39;00m:\n\u001b[0;32m-> 2139\u001b[0m         blocks \u001b[38;5;241m=\u001b[39m \u001b[43m_form_blocks\u001b[49m\u001b[43m(\u001b[49m\u001b[43marrays\u001b[49m\u001b[43m,\u001b[49m\u001b[43m \u001b[49m\u001b[43mconsolidate\u001b[49m\u001b[43m,\u001b[49m\u001b[43m \u001b[49m\u001b[43mrefs\u001b[49m\u001b[43m)\u001b[49m\n\u001b[1;32m   2140\u001b[0m         mgr \u001b[38;5;241m=\u001b[39m BlockManager(blocks, axes, verify_integrity\u001b[38;5;241m=\u001b[39m\u001b[38;5;28;01mFalse\u001b[39;00m)\n\u001b[1;32m   2141\u001b[0m     \u001b[38;5;28;01mexcept\u001b[39;00m \u001b[38;5;167;01mValueError\u001b[39;00m \u001b[38;5;28;01mas\u001b[39;00m e:\n",
      "File \u001b[0;32m~/JupyterProjects/Data Mining I/DataMiningI_py3.12/lib/python3.12/site-packages/pandas/core/internals/managers.py:2212\u001b[0m, in \u001b[0;36m_form_blocks\u001b[0;34m(arrays, consolidate, refs)\u001b[0m\n\u001b[1;32m   2209\u001b[0m \u001b[38;5;28;01mif\u001b[39;00m \u001b[38;5;28missubclass\u001b[39m(dtype\u001b[38;5;241m.\u001b[39mtype, (\u001b[38;5;28mstr\u001b[39m, \u001b[38;5;28mbytes\u001b[39m)):\n\u001b[1;32m   2210\u001b[0m     dtype \u001b[38;5;241m=\u001b[39m np\u001b[38;5;241m.\u001b[39mdtype(\u001b[38;5;28mobject\u001b[39m)\n\u001b[0;32m-> 2212\u001b[0m values, placement \u001b[38;5;241m=\u001b[39m \u001b[43m_stack_arrays\u001b[49m\u001b[43m(\u001b[49m\u001b[38;5;28;43mlist\u001b[39;49m\u001b[43m(\u001b[49m\u001b[43mtup_block\u001b[49m\u001b[43m)\u001b[49m\u001b[43m,\u001b[49m\u001b[43m \u001b[49m\u001b[43mdtype\u001b[49m\u001b[43m)\u001b[49m\n\u001b[1;32m   2213\u001b[0m \u001b[38;5;28;01mif\u001b[39;00m is_dtlike:\n\u001b[1;32m   2214\u001b[0m     values \u001b[38;5;241m=\u001b[39m ensure_wrapped_if_datetimelike(values)\n",
      "File \u001b[0;32m~/JupyterProjects/Data Mining I/DataMiningI_py3.12/lib/python3.12/site-packages/pandas/core/internals/managers.py:2254\u001b[0m, in \u001b[0;36m_stack_arrays\u001b[0;34m(tuples, dtype)\u001b[0m\n\u001b[1;32m   2252\u001b[0m stacked \u001b[38;5;241m=\u001b[39m np\u001b[38;5;241m.\u001b[39mempty(shape, dtype\u001b[38;5;241m=\u001b[39mdtype)\n\u001b[1;32m   2253\u001b[0m \u001b[38;5;28;01mfor\u001b[39;00m i, arr \u001b[38;5;129;01min\u001b[39;00m \u001b[38;5;28menumerate\u001b[39m(arrays):\n\u001b[0;32m-> 2254\u001b[0m     stacked[i] \u001b[38;5;241m=\u001b[39m arr\n\u001b[1;32m   2256\u001b[0m \u001b[38;5;28;01mreturn\u001b[39;00m stacked, placement\n",
      "\u001b[0;31mKeyboardInterrupt\u001b[0m: "
     ]
    }
   ],
   "source": [
    "following_col_names = ['FollowerID', 'FollowedID', 'Timestamp']\n",
    "following = pd.read_csv('raw_data/followingAugSept.csv', sep='\\t', on_bad_lines='skip', names=following_col_names)"
   ]
  },
  {
   "cell_type": "code",
   "execution_count": 7,
   "metadata": {},
   "outputs": [],
   "source": [
    "comments_col_names = ['PostID', 'EntryID', 'PostedBy', 'SourceName', 'SourceURL', 'GeoX', 'GeoY', 'Timestamp', 'Text', 'NumImg', 'ImgURL', 'NumVid', 'VidURL']\n",
    "comments = pd.read_csv('raw_data/commentAugSept.csv', sep='\\t', on_bad_lines='skip', names=comments_col_names)"
   ]
  },
  {
   "cell_type": "code",
   "execution_count": 8,
   "metadata": {},
   "outputs": [],
   "source": [
    "entries_col_names = ['PostID', 'PostedBy', 'SourceName', 'SourceURL', 'GeoX', 'GeoY', 'Timestamp', 'Text', 'NumImg', 'ImgURL', 'NumVid', 'VidURL']\n",
    "entries1 = pd.read_csv('raw_data/entries1.csv', sep='\\t', on_bad_lines='skip', names=entries_col_names)\n",
    "entries2 = pd.read_csv('raw_data/entries2.csv', sep='\\t', on_bad_lines='skip', names=entries_col_names)\n",
    "entries3 = pd.read_csv('raw_data/entries3.csv', sep='\\t', on_bad_lines='skip', names=entries_col_names)\n",
    "entries = pd.concat([entries1, entries2, entries3], ignore_index=True)"
   ]
  },
  {
   "cell_type": "markdown",
   "metadata": {},
   "source": [
    "# Drop unrelevant columns"
   ]
  },
  {
   "cell_type": "code",
   "execution_count": 11,
   "metadata": {},
   "outputs": [],
   "source": [
    "users.drop('Reserved field', axis=1, inplace=True)"
   ]
  },
  {
   "cell_type": "code",
   "execution_count": 10,
   "metadata": {},
   "outputs": [],
   "source": [
    "services.drop(['ServiceName', 'UserNameOnService', 'UserURLOnService'], axis=1, inplace=True)"
   ]
  },
  {
   "cell_type": "code",
   "execution_count": 11,
   "metadata": {},
   "outputs": [],
   "source": [
    "comments.drop(['SourceName', 'GeoX', 'GeoY', 'NumImg', 'NumVid', 'ImgURL', 'VidURL'], axis=1, inplace=True)"
   ]
  },
  {
   "cell_type": "code",
   "execution_count": 12,
   "metadata": {},
   "outputs": [],
   "source": [
    "entries.drop(['SourceName', 'GeoX', 'GeoY', 'NumImg', 'NumVid', 'ImgURL', 'VidURL'], axis=1, inplace=True)"
   ]
  },
  {
   "cell_type": "markdown",
   "metadata": {},
   "source": [
    "# Get data overview"
   ]
  },
  {
   "cell_type": "markdown",
   "metadata": {},
   "source": [
    "## Users"
   ]
  },
  {
   "cell_type": "code",
   "execution_count": 13,
   "metadata": {},
   "outputs": [
    {
     "data": {
      "text/html": [
       "<div>\n",
       "<style scoped>\n",
       "    .dataframe tbody tr th:only-of-type {\n",
       "        vertical-align: middle;\n",
       "    }\n",
       "\n",
       "    .dataframe tbody tr th {\n",
       "        vertical-align: top;\n",
       "    }\n",
       "\n",
       "    .dataframe thead th {\n",
       "        text-align: right;\n",
       "    }\n",
       "</style>\n",
       "<table border=\"1\" class=\"dataframe\">\n",
       "  <thead>\n",
       "    <tr style=\"text-align: right;\">\n",
       "      <th></th>\n",
       "      <th>ID</th>\n",
       "      <th>Type</th>\n",
       "      <th>Name</th>\n",
       "      <th>Description</th>\n",
       "    </tr>\n",
       "  </thead>\n",
       "  <tbody>\n",
       "    <tr>\n",
       "      <th>0</th>\n",
       "      <td>2gwsk</td>\n",
       "      <td>user</td>\n",
       "      <td>Ming Quek</td>\n",
       "      <td>NaN</td>\n",
       "    </tr>\n",
       "    <tr>\n",
       "      <th>1</th>\n",
       "      <td>iroach</td>\n",
       "      <td>user</td>\n",
       "      <td>Isaac Roach</td>\n",
       "      <td>NaN</td>\n",
       "    </tr>\n",
       "    <tr>\n",
       "      <th>2</th>\n",
       "      <td>tonybraun</td>\n",
       "      <td>user</td>\n",
       "      <td>Tony Braun</td>\n",
       "      <td>NaN</td>\n",
       "    </tr>\n",
       "    <tr>\n",
       "      <th>3</th>\n",
       "      <td>junknajidyahoocom1</td>\n",
       "      <td>user</td>\n",
       "      <td>Junknajid Yahoocom</td>\n",
       "      <td>NaN</td>\n",
       "    </tr>\n",
       "    <tr>\n",
       "      <th>4</th>\n",
       "      <td>spaceastronautics</td>\n",
       "      <td>user</td>\n",
       "      <td>Space &amp; Astronautics News</td>\n",
       "      <td>NASA, ESA, NOAA, USGS, astronomy, space, weath...</td>\n",
       "    </tr>\n",
       "  </tbody>\n",
       "</table>\n",
       "</div>"
      ],
      "text/plain": [
       "                   ID  Type                       Name  \\\n",
       "0               2gwsk  user                  Ming Quek   \n",
       "1              iroach  user                Isaac Roach   \n",
       "2           tonybraun  user                 Tony Braun   \n",
       "3  junknajidyahoocom1  user         Junknajid Yahoocom   \n",
       "4   spaceastronautics  user  Space & Astronautics News   \n",
       "\n",
       "                                         Description  \n",
       "0                                                NaN  \n",
       "1                                                NaN  \n",
       "2                                                NaN  \n",
       "3                                                NaN  \n",
       "4  NASA, ESA, NOAA, USGS, astronomy, space, weath...  "
      ]
     },
     "execution_count": 13,
     "metadata": {},
     "output_type": "execute_result"
    }
   ],
   "source": [
    "users.head()"
   ]
  },
  {
   "cell_type": "code",
   "execution_count": 14,
   "metadata": {},
   "outputs": [
    {
     "name": "stdout",
     "output_type": "stream",
     "text": [
      "<class 'pandas.core.frame.DataFrame'>\n",
      "RangeIndex: 665382 entries, 0 to 665381\n",
      "Data columns (total 4 columns):\n",
      " #   Column       Non-Null Count   Dtype \n",
      "---  ------       --------------   ----- \n",
      " 0   ID           665382 non-null  object\n",
      " 1   Type         665382 non-null  object\n",
      " 2   Name         665376 non-null  object\n",
      " 3   Description  172177 non-null  object\n",
      "dtypes: object(4)\n",
      "memory usage: 20.3+ MB\n"
     ]
    }
   ],
   "source": [
    "users.info()"
   ]
  },
  {
   "cell_type": "code",
   "execution_count": 15,
   "metadata": {},
   "outputs": [
    {
     "data": {
      "text/html": [
       "<div>\n",
       "<style scoped>\n",
       "    .dataframe tbody tr th:only-of-type {\n",
       "        vertical-align: middle;\n",
       "    }\n",
       "\n",
       "    .dataframe tbody tr th {\n",
       "        vertical-align: top;\n",
       "    }\n",
       "\n",
       "    .dataframe thead th {\n",
       "        text-align: right;\n",
       "    }\n",
       "</style>\n",
       "<table border=\"1\" class=\"dataframe\">\n",
       "  <thead>\n",
       "    <tr style=\"text-align: right;\">\n",
       "      <th></th>\n",
       "      <th>ID</th>\n",
       "      <th>Type</th>\n",
       "      <th>Name</th>\n",
       "      <th>Description</th>\n",
       "    </tr>\n",
       "  </thead>\n",
       "  <tbody>\n",
       "    <tr>\n",
       "      <th>count</th>\n",
       "      <td>665382</td>\n",
       "      <td>665382</td>\n",
       "      <td>665376</td>\n",
       "      <td>172177</td>\n",
       "    </tr>\n",
       "    <tr>\n",
       "      <th>unique</th>\n",
       "      <td>645414</td>\n",
       "      <td>2</td>\n",
       "      <td>546438</td>\n",
       "      <td>161828</td>\n",
       "    </tr>\n",
       "    <tr>\n",
       "      <th>top</th>\n",
       "      <td>abdullahazad</td>\n",
       "      <td>user</td>\n",
       "      <td>Chris</td>\n",
       "      <td>...</td>\n",
       "    </tr>\n",
       "    <tr>\n",
       "      <th>freq</th>\n",
       "      <td>3</td>\n",
       "      <td>619551</td>\n",
       "      <td>503</td>\n",
       "      <td>111</td>\n",
       "    </tr>\n",
       "  </tbody>\n",
       "</table>\n",
       "</div>"
      ],
      "text/plain": [
       "                  ID    Type    Name Description\n",
       "count         665382  665382  665376      172177\n",
       "unique        645414       2  546438      161828\n",
       "top     abdullahazad    user   Chris         ...\n",
       "freq               3  619551     503         111"
      ]
     },
     "execution_count": 15,
     "metadata": {},
     "output_type": "execute_result"
    }
   ],
   "source": [
    "users.describe()"
   ]
  },
  {
   "cell_type": "markdown",
   "metadata": {},
   "source": [
    "## Subs"
   ]
  },
  {
   "cell_type": "code",
   "execution_count": 16,
   "metadata": {},
   "outputs": [
    {
     "data": {
      "text/html": [
       "<div>\n",
       "<style scoped>\n",
       "    .dataframe tbody tr th:only-of-type {\n",
       "        vertical-align: middle;\n",
       "    }\n",
       "\n",
       "    .dataframe tbody tr th {\n",
       "        vertical-align: top;\n",
       "    }\n",
       "\n",
       "    .dataframe thead th {\n",
       "        text-align: right;\n",
       "    }\n",
       "</style>\n",
       "<table border=\"1\" class=\"dataframe\">\n",
       "  <thead>\n",
       "    <tr style=\"text-align: right;\">\n",
       "      <th></th>\n",
       "      <th>FollowerID</th>\n",
       "      <th>FollowedID</th>\n",
       "    </tr>\n",
       "  </thead>\n",
       "  <tbody>\n",
       "    <tr>\n",
       "      <th>0</th>\n",
       "      <td>seoptimise</td>\n",
       "      <td>2gwsk</td>\n",
       "    </tr>\n",
       "    <tr>\n",
       "      <th>1</th>\n",
       "      <td>xahac</td>\n",
       "      <td>2gwsk</td>\n",
       "    </tr>\n",
       "    <tr>\n",
       "      <th>2</th>\n",
       "      <td>kmorrison</td>\n",
       "      <td>iroach</td>\n",
       "    </tr>\n",
       "    <tr>\n",
       "      <th>3</th>\n",
       "      <td>seoptimise</td>\n",
       "      <td>iroach</td>\n",
       "    </tr>\n",
       "    <tr>\n",
       "      <th>4</th>\n",
       "      <td>skyje</td>\n",
       "      <td>iroach</td>\n",
       "    </tr>\n",
       "  </tbody>\n",
       "</table>\n",
       "</div>"
      ],
      "text/plain": [
       "   FollowerID FollowedID\n",
       "0  seoptimise      2gwsk\n",
       "1       xahac      2gwsk\n",
       "2   kmorrison     iroach\n",
       "3  seoptimise     iroach\n",
       "4       skyje     iroach"
      ]
     },
     "execution_count": 16,
     "metadata": {},
     "output_type": "execute_result"
    }
   ],
   "source": [
    "subs.head()"
   ]
  },
  {
   "cell_type": "code",
   "execution_count": 17,
   "metadata": {},
   "outputs": [
    {
     "name": "stdout",
     "output_type": "stream",
     "text": [
      "<class 'pandas.core.frame.DataFrame'>\n",
      "RangeIndex: 27811816 entries, 0 to 27811815\n",
      "Data columns (total 2 columns):\n",
      " #   Column      Dtype \n",
      "---  ------      ----- \n",
      " 0   FollowerID  object\n",
      " 1   FollowedID  object\n",
      "dtypes: object(2)\n",
      "memory usage: 424.4+ MB\n"
     ]
    }
   ],
   "source": [
    "subs.info()"
   ]
  },
  {
   "cell_type": "code",
   "execution_count": 18,
   "metadata": {},
   "outputs": [
    {
     "data": {
      "text/html": [
       "<div>\n",
       "<style scoped>\n",
       "    .dataframe tbody tr th:only-of-type {\n",
       "        vertical-align: middle;\n",
       "    }\n",
       "\n",
       "    .dataframe tbody tr th {\n",
       "        vertical-align: top;\n",
       "    }\n",
       "\n",
       "    .dataframe thead th {\n",
       "        text-align: right;\n",
       "    }\n",
       "</style>\n",
       "<table border=\"1\" class=\"dataframe\">\n",
       "  <thead>\n",
       "    <tr style=\"text-align: right;\">\n",
       "      <th></th>\n",
       "      <th>FollowerID</th>\n",
       "      <th>FollowedID</th>\n",
       "    </tr>\n",
       "  </thead>\n",
       "  <tbody>\n",
       "    <tr>\n",
       "      <th>count</th>\n",
       "      <td>27811816</td>\n",
       "      <td>27811816</td>\n",
       "    </tr>\n",
       "    <tr>\n",
       "      <th>unique</th>\n",
       "      <td>535673</td>\n",
       "      <td>536131</td>\n",
       "    </tr>\n",
       "    <tr>\n",
       "      <th>top</th>\n",
       "      <td>br3adman</td>\n",
       "      <td>barackobama</td>\n",
       "    </tr>\n",
       "    <tr>\n",
       "      <th>freq</th>\n",
       "      <td>112145</td>\n",
       "      <td>113923</td>\n",
       "    </tr>\n",
       "  </tbody>\n",
       "</table>\n",
       "</div>"
      ],
      "text/plain": [
       "       FollowerID   FollowedID\n",
       "count    27811816     27811816\n",
       "unique     535673       536131\n",
       "top      br3adman  barackobama\n",
       "freq       112145       113923"
      ]
     },
     "execution_count": 18,
     "metadata": {},
     "output_type": "execute_result"
    }
   ],
   "source": [
    "subs.describe()"
   ]
  },
  {
   "cell_type": "markdown",
   "metadata": {},
   "source": [
    "## Services"
   ]
  },
  {
   "cell_type": "code",
   "execution_count": 19,
   "metadata": {},
   "outputs": [
    {
     "data": {
      "text/html": [
       "<div>\n",
       "<style scoped>\n",
       "    .dataframe tbody tr th:only-of-type {\n",
       "        vertical-align: middle;\n",
       "    }\n",
       "\n",
       "    .dataframe tbody tr th {\n",
       "        vertical-align: top;\n",
       "    }\n",
       "\n",
       "    .dataframe thead th {\n",
       "        text-align: right;\n",
       "    }\n",
       "</style>\n",
       "<table border=\"1\" class=\"dataframe\">\n",
       "  <thead>\n",
       "    <tr style=\"text-align: right;\">\n",
       "      <th></th>\n",
       "      <th>UserID</th>\n",
       "      <th>ServiceID</th>\n",
       "      <th>ServiceURL</th>\n",
       "    </tr>\n",
       "  </thead>\n",
       "  <tbody>\n",
       "    <tr>\n",
       "      <th>0</th>\n",
       "      <td>2gwsk</td>\n",
       "      <td>blog</td>\n",
       "      <td>http://en.wikipedia.org/wiki/Blog</td>\n",
       "    </tr>\n",
       "    <tr>\n",
       "      <th>1</th>\n",
       "      <td>2gwsk</td>\n",
       "      <td>twitter</td>\n",
       "      <td>http://twitter.com/</td>\n",
       "    </tr>\n",
       "    <tr>\n",
       "      <th>2</th>\n",
       "      <td>iroach</td>\n",
       "      <td>facebook</td>\n",
       "      <td>http://www.facebook.com/</td>\n",
       "    </tr>\n",
       "    <tr>\n",
       "      <th>3</th>\n",
       "      <td>iroach</td>\n",
       "      <td>googletalk</td>\n",
       "      <td>http://talk.google.com/</td>\n",
       "    </tr>\n",
       "    <tr>\n",
       "      <th>4</th>\n",
       "      <td>iroach</td>\n",
       "      <td>twitter</td>\n",
       "      <td>http://twitter.com/</td>\n",
       "    </tr>\n",
       "  </tbody>\n",
       "</table>\n",
       "</div>"
      ],
      "text/plain": [
       "   UserID   ServiceID                         ServiceURL\n",
       "0   2gwsk        blog  http://en.wikipedia.org/wiki/Blog\n",
       "1   2gwsk     twitter                http://twitter.com/\n",
       "2  iroach    facebook           http://www.facebook.com/\n",
       "3  iroach  googletalk            http://talk.google.com/\n",
       "4  iroach     twitter                http://twitter.com/"
      ]
     },
     "execution_count": 19,
     "metadata": {},
     "output_type": "execute_result"
    }
   ],
   "source": [
    "services.head()"
   ]
  },
  {
   "cell_type": "code",
   "execution_count": 20,
   "metadata": {},
   "outputs": [
    {
     "name": "stdout",
     "output_type": "stream",
     "text": [
      "<class 'pandas.core.frame.DataFrame'>\n",
      "RangeIndex: 1587290 entries, 0 to 1587289\n",
      "Data columns (total 3 columns):\n",
      " #   Column      Non-Null Count    Dtype \n",
      "---  ------      --------------    ----- \n",
      " 0   UserID      1587285 non-null  object\n",
      " 1   ServiceID   1587283 non-null  object\n",
      " 2   ServiceURL  1587278 non-null  object\n",
      "dtypes: object(3)\n",
      "memory usage: 36.3+ MB\n"
     ]
    }
   ],
   "source": [
    "services.info()"
   ]
  },
  {
   "cell_type": "code",
   "execution_count": 21,
   "metadata": {},
   "outputs": [
    {
     "data": {
      "text/html": [
       "<div>\n",
       "<style scoped>\n",
       "    .dataframe tbody tr th:only-of-type {\n",
       "        vertical-align: middle;\n",
       "    }\n",
       "\n",
       "    .dataframe tbody tr th {\n",
       "        vertical-align: top;\n",
       "    }\n",
       "\n",
       "    .dataframe thead th {\n",
       "        text-align: right;\n",
       "    }\n",
       "</style>\n",
       "<table border=\"1\" class=\"dataframe\">\n",
       "  <thead>\n",
       "    <tr style=\"text-align: right;\">\n",
       "      <th></th>\n",
       "      <th>UserID</th>\n",
       "      <th>ServiceID</th>\n",
       "      <th>ServiceURL</th>\n",
       "    </tr>\n",
       "  </thead>\n",
       "  <tbody>\n",
       "    <tr>\n",
       "      <th>count</th>\n",
       "      <td>1587285</td>\n",
       "      <td>1587283</td>\n",
       "      <td>1587278</td>\n",
       "    </tr>\n",
       "    <tr>\n",
       "      <th>unique</th>\n",
       "      <td>322974</td>\n",
       "      <td>66</td>\n",
       "      <td>61</td>\n",
       "    </tr>\n",
       "    <tr>\n",
       "      <th>top</th>\n",
       "      <td>julieannevanzyl</td>\n",
       "      <td>blog</td>\n",
       "      <td>http://en.wikipedia.org/wiki/Blog</td>\n",
       "    </tr>\n",
       "    <tr>\n",
       "      <th>freq</th>\n",
       "      <td>880</td>\n",
       "      <td>353941</td>\n",
       "      <td>353941</td>\n",
       "    </tr>\n",
       "  </tbody>\n",
       "</table>\n",
       "</div>"
      ],
      "text/plain": [
       "                 UserID ServiceID                         ServiceURL\n",
       "count           1587285   1587283                            1587278\n",
       "unique           322974        66                                 61\n",
       "top     julieannevanzyl      blog  http://en.wikipedia.org/wiki/Blog\n",
       "freq                880    353941                             353941"
      ]
     },
     "execution_count": 21,
     "metadata": {},
     "output_type": "execute_result"
    }
   ],
   "source": [
    "services.describe()"
   ]
  },
  {
   "cell_type": "markdown",
   "metadata": {},
   "source": [
    "## Likes"
   ]
  },
  {
   "cell_type": "code",
   "execution_count": 22,
   "metadata": {},
   "outputs": [
    {
     "data": {
      "text/html": [
       "<div>\n",
       "<style scoped>\n",
       "    .dataframe tbody tr th:only-of-type {\n",
       "        vertical-align: middle;\n",
       "    }\n",
       "\n",
       "    .dataframe tbody tr th {\n",
       "        vertical-align: top;\n",
       "    }\n",
       "\n",
       "    .dataframe thead th {\n",
       "        text-align: right;\n",
       "    }\n",
       "</style>\n",
       "<table border=\"1\" class=\"dataframe\">\n",
       "  <thead>\n",
       "    <tr style=\"text-align: right;\">\n",
       "      <th></th>\n",
       "      <th>userID</th>\n",
       "      <th>PostID</th>\n",
       "      <th>Timestamp</th>\n",
       "    </tr>\n",
       "  </thead>\n",
       "  <tbody>\n",
       "    <tr>\n",
       "      <th>0</th>\n",
       "      <td>yasinde</td>\n",
       "      <td>e/2d4fcaed2d2a4ac1a36571b66da3f16c</td>\n",
       "      <td>2010-04-28 07:17:43</td>\n",
       "    </tr>\n",
       "    <tr>\n",
       "      <th>1</th>\n",
       "      <td>socialnewsturkey</td>\n",
       "      <td>e/2d4fcaed2d2a4ac1a36571b66da3f16c</td>\n",
       "      <td>2010-03-02 20:10:02</td>\n",
       "    </tr>\n",
       "    <tr>\n",
       "      <th>2</th>\n",
       "      <td>janzu</td>\n",
       "      <td>e/2d4fcaed2d2a4ac1a36571b66da3f16c</td>\n",
       "      <td>2010-03-02 19:50:57</td>\n",
       "    </tr>\n",
       "    <tr>\n",
       "      <th>3</th>\n",
       "      <td>mugecerman</td>\n",
       "      <td>e/2d4fcaed2d2a4ac1a36571b66da3f16c</td>\n",
       "      <td>2010-03-02 19:18:38</td>\n",
       "    </tr>\n",
       "    <tr>\n",
       "      <th>4</th>\n",
       "      <td>miocaro</td>\n",
       "      <td>e/2d4fcaed2d2a4ac1a36571b66da3f16c</td>\n",
       "      <td>2010-03-02 17:31:31</td>\n",
       "    </tr>\n",
       "  </tbody>\n",
       "</table>\n",
       "</div>"
      ],
      "text/plain": [
       "             userID                              PostID            Timestamp\n",
       "0           yasinde  e/2d4fcaed2d2a4ac1a36571b66da3f16c  2010-04-28 07:17:43\n",
       "1  socialnewsturkey  e/2d4fcaed2d2a4ac1a36571b66da3f16c  2010-03-02 20:10:02\n",
       "2             janzu  e/2d4fcaed2d2a4ac1a36571b66da3f16c  2010-03-02 19:50:57\n",
       "3        mugecerman  e/2d4fcaed2d2a4ac1a36571b66da3f16c  2010-03-02 19:18:38\n",
       "4           miocaro  e/2d4fcaed2d2a4ac1a36571b66da3f16c  2010-03-02 17:31:31"
      ]
     },
     "execution_count": 22,
     "metadata": {},
     "output_type": "execute_result"
    }
   ],
   "source": [
    "likes.head()"
   ]
  },
  {
   "cell_type": "code",
   "execution_count": 23,
   "metadata": {},
   "outputs": [
    {
     "name": "stdout",
     "output_type": "stream",
     "text": [
      "<class 'pandas.core.frame.DataFrame'>\n",
      "RangeIndex: 798112 entries, 0 to 798111\n",
      "Data columns (total 3 columns):\n",
      " #   Column     Non-Null Count   Dtype \n",
      "---  ------     --------------   ----- \n",
      " 0   userID     798112 non-null  object\n",
      " 1   PostID     798112 non-null  object\n",
      " 2   Timestamp  798112 non-null  object\n",
      "dtypes: object(3)\n",
      "memory usage: 18.3+ MB\n"
     ]
    }
   ],
   "source": [
    "likes.info()"
   ]
  },
  {
   "cell_type": "code",
   "execution_count": 24,
   "metadata": {},
   "outputs": [
    {
     "data": {
      "text/html": [
       "<div>\n",
       "<style scoped>\n",
       "    .dataframe tbody tr th:only-of-type {\n",
       "        vertical-align: middle;\n",
       "    }\n",
       "\n",
       "    .dataframe tbody tr th {\n",
       "        vertical-align: top;\n",
       "    }\n",
       "\n",
       "    .dataframe thead th {\n",
       "        text-align: right;\n",
       "    }\n",
       "</style>\n",
       "<table border=\"1\" class=\"dataframe\">\n",
       "  <thead>\n",
       "    <tr style=\"text-align: right;\">\n",
       "      <th></th>\n",
       "      <th>userID</th>\n",
       "      <th>PostID</th>\n",
       "      <th>Timestamp</th>\n",
       "    </tr>\n",
       "  </thead>\n",
       "  <tbody>\n",
       "    <tr>\n",
       "      <th>count</th>\n",
       "      <td>798112</td>\n",
       "      <td>798112</td>\n",
       "      <td>798112</td>\n",
       "    </tr>\n",
       "    <tr>\n",
       "      <th>unique</th>\n",
       "      <td>22876</td>\n",
       "      <td>475596</td>\n",
       "      <td>752560</td>\n",
       "    </tr>\n",
       "    <tr>\n",
       "      <th>top</th>\n",
       "      <td>falob</td>\n",
       "      <td>e/3a6ab67d5f184c1fa6004f94d1069a13</td>\n",
       "      <td>2010-08-02 15:11:16</td>\n",
       "    </tr>\n",
       "    <tr>\n",
       "      <th>freq</th>\n",
       "      <td>25224</td>\n",
       "      <td>409</td>\n",
       "      <td>18</td>\n",
       "    </tr>\n",
       "  </tbody>\n",
       "</table>\n",
       "</div>"
      ],
      "text/plain": [
       "        userID                              PostID            Timestamp\n",
       "count   798112                              798112               798112\n",
       "unique   22876                              475596               752560\n",
       "top      falob  e/3a6ab67d5f184c1fa6004f94d1069a13  2010-08-02 15:11:16\n",
       "freq     25224                                 409                   18"
      ]
     },
     "execution_count": 24,
     "metadata": {},
     "output_type": "execute_result"
    }
   ],
   "source": [
    "likes.describe()"
   ]
  },
  {
   "cell_type": "markdown",
   "metadata": {},
   "source": [
    "## Following "
   ]
  },
  {
   "cell_type": "code",
   "execution_count": 25,
   "metadata": {},
   "outputs": [
    {
     "data": {
      "text/html": [
       "<div>\n",
       "<style scoped>\n",
       "    .dataframe tbody tr th:only-of-type {\n",
       "        vertical-align: middle;\n",
       "    }\n",
       "\n",
       "    .dataframe tbody tr th {\n",
       "        vertical-align: top;\n",
       "    }\n",
       "\n",
       "    .dataframe thead th {\n",
       "        text-align: right;\n",
       "    }\n",
       "</style>\n",
       "<table border=\"1\" class=\"dataframe\">\n",
       "  <thead>\n",
       "    <tr style=\"text-align: right;\">\n",
       "      <th></th>\n",
       "      <th>FollowerID</th>\n",
       "      <th>FollowedID</th>\n",
       "      <th>Timestamp</th>\n",
       "    </tr>\n",
       "  </thead>\n",
       "  <tbody>\n",
       "    <tr>\n",
       "      <th>0</th>\n",
       "      <td>njsinc4el</td>\n",
       "      <td>brendafranzo</td>\n",
       "      <td>2010-08-01 16:21:37.562726</td>\n",
       "    </tr>\n",
       "    <tr>\n",
       "      <th>1</th>\n",
       "      <td>njsinc4el</td>\n",
       "      <td>praguebob</td>\n",
       "      <td>2010-08-01 16:21:37.565893</td>\n",
       "    </tr>\n",
       "    <tr>\n",
       "      <th>2</th>\n",
       "      <td>zachhwilliams</td>\n",
       "      <td>hungheroic</td>\n",
       "      <td>2010-08-01 16:21:37.779807</td>\n",
       "    </tr>\n",
       "    <tr>\n",
       "      <th>3</th>\n",
       "      <td>zachhwilliams</td>\n",
       "      <td>ridwan2906</td>\n",
       "      <td>2010-08-01 16:21:37.780406</td>\n",
       "    </tr>\n",
       "    <tr>\n",
       "      <th>4</th>\n",
       "      <td>zachhwilliams</td>\n",
       "      <td>nickcodipietro</td>\n",
       "      <td>2010-08-01 16:21:37.780894</td>\n",
       "    </tr>\n",
       "  </tbody>\n",
       "</table>\n",
       "</div>"
      ],
      "text/plain": [
       "      FollowerID      FollowedID                   Timestamp\n",
       "0      njsinc4el    brendafranzo  2010-08-01 16:21:37.562726\n",
       "1      njsinc4el       praguebob  2010-08-01 16:21:37.565893\n",
       "2  zachhwilliams      hungheroic  2010-08-01 16:21:37.779807\n",
       "3  zachhwilliams      ridwan2906  2010-08-01 16:21:37.780406\n",
       "4  zachhwilliams  nickcodipietro  2010-08-01 16:21:37.780894"
      ]
     },
     "execution_count": 25,
     "metadata": {},
     "output_type": "execute_result"
    }
   ],
   "source": [
    "following.head()"
   ]
  },
  {
   "cell_type": "code",
   "execution_count": 26,
   "metadata": {},
   "outputs": [
    {
     "name": "stdout",
     "output_type": "stream",
     "text": [
      "<class 'pandas.core.frame.DataFrame'>\n",
      "RangeIndex: 19547158 entries, 0 to 19547157\n",
      "Data columns (total 3 columns):\n",
      " #   Column      Dtype \n",
      "---  ------      ----- \n",
      " 0   FollowerID  object\n",
      " 1   FollowedID  object\n",
      " 2   Timestamp   object\n",
      "dtypes: object(3)\n",
      "memory usage: 447.4+ MB\n"
     ]
    }
   ],
   "source": [
    "following.info()"
   ]
  },
  {
   "cell_type": "code",
   "execution_count": 27,
   "metadata": {},
   "outputs": [
    {
     "data": {
      "text/html": [
       "<div>\n",
       "<style scoped>\n",
       "    .dataframe tbody tr th:only-of-type {\n",
       "        vertical-align: middle;\n",
       "    }\n",
       "\n",
       "    .dataframe tbody tr th {\n",
       "        vertical-align: top;\n",
       "    }\n",
       "\n",
       "    .dataframe thead th {\n",
       "        text-align: right;\n",
       "    }\n",
       "</style>\n",
       "<table border=\"1\" class=\"dataframe\">\n",
       "  <thead>\n",
       "    <tr style=\"text-align: right;\">\n",
       "      <th></th>\n",
       "      <th>FollowerID</th>\n",
       "      <th>FollowedID</th>\n",
       "      <th>Timestamp</th>\n",
       "    </tr>\n",
       "  </thead>\n",
       "  <tbody>\n",
       "    <tr>\n",
       "      <th>count</th>\n",
       "      <td>19547158</td>\n",
       "      <td>19547158</td>\n",
       "      <td>19547158</td>\n",
       "    </tr>\n",
       "    <tr>\n",
       "      <th>unique</th>\n",
       "      <td>202148</td>\n",
       "      <td>454198</td>\n",
       "      <td>19547158</td>\n",
       "    </tr>\n",
       "    <tr>\n",
       "      <th>top</th>\n",
       "      <td>mashable</td>\n",
       "      <td>br3adman</td>\n",
       "      <td>2010-08-01 16:21:37.562726</td>\n",
       "    </tr>\n",
       "    <tr>\n",
       "      <th>freq</th>\n",
       "      <td>43222</td>\n",
       "      <td>74522</td>\n",
       "      <td>1</td>\n",
       "    </tr>\n",
       "  </tbody>\n",
       "</table>\n",
       "</div>"
      ],
      "text/plain": [
       "       FollowerID FollowedID                   Timestamp\n",
       "count    19547158   19547158                    19547158\n",
       "unique     202148     454198                    19547158\n",
       "top      mashable   br3adman  2010-08-01 16:21:37.562726\n",
       "freq        43222      74522                           1"
      ]
     },
     "execution_count": 27,
     "metadata": {},
     "output_type": "execute_result"
    }
   ],
   "source": [
    "following.describe()"
   ]
  },
  {
   "cell_type": "markdown",
   "metadata": {},
   "source": [
    "## Comment"
   ]
  },
  {
   "cell_type": "code",
   "execution_count": 28,
   "metadata": {},
   "outputs": [
    {
     "data": {
      "text/html": [
       "<div>\n",
       "<style scoped>\n",
       "    .dataframe tbody tr th:only-of-type {\n",
       "        vertical-align: middle;\n",
       "    }\n",
       "\n",
       "    .dataframe tbody tr th {\n",
       "        vertical-align: top;\n",
       "    }\n",
       "\n",
       "    .dataframe thead th {\n",
       "        text-align: right;\n",
       "    }\n",
       "</style>\n",
       "<table border=\"1\" class=\"dataframe\">\n",
       "  <thead>\n",
       "    <tr style=\"text-align: right;\">\n",
       "      <th></th>\n",
       "      <th>PostID</th>\n",
       "      <th>EntryID</th>\n",
       "      <th>PostedBy</th>\n",
       "      <th>SourceURL</th>\n",
       "      <th>Timestamp</th>\n",
       "      <th>Text</th>\n",
       "    </tr>\n",
       "  </thead>\n",
       "  <tbody>\n",
       "    <tr>\n",
       "      <th>0</th>\n",
       "      <td>e/ed12adf025b5491da54c4ff2c8c5377a/c/c2dbc8151...</td>\n",
       "      <td>e/ed12adf025b5491da54c4ff2c8c5377a</td>\n",
       "      <td>koenigdublin</td>\n",
       "      <td>NaN</td>\n",
       "      <td>2010-08-06 15:06:32</td>\n",
       "      <td>В начале 20 века  было противостояние идеологи...</td>\n",
       "    </tr>\n",
       "    <tr>\n",
       "      <th>1</th>\n",
       "      <td>e/7f6fb13b5a99449bb9dcbb3f8693be73/c/7477fb677...</td>\n",
       "      <td>e/7f6fb13b5a99449bb9dcbb3f8693be73</td>\n",
       "      <td>ilportalinux</td>\n",
       "      <td>NaN</td>\n",
       "      <td>2010-08-06 15:06:32</td>\n",
       "      <td>sofferenza? :D</td>\n",
       "    </tr>\n",
       "    <tr>\n",
       "      <th>2</th>\n",
       "      <td>e/624ca9226b6526ebdb69f9b46df482c7/c/32c6bf5bc...</td>\n",
       "      <td>e/624ca9226b6526ebdb69f9b46df482c7</td>\n",
       "      <td>guardianuk</td>\n",
       "      <td>NaN</td>\n",
       "      <td>2010-08-06 14:45:07</td>\n",
       "      <td>Reel Review video: Catherine Shoard defends Kn...</td>\n",
       "    </tr>\n",
       "    <tr>\n",
       "      <th>3</th>\n",
       "      <td>e/2fdf59e075094fe1847137af34eda0f7/c/eb22afe81...</td>\n",
       "      <td>e/2fdf59e075094fe1847137af34eda0f7</td>\n",
       "      <td>nahi</td>\n",
       "      <td>http://m.ctor.org/f2p/</td>\n",
       "      <td>2010-08-06 15:06:32</td>\n",
       "      <td>VMWareじゃなくてVMwareね。</td>\n",
       "    </tr>\n",
       "    <tr>\n",
       "      <th>4</th>\n",
       "      <td>e/4d8de05f989d43a4b90bfbfc59751e1c/c/d472f7b81...</td>\n",
       "      <td>e/4d8de05f989d43a4b90bfbfc59751e1c</td>\n",
       "      <td>miocaro</td>\n",
       "      <td>NaN</td>\n",
       "      <td>2010-08-06 15:06:31</td>\n",
       "      <td>Anıl havuzdan uzak dur. Sen evde olacaksın :)</td>\n",
       "    </tr>\n",
       "  </tbody>\n",
       "</table>\n",
       "</div>"
      ],
      "text/plain": [
       "                                              PostID  \\\n",
       "0  e/ed12adf025b5491da54c4ff2c8c5377a/c/c2dbc8151...   \n",
       "1  e/7f6fb13b5a99449bb9dcbb3f8693be73/c/7477fb677...   \n",
       "2  e/624ca9226b6526ebdb69f9b46df482c7/c/32c6bf5bc...   \n",
       "3  e/2fdf59e075094fe1847137af34eda0f7/c/eb22afe81...   \n",
       "4  e/4d8de05f989d43a4b90bfbfc59751e1c/c/d472f7b81...   \n",
       "\n",
       "                              EntryID      PostedBy               SourceURL  \\\n",
       "0  e/ed12adf025b5491da54c4ff2c8c5377a  koenigdublin                     NaN   \n",
       "1  e/7f6fb13b5a99449bb9dcbb3f8693be73  ilportalinux                     NaN   \n",
       "2  e/624ca9226b6526ebdb69f9b46df482c7    guardianuk                     NaN   \n",
       "3  e/2fdf59e075094fe1847137af34eda0f7          nahi  http://m.ctor.org/f2p/   \n",
       "4  e/4d8de05f989d43a4b90bfbfc59751e1c       miocaro                     NaN   \n",
       "\n",
       "             Timestamp                                               Text  \n",
       "0  2010-08-06 15:06:32  В начале 20 века  было противостояние идеологи...  \n",
       "1  2010-08-06 15:06:32                                     sofferenza? :D  \n",
       "2  2010-08-06 14:45:07  Reel Review video: Catherine Shoard defends Kn...  \n",
       "3  2010-08-06 15:06:32                                VMWareじゃなくてVMwareね。  \n",
       "4  2010-08-06 15:06:31      Anıl havuzdan uzak dur. Sen evde olacaksın :)  "
      ]
     },
     "execution_count": 28,
     "metadata": {},
     "output_type": "execute_result"
    }
   ],
   "source": [
    "comments.head()"
   ]
  },
  {
   "cell_type": "code",
   "execution_count": 29,
   "metadata": {},
   "outputs": [
    {
     "name": "stdout",
     "output_type": "stream",
     "text": [
      "<class 'pandas.core.frame.DataFrame'>\n",
      "RangeIndex: 3749891 entries, 0 to 3749890\n",
      "Data columns (total 6 columns):\n",
      " #   Column     Dtype \n",
      "---  ------     ----- \n",
      " 0   PostID     object\n",
      " 1   EntryID    object\n",
      " 2   PostedBy   object\n",
      " 3   SourceURL  object\n",
      " 4   Timestamp  object\n",
      " 5   Text       object\n",
      "dtypes: object(6)\n",
      "memory usage: 171.7+ MB\n"
     ]
    }
   ],
   "source": [
    "comments.info()"
   ]
  },
  {
   "cell_type": "code",
   "execution_count": 30,
   "metadata": {},
   "outputs": [
    {
     "data": {
      "text/html": [
       "<div>\n",
       "<style scoped>\n",
       "    .dataframe tbody tr th:only-of-type {\n",
       "        vertical-align: middle;\n",
       "    }\n",
       "\n",
       "    .dataframe tbody tr th {\n",
       "        vertical-align: top;\n",
       "    }\n",
       "\n",
       "    .dataframe thead th {\n",
       "        text-align: right;\n",
       "    }\n",
       "</style>\n",
       "<table border=\"1\" class=\"dataframe\">\n",
       "  <thead>\n",
       "    <tr style=\"text-align: right;\">\n",
       "      <th></th>\n",
       "      <th>PostID</th>\n",
       "      <th>EntryID</th>\n",
       "      <th>PostedBy</th>\n",
       "      <th>SourceURL</th>\n",
       "      <th>Timestamp</th>\n",
       "      <th>Text</th>\n",
       "    </tr>\n",
       "  </thead>\n",
       "  <tbody>\n",
       "    <tr>\n",
       "      <th>count</th>\n",
       "      <td>3749891</td>\n",
       "      <td>3749891</td>\n",
       "      <td>3749891</td>\n",
       "      <td>401556</td>\n",
       "      <td>3749891</td>\n",
       "      <td>3749880</td>\n",
       "    </tr>\n",
       "    <tr>\n",
       "      <th>unique</th>\n",
       "      <td>3749891</td>\n",
       "      <td>1240016</td>\n",
       "      <td>54045</td>\n",
       "      <td>57</td>\n",
       "      <td>2592055</td>\n",
       "      <td>3363116</td>\n",
       "    </tr>\n",
       "    <tr>\n",
       "      <th>top</th>\n",
       "      <td>e/ed12adf025b5491da54c4ff2c8c5377a/c/c2dbc8151...</td>\n",
       "      <td>e/0e89be95be2a412289c9a0bed337a97c</td>\n",
       "      <td>sidepodcastlive</td>\n",
       "      <td>http://friendfeed.com/share/bookmarklet</td>\n",
       "      <td>2010-09-02 04:28:39</td>\n",
       "      <td>:)</td>\n",
       "    </tr>\n",
       "    <tr>\n",
       "      <th>freq</th>\n",
       "      <td>1</td>\n",
       "      <td>4410</td>\n",
       "      <td>29348</td>\n",
       "      <td>188757</td>\n",
       "      <td>32</td>\n",
       "      <td>10788</td>\n",
       "    </tr>\n",
       "  </tbody>\n",
       "</table>\n",
       "</div>"
      ],
      "text/plain": [
       "                                                   PostID  \\\n",
       "count                                             3749891   \n",
       "unique                                            3749891   \n",
       "top     e/ed12adf025b5491da54c4ff2c8c5377a/c/c2dbc8151...   \n",
       "freq                                                    1   \n",
       "\n",
       "                                   EntryID         PostedBy  \\\n",
       "count                              3749891          3749891   \n",
       "unique                             1240016            54045   \n",
       "top     e/0e89be95be2a412289c9a0bed337a97c  sidepodcastlive   \n",
       "freq                                  4410            29348   \n",
       "\n",
       "                                      SourceURL            Timestamp     Text  \n",
       "count                                    401556              3749891  3749880  \n",
       "unique                                       57              2592055  3363116  \n",
       "top     http://friendfeed.com/share/bookmarklet  2010-09-02 04:28:39       :)  \n",
       "freq                                     188757                   32    10788  "
      ]
     },
     "execution_count": 30,
     "metadata": {},
     "output_type": "execute_result"
    }
   ],
   "source": [
    "comments.describe()"
   ]
  },
  {
   "cell_type": "markdown",
   "metadata": {},
   "source": [
    "## Entries 1,2,3"
   ]
  },
  {
   "cell_type": "code",
   "execution_count": 31,
   "metadata": {},
   "outputs": [
    {
     "data": {
      "text/html": [
       "<div>\n",
       "<style scoped>\n",
       "    .dataframe tbody tr th:only-of-type {\n",
       "        vertical-align: middle;\n",
       "    }\n",
       "\n",
       "    .dataframe tbody tr th {\n",
       "        vertical-align: top;\n",
       "    }\n",
       "\n",
       "    .dataframe thead th {\n",
       "        text-align: right;\n",
       "    }\n",
       "</style>\n",
       "<table border=\"1\" class=\"dataframe\">\n",
       "  <thead>\n",
       "    <tr style=\"text-align: right;\">\n",
       "      <th></th>\n",
       "      <th>PostID</th>\n",
       "      <th>PostedBy</th>\n",
       "      <th>SourceName</th>\n",
       "      <th>SourceURL</th>\n",
       "      <th>GeoX</th>\n",
       "      <th>GeoY</th>\n",
       "      <th>Timestamp</th>\n",
       "      <th>Text</th>\n",
       "      <th>NumImg</th>\n",
       "      <th>ImgURL</th>\n",
       "      <th>NumVid</th>\n",
       "      <th>VidURL</th>\n",
       "    </tr>\n",
       "  </thead>\n",
       "  <tbody>\n",
       "    <tr>\n",
       "      <th>0</th>\n",
       "      <td>e/29af803d670fb8d67692095f3ee623e6</td>\n",
       "      <td>newsroom1</td>\n",
       "      <td>Ottawa Citizen - News</td>\n",
       "      <td>http://www.ottawacitizen.com/index.html</td>\n",
       "      <td>\\N</td>\n",
       "      <td>\\N</td>\n",
       "      <td>2010-08-02 18:43:10</td>\n",
       "      <td>RIM 'will not compromise' BlackBerry security ...</td>\n",
       "      <td>1.0</td>\n",
       "      <td>http://www.ottawacitizen.com/will+compromise+...</td>\n",
       "      <td>0.0</td>\n",
       "      <td>NaN</td>\n",
       "    </tr>\n",
       "    <tr>\n",
       "      <th>1</th>\n",
       "      <td>e/9c8413a376bec6389be4d46d0812c2bb</td>\n",
       "      <td>mehmetinnet</td>\n",
       "      <td>Mehmetin.Net</td>\n",
       "      <td>http://www.mehmetin.net</td>\n",
       "      <td>\\N</td>\n",
       "      <td>\\N</td>\n",
       "      <td>2010-08-02 19:15:52</td>\n",
       "      <td>Fethullah Gülen: Referandum siyasî olarak görü...</td>\n",
       "      <td>1.0</td>\n",
       "      <td>http://www.mehmetin.net/2010/08/fethullah-gul...</td>\n",
       "      <td>0.0</td>\n",
       "      <td>NaN</td>\n",
       "    </tr>\n",
       "    <tr>\n",
       "      <th>2</th>\n",
       "      <td>e/2d658d97842a466a9513f587f85b0e59</td>\n",
       "      <td>mehmetergin</td>\n",
       "      <td>Mehmetin.Net</td>\n",
       "      <td>http://www.mehmetin.net/</td>\n",
       "      <td>\\N</td>\n",
       "      <td>\\N</td>\n",
       "      <td>2010-08-02 19:15:52</td>\n",
       "      <td>Fethullah Gülen: Referandum siyasî olarak görü...</td>\n",
       "      <td>1.0</td>\n",
       "      <td>http://www.mehmetin.net/2010/08/fethullah-gul...</td>\n",
       "      <td>0.0</td>\n",
       "      <td>NaN</td>\n",
       "    </tr>\n",
       "    <tr>\n",
       "      <th>3</th>\n",
       "      <td>e/b269ab5d56be4e5e90c1954ecc1ef63a</td>\n",
       "      <td>afriki</td>\n",
       "      <td>NaN</td>\n",
       "      <td>NaN</td>\n",
       "      <td>\\N</td>\n",
       "      <td>\\N</td>\n",
       "      <td>2010-08-02 16:37:57</td>\n",
       "      <td>Мне тут недавно один дизайнер сказал: «Ну прот...</td>\n",
       "      <td>0.0</td>\n",
       "      <td>NaN</td>\n",
       "      <td>0.0</td>\n",
       "      <td>NaN</td>\n",
       "    </tr>\n",
       "    <tr>\n",
       "      <th>4</th>\n",
       "      <td>e/74f0a50c374a4ad6bddcbcc60c60cad9</td>\n",
       "      <td>hamsafar</td>\n",
       "      <td>NaN</td>\n",
       "      <td>NaN</td>\n",
       "      <td>\\N</td>\n",
       "      <td>\\N</td>\n",
       "      <td>2010-08-02 18:54:39</td>\n",
       "      <td>عرض سلام و خسته نباشيد:)</td>\n",
       "      <td>0.0</td>\n",
       "      <td>NaN</td>\n",
       "      <td>0.0</td>\n",
       "      <td>NaN</td>\n",
       "    </tr>\n",
       "  </tbody>\n",
       "</table>\n",
       "</div>"
      ],
      "text/plain": [
       "                               PostID     PostedBy             SourceName  \\\n",
       "0  e/29af803d670fb8d67692095f3ee623e6    newsroom1  Ottawa Citizen - News   \n",
       "1  e/9c8413a376bec6389be4d46d0812c2bb  mehmetinnet           Mehmetin.Net   \n",
       "2  e/2d658d97842a466a9513f587f85b0e59  mehmetergin           Mehmetin.Net   \n",
       "3  e/b269ab5d56be4e5e90c1954ecc1ef63a       afriki                    NaN   \n",
       "4  e/74f0a50c374a4ad6bddcbcc60c60cad9     hamsafar                    NaN   \n",
       "\n",
       "                                 SourceURL GeoX GeoY            Timestamp  \\\n",
       "0  http://www.ottawacitizen.com/index.html   \\N   \\N  2010-08-02 18:43:10   \n",
       "1                  http://www.mehmetin.net   \\N   \\N  2010-08-02 19:15:52   \n",
       "2                 http://www.mehmetin.net/   \\N   \\N  2010-08-02 19:15:52   \n",
       "3                                      NaN   \\N   \\N  2010-08-02 16:37:57   \n",
       "4                                      NaN   \\N   \\N  2010-08-02 18:54:39   \n",
       "\n",
       "                                                Text  NumImg  \\\n",
       "0  RIM 'will not compromise' BlackBerry security ...     1.0   \n",
       "1  Fethullah Gülen: Referandum siyasî olarak görü...     1.0   \n",
       "2  Fethullah Gülen: Referandum siyasî olarak görü...     1.0   \n",
       "3  Мне тут недавно один дизайнер сказал: «Ну прот...     0.0   \n",
       "4                           عرض سلام و خسته نباشيد:)     0.0   \n",
       "\n",
       "                                              ImgURL  NumVid VidURL  \n",
       "0   http://www.ottawacitizen.com/will+compromise+...     0.0    NaN  \n",
       "1   http://www.mehmetin.net/2010/08/fethullah-gul...     0.0    NaN  \n",
       "2   http://www.mehmetin.net/2010/08/fethullah-gul...     0.0    NaN  \n",
       "3                                                NaN     0.0    NaN  \n",
       "4                                                NaN     0.0    NaN  "
      ]
     },
     "execution_count": 31,
     "metadata": {},
     "output_type": "execute_result"
    }
   ],
   "source": [
    "entries1.head()"
   ]
  },
  {
   "cell_type": "code",
   "execution_count": 32,
   "metadata": {},
   "outputs": [
    {
     "name": "stdout",
     "output_type": "stream",
     "text": [
      "<class 'pandas.core.frame.DataFrame'>\n",
      "RangeIndex: 4000000 entries, 0 to 3999999\n",
      "Data columns (total 12 columns):\n",
      " #   Column      Dtype  \n",
      "---  ------      -----  \n",
      " 0   PostID      object \n",
      " 1   PostedBy    object \n",
      " 2   SourceName  object \n",
      " 3   SourceURL   object \n",
      " 4   GeoX        object \n",
      " 5   GeoY        object \n",
      " 6   Timestamp   object \n",
      " 7   Text        object \n",
      " 8   NumImg      float64\n",
      " 9   ImgURL      object \n",
      " 10  NumVid      float64\n",
      " 11  VidURL      object \n",
      "dtypes: float64(2), object(10)\n",
      "memory usage: 366.2+ MB\n"
     ]
    }
   ],
   "source": [
    "entries1.info()"
   ]
  },
  {
   "cell_type": "code",
   "execution_count": 33,
   "metadata": {},
   "outputs": [
    {
     "data": {
      "text/html": [
       "<div>\n",
       "<style scoped>\n",
       "    .dataframe tbody tr th:only-of-type {\n",
       "        vertical-align: middle;\n",
       "    }\n",
       "\n",
       "    .dataframe tbody tr th {\n",
       "        vertical-align: top;\n",
       "    }\n",
       "\n",
       "    .dataframe thead th {\n",
       "        text-align: right;\n",
       "    }\n",
       "</style>\n",
       "<table border=\"1\" class=\"dataframe\">\n",
       "  <thead>\n",
       "    <tr style=\"text-align: right;\">\n",
       "      <th></th>\n",
       "      <th>NumImg</th>\n",
       "      <th>NumVid</th>\n",
       "    </tr>\n",
       "  </thead>\n",
       "  <tbody>\n",
       "    <tr>\n",
       "      <th>count</th>\n",
       "      <td>3.999954e+06</td>\n",
       "      <td>3.999954e+06</td>\n",
       "    </tr>\n",
       "    <tr>\n",
       "      <th>mean</th>\n",
       "      <td>1.578036e-01</td>\n",
       "      <td>2.376427e-02</td>\n",
       "    </tr>\n",
       "    <tr>\n",
       "      <th>std</th>\n",
       "      <td>9.891648e-01</td>\n",
       "      <td>1.801531e-01</td>\n",
       "    </tr>\n",
       "    <tr>\n",
       "      <th>min</th>\n",
       "      <td>0.000000e+00</td>\n",
       "      <td>0.000000e+00</td>\n",
       "    </tr>\n",
       "    <tr>\n",
       "      <th>25%</th>\n",
       "      <td>0.000000e+00</td>\n",
       "      <td>0.000000e+00</td>\n",
       "    </tr>\n",
       "    <tr>\n",
       "      <th>50%</th>\n",
       "      <td>0.000000e+00</td>\n",
       "      <td>0.000000e+00</td>\n",
       "    </tr>\n",
       "    <tr>\n",
       "      <th>75%</th>\n",
       "      <td>0.000000e+00</td>\n",
       "      <td>0.000000e+00</td>\n",
       "    </tr>\n",
       "    <tr>\n",
       "      <th>max</th>\n",
       "      <td>2.500000e+01</td>\n",
       "      <td>9.000000e+00</td>\n",
       "    </tr>\n",
       "  </tbody>\n",
       "</table>\n",
       "</div>"
      ],
      "text/plain": [
       "             NumImg        NumVid\n",
       "count  3.999954e+06  3.999954e+06\n",
       "mean   1.578036e-01  2.376427e-02\n",
       "std    9.891648e-01  1.801531e-01\n",
       "min    0.000000e+00  0.000000e+00\n",
       "25%    0.000000e+00  0.000000e+00\n",
       "50%    0.000000e+00  0.000000e+00\n",
       "75%    0.000000e+00  0.000000e+00\n",
       "max    2.500000e+01  9.000000e+00"
      ]
     },
     "execution_count": 33,
     "metadata": {},
     "output_type": "execute_result"
    }
   ],
   "source": [
    "entries1.describe()"
   ]
  },
  {
   "cell_type": "code",
   "execution_count": 34,
   "metadata": {},
   "outputs": [
    {
     "data": {
      "text/html": [
       "<div>\n",
       "<style scoped>\n",
       "    .dataframe tbody tr th:only-of-type {\n",
       "        vertical-align: middle;\n",
       "    }\n",
       "\n",
       "    .dataframe tbody tr th {\n",
       "        vertical-align: top;\n",
       "    }\n",
       "\n",
       "    .dataframe thead th {\n",
       "        text-align: right;\n",
       "    }\n",
       "</style>\n",
       "<table border=\"1\" class=\"dataframe\">\n",
       "  <thead>\n",
       "    <tr style=\"text-align: right;\">\n",
       "      <th></th>\n",
       "      <th>PostID</th>\n",
       "      <th>PostedBy</th>\n",
       "      <th>SourceName</th>\n",
       "      <th>SourceURL</th>\n",
       "      <th>GeoX</th>\n",
       "      <th>GeoY</th>\n",
       "      <th>Timestamp</th>\n",
       "      <th>Text</th>\n",
       "      <th>NumImg</th>\n",
       "      <th>ImgURL</th>\n",
       "      <th>NumVid</th>\n",
       "      <th>VidURL</th>\n",
       "    </tr>\n",
       "  </thead>\n",
       "  <tbody>\n",
       "    <tr>\n",
       "      <th>0</th>\n",
       "      <td>e/4ec845b38287101deb6739d0fa64566d</td>\n",
       "      <td>starya</td>\n",
       "      <td>Lolcats 'n' Funny Pictures of Cats - I Can Has...</td>\n",
       "      <td>http://icanhascheezburger.com/</td>\n",
       "      <td>\\N</td>\n",
       "      <td>\\N</td>\n",
       "      <td>2010-08-24 20:00:38</td>\n",
       "      <td>VIDEO: Kitteh Tricks - &lt;a rel=\"nofollow\" href=...</td>\n",
       "      <td>0.0</td>\n",
       "      <td>NaN</td>\n",
       "      <td>0.0</td>\n",
       "      <td>NaN</td>\n",
       "    </tr>\n",
       "    <tr>\n",
       "      <th>1</th>\n",
       "      <td>e/3ca878bcc2f5ed65c7217e4e8d1b6300</td>\n",
       "      <td>vkamutzki</td>\n",
       "      <td>Google Reader</td>\n",
       "      <td>http://www.google.com/reader/shared/0541245284...</td>\n",
       "      <td>\\N</td>\n",
       "      <td>\\N</td>\n",
       "      <td>2010-08-24 20:01:58</td>\n",
       "      <td>Scene: Torontohenge Sunrise - &lt;a rel=\"nofollow...</td>\n",
       "      <td>0.0</td>\n",
       "      <td>NaN</td>\n",
       "      <td>0.0</td>\n",
       "      <td>NaN</td>\n",
       "    </tr>\n",
       "    <tr>\n",
       "      <th>2</th>\n",
       "      <td>e/19130fd6b5444f9ba321c58bdf7242a2</td>\n",
       "      <td>biznetsuk</td>\n",
       "      <td>HelloTxt</td>\n",
       "      <td>http://hellotxt.com/</td>\n",
       "      <td>\\N</td>\n",
       "      <td>\\N</td>\n",
       "      <td>2010-08-24 20:02:08</td>\n",
       "      <td>autobuynow.info/cars Car Buying: How to buy ne...</td>\n",
       "      <td>0.0</td>\n",
       "      <td>NaN</td>\n",
       "      <td>0.0</td>\n",
       "      <td>NaN</td>\n",
       "    </tr>\n",
       "    <tr>\n",
       "      <th>3</th>\n",
       "      <td>e/62945bae3a1433880c0a681081ee8cbb</td>\n",
       "      <td>monikap19</td>\n",
       "      <td>Books Nonfiction</td>\n",
       "      <td>http://bnmoon.blogspot.com/</td>\n",
       "      <td>\\N</td>\n",
       "      <td>\\N</td>\n",
       "      <td>2010-08-24 20:02:00</td>\n",
       "      <td>Check Out Psychology for $89.28 - &lt;a rel=\"nofo...</td>\n",
       "      <td>0.0</td>\n",
       "      <td>NaN</td>\n",
       "      <td>0.0</td>\n",
       "      <td>NaN</td>\n",
       "    </tr>\n",
       "    <tr>\n",
       "      <th>4</th>\n",
       "      <td>e/41d2105e23fc70c1976387ab53f51c89</td>\n",
       "      <td>pendar</td>\n",
       "      <td>Google Reader</td>\n",
       "      <td>http://www.google.com/reader/shared/1316848039...</td>\n",
       "      <td>\\N</td>\n",
       "      <td>\\N</td>\n",
       "      <td>2010-08-24 20:02:07</td>\n",
       "      <td>رکورد گینس تایپ سریع پیام با استفاده از گوشی گ...</td>\n",
       "      <td>0.0</td>\n",
       "      <td>NaN</td>\n",
       "      <td>0.0</td>\n",
       "      <td>NaN</td>\n",
       "    </tr>\n",
       "  </tbody>\n",
       "</table>\n",
       "</div>"
      ],
      "text/plain": [
       "                               PostID   PostedBy  \\\n",
       "0  e/4ec845b38287101deb6739d0fa64566d     starya   \n",
       "1  e/3ca878bcc2f5ed65c7217e4e8d1b6300  vkamutzki   \n",
       "2  e/19130fd6b5444f9ba321c58bdf7242a2  biznetsuk   \n",
       "3  e/62945bae3a1433880c0a681081ee8cbb  monikap19   \n",
       "4  e/41d2105e23fc70c1976387ab53f51c89     pendar   \n",
       "\n",
       "                                          SourceName  \\\n",
       "0  Lolcats 'n' Funny Pictures of Cats - I Can Has...   \n",
       "1                                      Google Reader   \n",
       "2                                           HelloTxt   \n",
       "3                                   Books Nonfiction   \n",
       "4                                      Google Reader   \n",
       "\n",
       "                                           SourceURL GeoX GeoY  \\\n",
       "0                     http://icanhascheezburger.com/   \\N   \\N   \n",
       "1  http://www.google.com/reader/shared/0541245284...   \\N   \\N   \n",
       "2                               http://hellotxt.com/   \\N   \\N   \n",
       "3                        http://bnmoon.blogspot.com/   \\N   \\N   \n",
       "4  http://www.google.com/reader/shared/1316848039...   \\N   \\N   \n",
       "\n",
       "             Timestamp                                               Text  \\\n",
       "0  2010-08-24 20:00:38  VIDEO: Kitteh Tricks - <a rel=\"nofollow\" href=...   \n",
       "1  2010-08-24 20:01:58  Scene: Torontohenge Sunrise - <a rel=\"nofollow...   \n",
       "2  2010-08-24 20:02:08  autobuynow.info/cars Car Buying: How to buy ne...   \n",
       "3  2010-08-24 20:02:00  Check Out Psychology for $89.28 - <a rel=\"nofo...   \n",
       "4  2010-08-24 20:02:07  رکورد گینس تایپ سریع پیام با استفاده از گوشی گ...   \n",
       "\n",
       "   NumImg ImgURL  NumVid VidURL  \n",
       "0     0.0    NaN     0.0    NaN  \n",
       "1     0.0    NaN     0.0    NaN  \n",
       "2     0.0    NaN     0.0    NaN  \n",
       "3     0.0    NaN     0.0    NaN  \n",
       "4     0.0    NaN     0.0    NaN  "
      ]
     },
     "execution_count": 34,
     "metadata": {},
     "output_type": "execute_result"
    }
   ],
   "source": [
    "entries2.head()"
   ]
  },
  {
   "cell_type": "code",
   "execution_count": 35,
   "metadata": {},
   "outputs": [
    {
     "name": "stdout",
     "output_type": "stream",
     "text": [
      "<class 'pandas.core.frame.DataFrame'>\n",
      "RangeIndex: 4000000 entries, 0 to 3999999\n",
      "Data columns (total 12 columns):\n",
      " #   Column      Dtype  \n",
      "---  ------      -----  \n",
      " 0   PostID      object \n",
      " 1   PostedBy    object \n",
      " 2   SourceName  object \n",
      " 3   SourceURL   object \n",
      " 4   GeoX        object \n",
      " 5   GeoY        object \n",
      " 6   Timestamp   object \n",
      " 7   Text        object \n",
      " 8   NumImg      float64\n",
      " 9   ImgURL      object \n",
      " 10  NumVid      float64\n",
      " 11  VidURL      object \n",
      "dtypes: float64(2), object(10)\n",
      "memory usage: 366.2+ MB\n"
     ]
    }
   ],
   "source": [
    "entries2.info()"
   ]
  },
  {
   "cell_type": "code",
   "execution_count": 36,
   "metadata": {},
   "outputs": [
    {
     "data": {
      "text/html": [
       "<div>\n",
       "<style scoped>\n",
       "    .dataframe tbody tr th:only-of-type {\n",
       "        vertical-align: middle;\n",
       "    }\n",
       "\n",
       "    .dataframe tbody tr th {\n",
       "        vertical-align: top;\n",
       "    }\n",
       "\n",
       "    .dataframe thead th {\n",
       "        text-align: right;\n",
       "    }\n",
       "</style>\n",
       "<table border=\"1\" class=\"dataframe\">\n",
       "  <thead>\n",
       "    <tr style=\"text-align: right;\">\n",
       "      <th></th>\n",
       "      <th>NumImg</th>\n",
       "      <th>NumVid</th>\n",
       "    </tr>\n",
       "  </thead>\n",
       "  <tbody>\n",
       "    <tr>\n",
       "      <th>count</th>\n",
       "      <td>3.999975e+06</td>\n",
       "      <td>3.999975e+06</td>\n",
       "    </tr>\n",
       "    <tr>\n",
       "      <th>mean</th>\n",
       "      <td>1.070367e-01</td>\n",
       "      <td>2.199864e-02</td>\n",
       "    </tr>\n",
       "    <tr>\n",
       "      <th>std</th>\n",
       "      <td>7.373959e-01</td>\n",
       "      <td>1.913891e-01</td>\n",
       "    </tr>\n",
       "    <tr>\n",
       "      <th>min</th>\n",
       "      <td>0.000000e+00</td>\n",
       "      <td>0.000000e+00</td>\n",
       "    </tr>\n",
       "    <tr>\n",
       "      <th>25%</th>\n",
       "      <td>0.000000e+00</td>\n",
       "      <td>0.000000e+00</td>\n",
       "    </tr>\n",
       "    <tr>\n",
       "      <th>50%</th>\n",
       "      <td>0.000000e+00</td>\n",
       "      <td>0.000000e+00</td>\n",
       "    </tr>\n",
       "    <tr>\n",
       "      <th>75%</th>\n",
       "      <td>0.000000e+00</td>\n",
       "      <td>0.000000e+00</td>\n",
       "    </tr>\n",
       "    <tr>\n",
       "      <th>max</th>\n",
       "      <td>2.500000e+01</td>\n",
       "      <td>1.500000e+01</td>\n",
       "    </tr>\n",
       "  </tbody>\n",
       "</table>\n",
       "</div>"
      ],
      "text/plain": [
       "             NumImg        NumVid\n",
       "count  3.999975e+06  3.999975e+06\n",
       "mean   1.070367e-01  2.199864e-02\n",
       "std    7.373959e-01  1.913891e-01\n",
       "min    0.000000e+00  0.000000e+00\n",
       "25%    0.000000e+00  0.000000e+00\n",
       "50%    0.000000e+00  0.000000e+00\n",
       "75%    0.000000e+00  0.000000e+00\n",
       "max    2.500000e+01  1.500000e+01"
      ]
     },
     "execution_count": 36,
     "metadata": {},
     "output_type": "execute_result"
    }
   ],
   "source": [
    "entries2.describe()"
   ]
  },
  {
   "cell_type": "code",
   "execution_count": 37,
   "metadata": {},
   "outputs": [
    {
     "data": {
      "text/html": [
       "<div>\n",
       "<style scoped>\n",
       "    .dataframe tbody tr th:only-of-type {\n",
       "        vertical-align: middle;\n",
       "    }\n",
       "\n",
       "    .dataframe tbody tr th {\n",
       "        vertical-align: top;\n",
       "    }\n",
       "\n",
       "    .dataframe thead th {\n",
       "        text-align: right;\n",
       "    }\n",
       "</style>\n",
       "<table border=\"1\" class=\"dataframe\">\n",
       "  <thead>\n",
       "    <tr style=\"text-align: right;\">\n",
       "      <th></th>\n",
       "      <th>PostID</th>\n",
       "      <th>PostedBy</th>\n",
       "      <th>SourceName</th>\n",
       "      <th>SourceURL</th>\n",
       "      <th>GeoX</th>\n",
       "      <th>GeoY</th>\n",
       "      <th>Timestamp</th>\n",
       "      <th>Text</th>\n",
       "      <th>NumImg</th>\n",
       "      <th>ImgURL</th>\n",
       "      <th>NumVid</th>\n",
       "      <th>VidURL</th>\n",
       "    </tr>\n",
       "  </thead>\n",
       "  <tbody>\n",
       "    <tr>\n",
       "      <th>0</th>\n",
       "      <td>e/56dfd8c1beb24b52b33e5369a1004603</td>\n",
       "      <td>healthrockstar</td>\n",
       "      <td>Ping.fm</td>\n",
       "      <td>http://ping.fm/</td>\n",
       "      <td>\\N</td>\n",
       "      <td>\\N</td>\n",
       "      <td>2010-09-10 05:56:36</td>\n",
       "      <td>HealthRockstar: weightloss,#fitness 11 News An...</td>\n",
       "      <td>0.0</td>\n",
       "      <td>NaN</td>\n",
       "      <td>0.0</td>\n",
       "      <td>NaN</td>\n",
       "    </tr>\n",
       "    <tr>\n",
       "      <th>1</th>\n",
       "      <td>e/6d231b54bd0289060de9be6905900961</td>\n",
       "      <td>aggregatore</td>\n",
       "      <td>Aggregatore di blog</td>\n",
       "      <td>http://aggregatore.seoguru.it</td>\n",
       "      <td>\\N</td>\n",
       "      <td>\\N</td>\n",
       "      <td>2010-09-10 05:30:00</td>\n",
       "      <td>Pop Star Coreana Cade Rovinosamente Sul Palco ...</td>\n",
       "      <td>0.0</td>\n",
       "      <td>NaN</td>\n",
       "      <td>0.0</td>\n",
       "      <td>NaN</td>\n",
       "    </tr>\n",
       "    <tr>\n",
       "      <th>2</th>\n",
       "      <td>e/4d38f93a832c4f1cb2e2446eb15e3888</td>\n",
       "      <td>afro2501</td>\n",
       "      <td>Ping.fm</td>\n",
       "      <td>http://ping.fm/</td>\n",
       "      <td>\\N</td>\n",
       "      <td>\\N</td>\n",
       "      <td>2010-09-10 05:56:36</td>\n",
       "      <td>Interesting Page: Object moved &lt;a rel=\"nofollo...</td>\n",
       "      <td>0.0</td>\n",
       "      <td>NaN</td>\n",
       "      <td>0.0</td>\n",
       "      <td>NaN</td>\n",
       "    </tr>\n",
       "    <tr>\n",
       "      <th>3</th>\n",
       "      <td>e/0e38d17bf5a47b55ae5782c8a6d985bc</td>\n",
       "      <td>cleanthinking</td>\n",
       "      <td>Cleanthinking.de - Cleantech und Energie News</td>\n",
       "      <td>http://www.cleanthinking.de/</td>\n",
       "      <td>\\N</td>\n",
       "      <td>\\N</td>\n",
       "      <td>2010-09-10 05:56:24</td>\n",
       "      <td>Hintergrund Geothermie: Die Quelle, die nie ve...</td>\n",
       "      <td>0.0</td>\n",
       "      <td>NaN</td>\n",
       "      <td>0.0</td>\n",
       "      <td>NaN</td>\n",
       "    </tr>\n",
       "    <tr>\n",
       "      <th>4</th>\n",
       "      <td>e/5cb0fbb41a0567b2e3f228d0d6cec52e</td>\n",
       "      <td>gnomebeatz</td>\n",
       "      <td>Twitter</td>\n",
       "      <td>http://twitter.com/questlove/statuses/24081170630</td>\n",
       "      <td>\\N</td>\n",
       "      <td>\\N</td>\n",
       "      <td>2010-09-10 05:56:36</td>\n",
       "      <td>@&lt;a rel=\"nofollow\" href=\"http://twitter.com/ma...</td>\n",
       "      <td>0.0</td>\n",
       "      <td>NaN</td>\n",
       "      <td>0.0</td>\n",
       "      <td>NaN</td>\n",
       "    </tr>\n",
       "  </tbody>\n",
       "</table>\n",
       "</div>"
      ],
      "text/plain": [
       "                               PostID        PostedBy  \\\n",
       "0  e/56dfd8c1beb24b52b33e5369a1004603  healthrockstar   \n",
       "1  e/6d231b54bd0289060de9be6905900961     aggregatore   \n",
       "2  e/4d38f93a832c4f1cb2e2446eb15e3888        afro2501   \n",
       "3  e/0e38d17bf5a47b55ae5782c8a6d985bc   cleanthinking   \n",
       "4  e/5cb0fbb41a0567b2e3f228d0d6cec52e      gnomebeatz   \n",
       "\n",
       "                                      SourceName  \\\n",
       "0                                        Ping.fm   \n",
       "1                            Aggregatore di blog   \n",
       "2                                        Ping.fm   \n",
       "3  Cleanthinking.de - Cleantech und Energie News   \n",
       "4                                        Twitter   \n",
       "\n",
       "                                           SourceURL GeoX GeoY  \\\n",
       "0                                    http://ping.fm/   \\N   \\N   \n",
       "1                      http://aggregatore.seoguru.it   \\N   \\N   \n",
       "2                                    http://ping.fm/   \\N   \\N   \n",
       "3                       http://www.cleanthinking.de/   \\N   \\N   \n",
       "4  http://twitter.com/questlove/statuses/24081170630   \\N   \\N   \n",
       "\n",
       "             Timestamp                                               Text  \\\n",
       "0  2010-09-10 05:56:36  HealthRockstar: weightloss,#fitness 11 News An...   \n",
       "1  2010-09-10 05:30:00  Pop Star Coreana Cade Rovinosamente Sul Palco ...   \n",
       "2  2010-09-10 05:56:36  Interesting Page: Object moved <a rel=\"nofollo...   \n",
       "3  2010-09-10 05:56:24  Hintergrund Geothermie: Die Quelle, die nie ve...   \n",
       "4  2010-09-10 05:56:36  @<a rel=\"nofollow\" href=\"http://twitter.com/ma...   \n",
       "\n",
       "   NumImg ImgURL  NumVid VidURL  \n",
       "0     0.0    NaN     0.0    NaN  \n",
       "1     0.0    NaN     0.0    NaN  \n",
       "2     0.0    NaN     0.0    NaN  \n",
       "3     0.0    NaN     0.0    NaN  \n",
       "4     0.0    NaN     0.0    NaN  "
      ]
     },
     "execution_count": 37,
     "metadata": {},
     "output_type": "execute_result"
    }
   ],
   "source": [
    "entries3.head()"
   ]
  },
  {
   "cell_type": "code",
   "execution_count": 38,
   "metadata": {},
   "outputs": [
    {
     "name": "stdout",
     "output_type": "stream",
     "text": [
      "<class 'pandas.core.frame.DataFrame'>\n",
      "RangeIndex: 4450658 entries, 0 to 4450657\n",
      "Data columns (total 12 columns):\n",
      " #   Column      Dtype  \n",
      "---  ------      -----  \n",
      " 0   PostID      object \n",
      " 1   PostedBy    object \n",
      " 2   SourceName  object \n",
      " 3   SourceURL   object \n",
      " 4   GeoX        object \n",
      " 5   GeoY        object \n",
      " 6   Timestamp   object \n",
      " 7   Text        object \n",
      " 8   NumImg      float64\n",
      " 9   ImgURL      object \n",
      " 10  NumVid      float64\n",
      " 11  VidURL      object \n",
      "dtypes: float64(2), object(10)\n",
      "memory usage: 407.5+ MB\n"
     ]
    }
   ],
   "source": [
    "entries3.info()"
   ]
  },
  {
   "cell_type": "code",
   "execution_count": 39,
   "metadata": {},
   "outputs": [
    {
     "data": {
      "text/html": [
       "<div>\n",
       "<style scoped>\n",
       "    .dataframe tbody tr th:only-of-type {\n",
       "        vertical-align: middle;\n",
       "    }\n",
       "\n",
       "    .dataframe tbody tr th {\n",
       "        vertical-align: top;\n",
       "    }\n",
       "\n",
       "    .dataframe thead th {\n",
       "        text-align: right;\n",
       "    }\n",
       "</style>\n",
       "<table border=\"1\" class=\"dataframe\">\n",
       "  <thead>\n",
       "    <tr style=\"text-align: right;\">\n",
       "      <th></th>\n",
       "      <th>NumImg</th>\n",
       "      <th>NumVid</th>\n",
       "    </tr>\n",
       "  </thead>\n",
       "  <tbody>\n",
       "    <tr>\n",
       "      <th>count</th>\n",
       "      <td>4.450640e+06</td>\n",
       "      <td>4.450640e+06</td>\n",
       "    </tr>\n",
       "    <tr>\n",
       "      <th>mean</th>\n",
       "      <td>9.783402e-02</td>\n",
       "      <td>1.538004e-02</td>\n",
       "    </tr>\n",
       "    <tr>\n",
       "      <th>std</th>\n",
       "      <td>6.626481e-01</td>\n",
       "      <td>1.495326e-01</td>\n",
       "    </tr>\n",
       "    <tr>\n",
       "      <th>min</th>\n",
       "      <td>0.000000e+00</td>\n",
       "      <td>0.000000e+00</td>\n",
       "    </tr>\n",
       "    <tr>\n",
       "      <th>25%</th>\n",
       "      <td>0.000000e+00</td>\n",
       "      <td>0.000000e+00</td>\n",
       "    </tr>\n",
       "    <tr>\n",
       "      <th>50%</th>\n",
       "      <td>0.000000e+00</td>\n",
       "      <td>0.000000e+00</td>\n",
       "    </tr>\n",
       "    <tr>\n",
       "      <th>75%</th>\n",
       "      <td>0.000000e+00</td>\n",
       "      <td>0.000000e+00</td>\n",
       "    </tr>\n",
       "    <tr>\n",
       "      <th>max</th>\n",
       "      <td>2.500000e+01</td>\n",
       "      <td>1.100000e+01</td>\n",
       "    </tr>\n",
       "  </tbody>\n",
       "</table>\n",
       "</div>"
      ],
      "text/plain": [
       "             NumImg        NumVid\n",
       "count  4.450640e+06  4.450640e+06\n",
       "mean   9.783402e-02  1.538004e-02\n",
       "std    6.626481e-01  1.495326e-01\n",
       "min    0.000000e+00  0.000000e+00\n",
       "25%    0.000000e+00  0.000000e+00\n",
       "50%    0.000000e+00  0.000000e+00\n",
       "75%    0.000000e+00  0.000000e+00\n",
       "max    2.500000e+01  1.100000e+01"
      ]
     },
     "execution_count": 39,
     "metadata": {},
     "output_type": "execute_result"
    }
   ],
   "source": [
    "entries3.describe()"
   ]
  },
  {
   "cell_type": "markdown",
   "metadata": {},
   "source": [
    "# Data exploration"
   ]
  },
  {
   "cell_type": "markdown",
   "metadata": {},
   "source": [
    "## Users"
   ]
  },
  {
   "cell_type": "code",
   "execution_count": 40,
   "metadata": {},
   "outputs": [
    {
     "data": {
      "text/html": [
       "<div>\n",
       "<style scoped>\n",
       "    .dataframe tbody tr th:only-of-type {\n",
       "        vertical-align: middle;\n",
       "    }\n",
       "\n",
       "    .dataframe tbody tr th {\n",
       "        vertical-align: top;\n",
       "    }\n",
       "\n",
       "    .dataframe thead th {\n",
       "        text-align: right;\n",
       "    }\n",
       "</style>\n",
       "<table border=\"1\" class=\"dataframe\">\n",
       "  <thead>\n",
       "    <tr style=\"text-align: right;\">\n",
       "      <th></th>\n",
       "      <th>ID</th>\n",
       "      <th>Type</th>\n",
       "      <th>Name</th>\n",
       "      <th>Description</th>\n",
       "    </tr>\n",
       "  </thead>\n",
       "  <tbody>\n",
       "    <tr>\n",
       "      <th>18941</th>\n",
       "      <td>science-commons</td>\n",
       "      <td>group</td>\n",
       "      <td>NaN</td>\n",
       "      <td>Redundant room.  Please use http://friendfeed....</td>\n",
       "    </tr>\n",
       "    <tr>\n",
       "      <th>41053</th>\n",
       "      <td>nonetw</td>\n",
       "      <td>user</td>\n",
       "      <td>NaN</td>\n",
       "      <td>NaN</td>\n",
       "    </tr>\n",
       "    <tr>\n",
       "      <th>67108</th>\n",
       "      <td>nanzoo</td>\n",
       "      <td>user</td>\n",
       "      <td>NaN</td>\n",
       "      <td>NaN</td>\n",
       "    </tr>\n",
       "    <tr>\n",
       "      <th>215563</th>\n",
       "      <td>ernesnull</td>\n",
       "      <td>user</td>\n",
       "      <td>NaN</td>\n",
       "      <td>NaN</td>\n",
       "    </tr>\n",
       "    <tr>\n",
       "      <th>440759</th>\n",
       "      <td>cecybernal</td>\n",
       "      <td>user</td>\n",
       "      <td>NaN</td>\n",
       "      <td>NaN</td>\n",
       "    </tr>\n",
       "    <tr>\n",
       "      <th>617136</th>\n",
       "      <td>deathwish23</td>\n",
       "      <td>user</td>\n",
       "      <td>NaN</td>\n",
       "      <td>NaN</td>\n",
       "    </tr>\n",
       "  </tbody>\n",
       "</table>\n",
       "</div>"
      ],
      "text/plain": [
       "                     ID   Type Name  \\\n",
       "18941   science-commons  group  NaN   \n",
       "41053            nonetw   user  NaN   \n",
       "67108            nanzoo   user  NaN   \n",
       "215563        ernesnull   user  NaN   \n",
       "440759       cecybernal   user  NaN   \n",
       "617136      deathwish23   user  NaN   \n",
       "\n",
       "                                              Description  \n",
       "18941   Redundant room.  Please use http://friendfeed....  \n",
       "41053                                                 NaN  \n",
       "67108                                                 NaN  \n",
       "215563                                                NaN  \n",
       "440759                                                NaN  \n",
       "617136                                                NaN  "
      ]
     },
     "execution_count": 40,
     "metadata": {},
     "output_type": "execute_result"
    }
   ],
   "source": [
    "users[users['Name'].isna()]"
   ]
  },
  {
   "cell_type": "code",
   "execution_count": 41,
   "metadata": {},
   "outputs": [],
   "source": [
    "users.drop_duplicates(subset=['ID', 'Type'], inplace=True)"
   ]
  },
  {
   "cell_type": "code",
   "execution_count": 42,
   "metadata": {},
   "outputs": [
    {
     "data": {
      "text/html": [
       "<div>\n",
       "<style scoped>\n",
       "    .dataframe tbody tr th:only-of-type {\n",
       "        vertical-align: middle;\n",
       "    }\n",
       "\n",
       "    .dataframe tbody tr th {\n",
       "        vertical-align: top;\n",
       "    }\n",
       "\n",
       "    .dataframe thead th {\n",
       "        text-align: right;\n",
       "    }\n",
       "</style>\n",
       "<table border=\"1\" class=\"dataframe\">\n",
       "  <thead>\n",
       "    <tr style=\"text-align: right;\">\n",
       "      <th></th>\n",
       "      <th>ID</th>\n",
       "      <th>Type</th>\n",
       "      <th>Name</th>\n",
       "      <th>Description</th>\n",
       "    </tr>\n",
       "  </thead>\n",
       "  <tbody>\n",
       "    <tr>\n",
       "      <th>0</th>\n",
       "      <td>2gwsk</td>\n",
       "      <td>user</td>\n",
       "      <td>Ming Quek</td>\n",
       "      <td>NaN</td>\n",
       "    </tr>\n",
       "    <tr>\n",
       "      <th>1</th>\n",
       "      <td>iroach</td>\n",
       "      <td>user</td>\n",
       "      <td>Isaac Roach</td>\n",
       "      <td>NaN</td>\n",
       "    </tr>\n",
       "    <tr>\n",
       "      <th>2</th>\n",
       "      <td>tonybraun</td>\n",
       "      <td>user</td>\n",
       "      <td>Tony Braun</td>\n",
       "      <td>NaN</td>\n",
       "    </tr>\n",
       "    <tr>\n",
       "      <th>3</th>\n",
       "      <td>junknajidyahoocom1</td>\n",
       "      <td>user</td>\n",
       "      <td>Junknajid Yahoocom</td>\n",
       "      <td>NaN</td>\n",
       "    </tr>\n",
       "    <tr>\n",
       "      <th>4</th>\n",
       "      <td>spaceastronautics</td>\n",
       "      <td>user</td>\n",
       "      <td>Space &amp; Astronautics News</td>\n",
       "      <td>NASA, ESA, NOAA, USGS, astronomy, space, weath...</td>\n",
       "    </tr>\n",
       "  </tbody>\n",
       "</table>\n",
       "</div>"
      ],
      "text/plain": [
       "                   ID  Type                       Name  \\\n",
       "0               2gwsk  user                  Ming Quek   \n",
       "1              iroach  user                Isaac Roach   \n",
       "2           tonybraun  user                 Tony Braun   \n",
       "3  junknajidyahoocom1  user         Junknajid Yahoocom   \n",
       "4   spaceastronautics  user  Space & Astronautics News   \n",
       "\n",
       "                                         Description  \n",
       "0                                                NaN  \n",
       "1                                                NaN  \n",
       "2                                                NaN  \n",
       "3                                                NaN  \n",
       "4  NASA, ESA, NOAA, USGS, astronomy, space, weath...  "
      ]
     },
     "execution_count": 42,
     "metadata": {},
     "output_type": "execute_result"
    }
   ],
   "source": [
    "users.head()"
   ]
  },
  {
   "cell_type": "markdown",
   "metadata": {},
   "source": [
    "## Subs"
   ]
  },
  {
   "cell_type": "code",
   "execution_count": 43,
   "metadata": {},
   "outputs": [
    {
     "data": {
      "text/html": [
       "<div>\n",
       "<style scoped>\n",
       "    .dataframe tbody tr th:only-of-type {\n",
       "        vertical-align: middle;\n",
       "    }\n",
       "\n",
       "    .dataframe tbody tr th {\n",
       "        vertical-align: top;\n",
       "    }\n",
       "\n",
       "    .dataframe thead th {\n",
       "        text-align: right;\n",
       "    }\n",
       "</style>\n",
       "<table border=\"1\" class=\"dataframe\">\n",
       "  <thead>\n",
       "    <tr style=\"text-align: right;\">\n",
       "      <th></th>\n",
       "      <th>FollowerID</th>\n",
       "      <th>FollowedID</th>\n",
       "    </tr>\n",
       "  </thead>\n",
       "  <tbody>\n",
       "    <tr>\n",
       "      <th>25626456</th>\n",
       "      <td>cheteam</td>\n",
       "      <td>104455115</td>\n",
       "    </tr>\n",
       "    <tr>\n",
       "      <th>25626457</th>\n",
       "      <td>crisis2010</td>\n",
       "      <td>104455115</td>\n",
       "    </tr>\n",
       "    <tr>\n",
       "      <th>25626458</th>\n",
       "      <td>starikname</td>\n",
       "      <td>104455115</td>\n",
       "    </tr>\n",
       "    <tr>\n",
       "      <th>25626459</th>\n",
       "      <td>gaidamanchuk</td>\n",
       "      <td>104455115</td>\n",
       "    </tr>\n",
       "    <tr>\n",
       "      <th>25626460</th>\n",
       "      <td>gipsow</td>\n",
       "      <td>104455115</td>\n",
       "    </tr>\n",
       "  </tbody>\n",
       "</table>\n",
       "</div>"
      ],
      "text/plain": [
       "            FollowerID FollowedID\n",
       "25626456       cheteam  104455115\n",
       "25626457    crisis2010  104455115\n",
       "25626458    starikname  104455115\n",
       "25626459  gaidamanchuk  104455115\n",
       "25626460        gipsow  104455115"
      ]
     },
     "execution_count": 43,
     "metadata": {},
     "output_type": "execute_result"
    }
   ],
   "source": [
    "subs[subs.duplicated()].head()"
   ]
  },
  {
   "cell_type": "code",
   "execution_count": 44,
   "metadata": {},
   "outputs": [
    {
     "data": {
      "text/html": [
       "<div>\n",
       "<style scoped>\n",
       "    .dataframe tbody tr th:only-of-type {\n",
       "        vertical-align: middle;\n",
       "    }\n",
       "\n",
       "    .dataframe tbody tr th {\n",
       "        vertical-align: top;\n",
       "    }\n",
       "\n",
       "    .dataframe thead th {\n",
       "        text-align: right;\n",
       "    }\n",
       "</style>\n",
       "<table border=\"1\" class=\"dataframe\">\n",
       "  <thead>\n",
       "    <tr style=\"text-align: right;\">\n",
       "      <th></th>\n",
       "      <th>FollowerID</th>\n",
       "      <th>FollowedID</th>\n",
       "    </tr>\n",
       "  </thead>\n",
       "  <tbody>\n",
       "    <tr>\n",
       "      <th>11690075</th>\n",
       "      <td>cheteam</td>\n",
       "      <td>104455115</td>\n",
       "    </tr>\n",
       "    <tr>\n",
       "      <th>25626456</th>\n",
       "      <td>cheteam</td>\n",
       "      <td>104455115</td>\n",
       "    </tr>\n",
       "    <tr>\n",
       "      <th>26482578</th>\n",
       "      <td>cheteam</td>\n",
       "      <td>104455115</td>\n",
       "    </tr>\n",
       "  </tbody>\n",
       "</table>\n",
       "</div>"
      ],
      "text/plain": [
       "         FollowerID FollowedID\n",
       "11690075    cheteam  104455115\n",
       "25626456    cheteam  104455115\n",
       "26482578    cheteam  104455115"
      ]
     },
     "execution_count": 44,
     "metadata": {},
     "output_type": "execute_result"
    }
   ],
   "source": [
    "subs[(subs['FollowerID']=='cheteam') & (subs['FollowedID']=='104455115')]"
   ]
  },
  {
   "cell_type": "code",
   "execution_count": 45,
   "metadata": {},
   "outputs": [],
   "source": [
    "subs.drop_duplicates(subset=['FollowerID', 'FollowedID'], inplace=True)"
   ]
  },
  {
   "cell_type": "code",
   "execution_count": 46,
   "metadata": {},
   "outputs": [
    {
     "data": {
      "text/plain": [
       "(25862827, 2)"
      ]
     },
     "execution_count": 46,
     "metadata": {},
     "output_type": "execute_result"
    }
   ],
   "source": [
    "subs.shape"
   ]
  },
  {
   "cell_type": "markdown",
   "metadata": {},
   "source": [
    "## Services"
   ]
  },
  {
   "cell_type": "code",
   "execution_count": 47,
   "metadata": {},
   "outputs": [],
   "source": [
    "services.dropna(subset=['UserID'], inplace=True)"
   ]
  },
  {
   "cell_type": "code",
   "execution_count": 48,
   "metadata": {},
   "outputs": [
    {
     "data": {
      "text/html": [
       "<div>\n",
       "<style scoped>\n",
       "    .dataframe tbody tr th:only-of-type {\n",
       "        vertical-align: middle;\n",
       "    }\n",
       "\n",
       "    .dataframe tbody tr th {\n",
       "        vertical-align: top;\n",
       "    }\n",
       "\n",
       "    .dataframe thead th {\n",
       "        text-align: right;\n",
       "    }\n",
       "</style>\n",
       "<table border=\"1\" class=\"dataframe\">\n",
       "  <thead>\n",
       "    <tr style=\"text-align: right;\">\n",
       "      <th></th>\n",
       "      <th>UserID</th>\n",
       "      <th>ServiceID</th>\n",
       "      <th>ServiceURL</th>\n",
       "    </tr>\n",
       "  </thead>\n",
       "  <tbody>\n",
       "    <tr>\n",
       "      <th>0</th>\n",
       "      <td>2gwsk</td>\n",
       "      <td>blog</td>\n",
       "      <td>http://en.wikipedia.org/wiki/Blog</td>\n",
       "    </tr>\n",
       "    <tr>\n",
       "      <th>1</th>\n",
       "      <td>2gwsk</td>\n",
       "      <td>twitter</td>\n",
       "      <td>http://twitter.com/</td>\n",
       "    </tr>\n",
       "    <tr>\n",
       "      <th>2</th>\n",
       "      <td>iroach</td>\n",
       "      <td>facebook</td>\n",
       "      <td>http://www.facebook.com/</td>\n",
       "    </tr>\n",
       "    <tr>\n",
       "      <th>3</th>\n",
       "      <td>iroach</td>\n",
       "      <td>googletalk</td>\n",
       "      <td>http://talk.google.com/</td>\n",
       "    </tr>\n",
       "    <tr>\n",
       "      <th>4</th>\n",
       "      <td>iroach</td>\n",
       "      <td>twitter</td>\n",
       "      <td>http://twitter.com/</td>\n",
       "    </tr>\n",
       "  </tbody>\n",
       "</table>\n",
       "</div>"
      ],
      "text/plain": [
       "   UserID   ServiceID                         ServiceURL\n",
       "0   2gwsk        blog  http://en.wikipedia.org/wiki/Blog\n",
       "1   2gwsk     twitter                http://twitter.com/\n",
       "2  iroach    facebook           http://www.facebook.com/\n",
       "3  iroach  googletalk            http://talk.google.com/\n",
       "4  iroach     twitter                http://twitter.com/"
      ]
     },
     "execution_count": 48,
     "metadata": {},
     "output_type": "execute_result"
    }
   ],
   "source": [
    "services.head()"
   ]
  },
  {
   "cell_type": "code",
   "execution_count": 49,
   "metadata": {},
   "outputs": [
    {
     "data": {
      "text/html": [
       "<div>\n",
       "<style scoped>\n",
       "    .dataframe tbody tr th:only-of-type {\n",
       "        vertical-align: middle;\n",
       "    }\n",
       "\n",
       "    .dataframe tbody tr th {\n",
       "        vertical-align: top;\n",
       "    }\n",
       "\n",
       "    .dataframe thead th {\n",
       "        text-align: right;\n",
       "    }\n",
       "</style>\n",
       "<table border=\"1\" class=\"dataframe\">\n",
       "  <thead>\n",
       "    <tr style=\"text-align: right;\">\n",
       "      <th></th>\n",
       "      <th></th>\n",
       "      <th>UserID</th>\n",
       "    </tr>\n",
       "    <tr>\n",
       "      <th>ServiceID</th>\n",
       "      <th>ServiceURL</th>\n",
       "      <th></th>\n",
       "    </tr>\n",
       "  </thead>\n",
       "  <tbody>\n",
       "    <tr>\n",
       "      <th>amazon</th>\n",
       "      <th>http://www.amazon.com/</th>\n",
       "      <td>12061</td>\n",
       "    </tr>\n",
       "    <tr>\n",
       "      <th>ameba</th>\n",
       "      <th>http://www.ameba.jp/</th>\n",
       "      <td>3975</td>\n",
       "    </tr>\n",
       "    <tr>\n",
       "      <th>backtype</th>\n",
       "      <th>http://www.backtype.com/</th>\n",
       "      <td>2143</td>\n",
       "    </tr>\n",
       "    <tr>\n",
       "      <th>baidu</th>\n",
       "      <th>http://hi.baidu.com/</th>\n",
       "      <td>734</td>\n",
       "    </tr>\n",
       "    <tr>\n",
       "      <th>blog</th>\n",
       "      <th>http://en.wikipedia.org/wiki/Blog</th>\n",
       "      <td>353941</td>\n",
       "    </tr>\n",
       "    <tr>\n",
       "      <th>...</th>\n",
       "      <th>...</th>\n",
       "      <td>...</td>\n",
       "    </tr>\n",
       "    <tr>\n",
       "      <th>vimeo</th>\n",
       "      <th>http://www.vimeo.com/</th>\n",
       "      <td>12190</td>\n",
       "    </tr>\n",
       "    <tr>\n",
       "      <th>wakoopa</th>\n",
       "      <th>http://wakoopa.com/</th>\n",
       "      <td>2742</td>\n",
       "    </tr>\n",
       "    <tr>\n",
       "      <th>yelp</th>\n",
       "      <th>http://www.yelp.com/</th>\n",
       "      <td>6424</td>\n",
       "    </tr>\n",
       "    <tr>\n",
       "      <th>youtube</th>\n",
       "      <th>http://www.youtube.com/</th>\n",
       "      <td>92415</td>\n",
       "    </tr>\n",
       "    <tr>\n",
       "      <th>zooomr</th>\n",
       "      <th>http://www.zooomr.com/</th>\n",
       "      <td>1454</td>\n",
       "    </tr>\n",
       "  </tbody>\n",
       "</table>\n",
       "<p>61 rows × 1 columns</p>\n",
       "</div>"
      ],
      "text/plain": [
       "                                             UserID\n",
       "ServiceID ServiceURL                               \n",
       "amazon    http://www.amazon.com/              12061\n",
       "ameba     http://www.ameba.jp/                 3975\n",
       "backtype  http://www.backtype.com/             2143\n",
       "baidu     http://hi.baidu.com/                  734\n",
       "blog      http://en.wikipedia.org/wiki/Blog  353941\n",
       "...                                             ...\n",
       "vimeo     http://www.vimeo.com/               12190\n",
       "wakoopa   http://wakoopa.com/                  2742\n",
       "yelp      http://www.yelp.com/                 6424\n",
       "youtube   http://www.youtube.com/             92415\n",
       "zooomr    http://www.zooomr.com/               1454\n",
       "\n",
       "[61 rows x 1 columns]"
      ]
     },
     "execution_count": 49,
     "metadata": {},
     "output_type": "execute_result"
    }
   ],
   "source": [
    "services.groupby(['ServiceID', 'ServiceURL']).count()"
   ]
  },
  {
   "cell_type": "code",
   "execution_count": 50,
   "metadata": {},
   "outputs": [
    {
     "data": {
      "text/html": [
       "<div>\n",
       "<style scoped>\n",
       "    .dataframe tbody tr th:only-of-type {\n",
       "        vertical-align: middle;\n",
       "    }\n",
       "\n",
       "    .dataframe tbody tr th {\n",
       "        vertical-align: top;\n",
       "    }\n",
       "\n",
       "    .dataframe thead th {\n",
       "        text-align: right;\n",
       "    }\n",
       "</style>\n",
       "<table border=\"1\" class=\"dataframe\">\n",
       "  <thead>\n",
       "    <tr style=\"text-align: right;\">\n",
       "      <th></th>\n",
       "      <th>UserID</th>\n",
       "      <th>ServiceID</th>\n",
       "      <th>ServiceURL</th>\n",
       "    </tr>\n",
       "  </thead>\n",
       "  <tbody>\n",
       "    <tr>\n",
       "      <th>17</th>\n",
       "      <td>junknajidyahoocom1</td>\n",
       "      <td>twitter</td>\n",
       "      <td>http://twitter.com/</td>\n",
       "    </tr>\n",
       "    <tr>\n",
       "      <th>20</th>\n",
       "      <td>spaceastronautics</td>\n",
       "      <td>facebook</td>\n",
       "      <td>http://www.facebook.com/</td>\n",
       "    </tr>\n",
       "    <tr>\n",
       "      <th>21</th>\n",
       "      <td>spaceastronautics</td>\n",
       "      <td>facebook</td>\n",
       "      <td>http://www.facebook.com/</td>\n",
       "    </tr>\n",
       "    <tr>\n",
       "      <th>23</th>\n",
       "      <td>spaceastronautics</td>\n",
       "      <td>twitter</td>\n",
       "      <td>http://twitter.com/</td>\n",
       "    </tr>\n",
       "    <tr>\n",
       "      <th>24</th>\n",
       "      <td>spaceastronautics</td>\n",
       "      <td>twitter</td>\n",
       "      <td>http://twitter.com/</td>\n",
       "    </tr>\n",
       "  </tbody>\n",
       "</table>\n",
       "</div>"
      ],
      "text/plain": [
       "                UserID ServiceID                ServiceURL\n",
       "17  junknajidyahoocom1   twitter       http://twitter.com/\n",
       "20   spaceastronautics  facebook  http://www.facebook.com/\n",
       "21   spaceastronautics  facebook  http://www.facebook.com/\n",
       "23   spaceastronautics   twitter       http://twitter.com/\n",
       "24   spaceastronautics   twitter       http://twitter.com/"
      ]
     },
     "execution_count": 50,
     "metadata": {},
     "output_type": "execute_result"
    }
   ],
   "source": [
    "services[services.duplicated()].head()"
   ]
  },
  {
   "cell_type": "code",
   "execution_count": 51,
   "metadata": {},
   "outputs": [],
   "source": [
    "services.drop_duplicates(subset=['UserID', 'ServiceID'], inplace=True)"
   ]
  },
  {
   "cell_type": "markdown",
   "metadata": {},
   "source": [
    "## Likes"
   ]
  },
  {
   "cell_type": "code",
   "execution_count": 52,
   "metadata": {},
   "outputs": [
    {
     "data": {
      "text/html": [
       "<div>\n",
       "<style scoped>\n",
       "    .dataframe tbody tr th:only-of-type {\n",
       "        vertical-align: middle;\n",
       "    }\n",
       "\n",
       "    .dataframe tbody tr th {\n",
       "        vertical-align: top;\n",
       "    }\n",
       "\n",
       "    .dataframe thead th {\n",
       "        text-align: right;\n",
       "    }\n",
       "</style>\n",
       "<table border=\"1\" class=\"dataframe\">\n",
       "  <thead>\n",
       "    <tr style=\"text-align: right;\">\n",
       "      <th></th>\n",
       "      <th>userID</th>\n",
       "      <th>PostID</th>\n",
       "      <th>Timestamp</th>\n",
       "    </tr>\n",
       "  </thead>\n",
       "  <tbody>\n",
       "    <tr>\n",
       "      <th>0</th>\n",
       "      <td>yasinde</td>\n",
       "      <td>e/2d4fcaed2d2a4ac1a36571b66da3f16c</td>\n",
       "      <td>2010-04-28 07:17:43</td>\n",
       "    </tr>\n",
       "    <tr>\n",
       "      <th>1</th>\n",
       "      <td>socialnewsturkey</td>\n",
       "      <td>e/2d4fcaed2d2a4ac1a36571b66da3f16c</td>\n",
       "      <td>2010-03-02 20:10:02</td>\n",
       "    </tr>\n",
       "    <tr>\n",
       "      <th>2</th>\n",
       "      <td>janzu</td>\n",
       "      <td>e/2d4fcaed2d2a4ac1a36571b66da3f16c</td>\n",
       "      <td>2010-03-02 19:50:57</td>\n",
       "    </tr>\n",
       "    <tr>\n",
       "      <th>3</th>\n",
       "      <td>mugecerman</td>\n",
       "      <td>e/2d4fcaed2d2a4ac1a36571b66da3f16c</td>\n",
       "      <td>2010-03-02 19:18:38</td>\n",
       "    </tr>\n",
       "    <tr>\n",
       "      <th>4</th>\n",
       "      <td>miocaro</td>\n",
       "      <td>e/2d4fcaed2d2a4ac1a36571b66da3f16c</td>\n",
       "      <td>2010-03-02 17:31:31</td>\n",
       "    </tr>\n",
       "  </tbody>\n",
       "</table>\n",
       "</div>"
      ],
      "text/plain": [
       "             userID                              PostID            Timestamp\n",
       "0           yasinde  e/2d4fcaed2d2a4ac1a36571b66da3f16c  2010-04-28 07:17:43\n",
       "1  socialnewsturkey  e/2d4fcaed2d2a4ac1a36571b66da3f16c  2010-03-02 20:10:02\n",
       "2             janzu  e/2d4fcaed2d2a4ac1a36571b66da3f16c  2010-03-02 19:50:57\n",
       "3        mugecerman  e/2d4fcaed2d2a4ac1a36571b66da3f16c  2010-03-02 19:18:38\n",
       "4           miocaro  e/2d4fcaed2d2a4ac1a36571b66da3f16c  2010-03-02 17:31:31"
      ]
     },
     "execution_count": 52,
     "metadata": {},
     "output_type": "execute_result"
    }
   ],
   "source": [
    "likes.head()"
   ]
  },
  {
   "cell_type": "code",
   "execution_count": 53,
   "metadata": {},
   "outputs": [],
   "source": [
    "likes['Timestamp'] = pd.to_datetime(likes['Timestamp']).dt.tz_localize('Etc/GMT-1').dt.tz_convert('UTC').dt.strftime('%Y-%m-%dT%H:%M:%S')"
   ]
  },
  {
   "cell_type": "code",
   "execution_count": 54,
   "metadata": {},
   "outputs": [
    {
     "data": {
      "text/html": [
       "<div>\n",
       "<style scoped>\n",
       "    .dataframe tbody tr th:only-of-type {\n",
       "        vertical-align: middle;\n",
       "    }\n",
       "\n",
       "    .dataframe tbody tr th {\n",
       "        vertical-align: top;\n",
       "    }\n",
       "\n",
       "    .dataframe thead th {\n",
       "        text-align: right;\n",
       "    }\n",
       "</style>\n",
       "<table border=\"1\" class=\"dataframe\">\n",
       "  <thead>\n",
       "    <tr style=\"text-align: right;\">\n",
       "      <th></th>\n",
       "      <th>userID</th>\n",
       "      <th>PostID</th>\n",
       "      <th>Timestamp</th>\n",
       "    </tr>\n",
       "  </thead>\n",
       "  <tbody>\n",
       "    <tr>\n",
       "      <th>3257</th>\n",
       "      <td>boredcw</td>\n",
       "      <td>e/20d23a110f7149388ae1933395b9c2f9</td>\n",
       "      <td>2010-08-02T17:55:01</td>\n",
       "    </tr>\n",
       "    <tr>\n",
       "      <th>4379</th>\n",
       "      <td>sunipeyk</td>\n",
       "      <td>e/261617709fb44c7daa637f0e5a47c3e5</td>\n",
       "      <td>2010-08-02T19:26:51</td>\n",
       "    </tr>\n",
       "    <tr>\n",
       "      <th>6764</th>\n",
       "      <td>k8s</td>\n",
       "      <td>e/8841f82721e34eec977ef6f63b3d83ae</td>\n",
       "      <td>2010-08-02T20:48:02</td>\n",
       "    </tr>\n",
       "    <tr>\n",
       "      <th>15489</th>\n",
       "      <td>entezar1</td>\n",
       "      <td>e/cadb4ad14e534afa84329de8e2478211</td>\n",
       "      <td>2010-08-02T14:11:16</td>\n",
       "    </tr>\n",
       "    <tr>\n",
       "      <th>20737</th>\n",
       "      <td>cemilertem</td>\n",
       "      <td>e/4eeee3f962a94ea18950bf5a05626d11</td>\n",
       "      <td>2010-07-27T08:47:57</td>\n",
       "    </tr>\n",
       "  </tbody>\n",
       "</table>\n",
       "</div>"
      ],
      "text/plain": [
       "           userID                              PostID            Timestamp\n",
       "3257      boredcw  e/20d23a110f7149388ae1933395b9c2f9  2010-08-02T17:55:01\n",
       "4379     sunipeyk  e/261617709fb44c7daa637f0e5a47c3e5  2010-08-02T19:26:51\n",
       "6764          k8s  e/8841f82721e34eec977ef6f63b3d83ae  2010-08-02T20:48:02\n",
       "15489    entezar1  e/cadb4ad14e534afa84329de8e2478211  2010-08-02T14:11:16\n",
       "20737  cemilertem  e/4eeee3f962a94ea18950bf5a05626d11  2010-07-27T08:47:57"
      ]
     },
     "execution_count": 54,
     "metadata": {},
     "output_type": "execute_result"
    }
   ],
   "source": [
    "likes[likes.duplicated()].head()"
   ]
  },
  {
   "cell_type": "code",
   "execution_count": 55,
   "metadata": {},
   "outputs": [],
   "source": [
    "likes.drop_duplicates(subset=['userID', 'PostID', 'Timestamp'], inplace=True)"
   ]
  },
  {
   "cell_type": "markdown",
   "metadata": {},
   "source": [
    "## Following"
   ]
  },
  {
   "cell_type": "code",
   "execution_count": 56,
   "metadata": {},
   "outputs": [
    {
     "data": {
      "text/html": [
       "<div>\n",
       "<style scoped>\n",
       "    .dataframe tbody tr th:only-of-type {\n",
       "        vertical-align: middle;\n",
       "    }\n",
       "\n",
       "    .dataframe tbody tr th {\n",
       "        vertical-align: top;\n",
       "    }\n",
       "\n",
       "    .dataframe thead th {\n",
       "        text-align: right;\n",
       "    }\n",
       "</style>\n",
       "<table border=\"1\" class=\"dataframe\">\n",
       "  <thead>\n",
       "    <tr style=\"text-align: right;\">\n",
       "      <th></th>\n",
       "      <th>FollowerID</th>\n",
       "      <th>FollowedID</th>\n",
       "      <th>Timestamp</th>\n",
       "    </tr>\n",
       "  </thead>\n",
       "  <tbody>\n",
       "    <tr>\n",
       "      <th>0</th>\n",
       "      <td>njsinc4el</td>\n",
       "      <td>brendafranzo</td>\n",
       "      <td>2010-08-01 16:21:37.562726</td>\n",
       "    </tr>\n",
       "    <tr>\n",
       "      <th>1</th>\n",
       "      <td>njsinc4el</td>\n",
       "      <td>praguebob</td>\n",
       "      <td>2010-08-01 16:21:37.565893</td>\n",
       "    </tr>\n",
       "    <tr>\n",
       "      <th>2</th>\n",
       "      <td>zachhwilliams</td>\n",
       "      <td>hungheroic</td>\n",
       "      <td>2010-08-01 16:21:37.779807</td>\n",
       "    </tr>\n",
       "    <tr>\n",
       "      <th>3</th>\n",
       "      <td>zachhwilliams</td>\n",
       "      <td>ridwan2906</td>\n",
       "      <td>2010-08-01 16:21:37.780406</td>\n",
       "    </tr>\n",
       "    <tr>\n",
       "      <th>4</th>\n",
       "      <td>zachhwilliams</td>\n",
       "      <td>nickcodipietro</td>\n",
       "      <td>2010-08-01 16:21:37.780894</td>\n",
       "    </tr>\n",
       "  </tbody>\n",
       "</table>\n",
       "</div>"
      ],
      "text/plain": [
       "      FollowerID      FollowedID                   Timestamp\n",
       "0      njsinc4el    brendafranzo  2010-08-01 16:21:37.562726\n",
       "1      njsinc4el       praguebob  2010-08-01 16:21:37.565893\n",
       "2  zachhwilliams      hungheroic  2010-08-01 16:21:37.779807\n",
       "3  zachhwilliams      ridwan2906  2010-08-01 16:21:37.780406\n",
       "4  zachhwilliams  nickcodipietro  2010-08-01 16:21:37.780894"
      ]
     },
     "execution_count": 56,
     "metadata": {},
     "output_type": "execute_result"
    }
   ],
   "source": [
    "following.head()"
   ]
  },
  {
   "cell_type": "code",
   "execution_count": 57,
   "metadata": {},
   "outputs": [],
   "source": [
    "def convert_timestamp(row):\n",
    "    timestamp = row['Timestamp']\n",
    "    timestamp = timestamp.split('.')\n",
    "    timestamp = timestamp[0]\n",
    "    return timestamp\n",
    "\n",
    "following['Timestamp'] = following.apply(convert_timestamp, axis=1)\n",
    "following['Timestamp'] = pd.to_datetime(following['Timestamp']).dt.tz_localize('Etc/GMT-1').dt.tz_convert('UTC').dt.strftime('%Y-%m-%dT%H:%M:%S')"
   ]
  },
  {
   "cell_type": "code",
   "execution_count": 58,
   "metadata": {},
   "outputs": [
    {
     "data": {
      "text/html": [
       "<div>\n",
       "<style scoped>\n",
       "    .dataframe tbody tr th:only-of-type {\n",
       "        vertical-align: middle;\n",
       "    }\n",
       "\n",
       "    .dataframe tbody tr th {\n",
       "        vertical-align: top;\n",
       "    }\n",
       "\n",
       "    .dataframe thead th {\n",
       "        text-align: right;\n",
       "    }\n",
       "</style>\n",
       "<table border=\"1\" class=\"dataframe\">\n",
       "  <thead>\n",
       "    <tr style=\"text-align: right;\">\n",
       "      <th></th>\n",
       "      <th>FollowerID</th>\n",
       "      <th>FollowedID</th>\n",
       "      <th>Timestamp</th>\n",
       "    </tr>\n",
       "  </thead>\n",
       "  <tbody>\n",
       "    <tr>\n",
       "      <th>0</th>\n",
       "      <td>njsinc4el</td>\n",
       "      <td>brendafranzo</td>\n",
       "      <td>2010-08-01T15:21:37</td>\n",
       "    </tr>\n",
       "    <tr>\n",
       "      <th>1</th>\n",
       "      <td>njsinc4el</td>\n",
       "      <td>praguebob</td>\n",
       "      <td>2010-08-01T15:21:37</td>\n",
       "    </tr>\n",
       "    <tr>\n",
       "      <th>2</th>\n",
       "      <td>zachhwilliams</td>\n",
       "      <td>hungheroic</td>\n",
       "      <td>2010-08-01T15:21:37</td>\n",
       "    </tr>\n",
       "    <tr>\n",
       "      <th>3</th>\n",
       "      <td>zachhwilliams</td>\n",
       "      <td>ridwan2906</td>\n",
       "      <td>2010-08-01T15:21:37</td>\n",
       "    </tr>\n",
       "    <tr>\n",
       "      <th>4</th>\n",
       "      <td>zachhwilliams</td>\n",
       "      <td>nickcodipietro</td>\n",
       "      <td>2010-08-01T15:21:37</td>\n",
       "    </tr>\n",
       "  </tbody>\n",
       "</table>\n",
       "</div>"
      ],
      "text/plain": [
       "      FollowerID      FollowedID            Timestamp\n",
       "0      njsinc4el    brendafranzo  2010-08-01T15:21:37\n",
       "1      njsinc4el       praguebob  2010-08-01T15:21:37\n",
       "2  zachhwilliams      hungheroic  2010-08-01T15:21:37\n",
       "3  zachhwilliams      ridwan2906  2010-08-01T15:21:37\n",
       "4  zachhwilliams  nickcodipietro  2010-08-01T15:21:37"
      ]
     },
     "execution_count": 58,
     "metadata": {},
     "output_type": "execute_result"
    }
   ],
   "source": [
    "following.head()"
   ]
  },
  {
   "cell_type": "markdown",
   "metadata": {},
   "source": [
    "## Comment"
   ]
  },
  {
   "cell_type": "code",
   "execution_count": 59,
   "metadata": {},
   "outputs": [
    {
     "data": {
      "text/html": [
       "<div>\n",
       "<style scoped>\n",
       "    .dataframe tbody tr th:only-of-type {\n",
       "        vertical-align: middle;\n",
       "    }\n",
       "\n",
       "    .dataframe tbody tr th {\n",
       "        vertical-align: top;\n",
       "    }\n",
       "\n",
       "    .dataframe thead th {\n",
       "        text-align: right;\n",
       "    }\n",
       "</style>\n",
       "<table border=\"1\" class=\"dataframe\">\n",
       "  <thead>\n",
       "    <tr style=\"text-align: right;\">\n",
       "      <th></th>\n",
       "      <th>PostID</th>\n",
       "      <th>EntryID</th>\n",
       "      <th>PostedBy</th>\n",
       "      <th>SourceURL</th>\n",
       "      <th>Timestamp</th>\n",
       "      <th>Text</th>\n",
       "    </tr>\n",
       "  </thead>\n",
       "  <tbody>\n",
       "    <tr>\n",
       "      <th>0</th>\n",
       "      <td>e/ed12adf025b5491da54c4ff2c8c5377a/c/c2dbc8151...</td>\n",
       "      <td>e/ed12adf025b5491da54c4ff2c8c5377a</td>\n",
       "      <td>koenigdublin</td>\n",
       "      <td>NaN</td>\n",
       "      <td>2010-08-06 15:06:32</td>\n",
       "      <td>В начале 20 века  было противостояние идеологи...</td>\n",
       "    </tr>\n",
       "    <tr>\n",
       "      <th>1</th>\n",
       "      <td>e/7f6fb13b5a99449bb9dcbb3f8693be73/c/7477fb677...</td>\n",
       "      <td>e/7f6fb13b5a99449bb9dcbb3f8693be73</td>\n",
       "      <td>ilportalinux</td>\n",
       "      <td>NaN</td>\n",
       "      <td>2010-08-06 15:06:32</td>\n",
       "      <td>sofferenza? :D</td>\n",
       "    </tr>\n",
       "    <tr>\n",
       "      <th>2</th>\n",
       "      <td>e/624ca9226b6526ebdb69f9b46df482c7/c/32c6bf5bc...</td>\n",
       "      <td>e/624ca9226b6526ebdb69f9b46df482c7</td>\n",
       "      <td>guardianuk</td>\n",
       "      <td>NaN</td>\n",
       "      <td>2010-08-06 14:45:07</td>\n",
       "      <td>Reel Review video: Catherine Shoard defends Kn...</td>\n",
       "    </tr>\n",
       "    <tr>\n",
       "      <th>3</th>\n",
       "      <td>e/2fdf59e075094fe1847137af34eda0f7/c/eb22afe81...</td>\n",
       "      <td>e/2fdf59e075094fe1847137af34eda0f7</td>\n",
       "      <td>nahi</td>\n",
       "      <td>http://m.ctor.org/f2p/</td>\n",
       "      <td>2010-08-06 15:06:32</td>\n",
       "      <td>VMWareじゃなくてVMwareね。</td>\n",
       "    </tr>\n",
       "    <tr>\n",
       "      <th>4</th>\n",
       "      <td>e/4d8de05f989d43a4b90bfbfc59751e1c/c/d472f7b81...</td>\n",
       "      <td>e/4d8de05f989d43a4b90bfbfc59751e1c</td>\n",
       "      <td>miocaro</td>\n",
       "      <td>NaN</td>\n",
       "      <td>2010-08-06 15:06:31</td>\n",
       "      <td>Anıl havuzdan uzak dur. Sen evde olacaksın :)</td>\n",
       "    </tr>\n",
       "  </tbody>\n",
       "</table>\n",
       "</div>"
      ],
      "text/plain": [
       "                                              PostID  \\\n",
       "0  e/ed12adf025b5491da54c4ff2c8c5377a/c/c2dbc8151...   \n",
       "1  e/7f6fb13b5a99449bb9dcbb3f8693be73/c/7477fb677...   \n",
       "2  e/624ca9226b6526ebdb69f9b46df482c7/c/32c6bf5bc...   \n",
       "3  e/2fdf59e075094fe1847137af34eda0f7/c/eb22afe81...   \n",
       "4  e/4d8de05f989d43a4b90bfbfc59751e1c/c/d472f7b81...   \n",
       "\n",
       "                              EntryID      PostedBy               SourceURL  \\\n",
       "0  e/ed12adf025b5491da54c4ff2c8c5377a  koenigdublin                     NaN   \n",
       "1  e/7f6fb13b5a99449bb9dcbb3f8693be73  ilportalinux                     NaN   \n",
       "2  e/624ca9226b6526ebdb69f9b46df482c7    guardianuk                     NaN   \n",
       "3  e/2fdf59e075094fe1847137af34eda0f7          nahi  http://m.ctor.org/f2p/   \n",
       "4  e/4d8de05f989d43a4b90bfbfc59751e1c       miocaro                     NaN   \n",
       "\n",
       "             Timestamp                                               Text  \n",
       "0  2010-08-06 15:06:32  В начале 20 века  было противостояние идеологи...  \n",
       "1  2010-08-06 15:06:32                                     sofferenza? :D  \n",
       "2  2010-08-06 14:45:07  Reel Review video: Catherine Shoard defends Kn...  \n",
       "3  2010-08-06 15:06:32                                VMWareじゃなくてVMwareね。  \n",
       "4  2010-08-06 15:06:31      Anıl havuzdan uzak dur. Sen evde olacaksın :)  "
      ]
     },
     "execution_count": 59,
     "metadata": {},
     "output_type": "execute_result"
    }
   ],
   "source": [
    "comments.head()"
   ]
  },
  {
   "cell_type": "code",
   "execution_count": 60,
   "metadata": {},
   "outputs": [
    {
     "data": {
      "text/plain": [
       "np.int64(2789)"
      ]
     },
     "execution_count": 60,
     "metadata": {},
     "output_type": "execute_result"
    }
   ],
   "source": [
    "comments[['EntryID', 'PostedBy', 'Timestamp']].duplicated().sum()"
   ]
  },
  {
   "cell_type": "code",
   "execution_count": 61,
   "metadata": {},
   "outputs": [
    {
     "data": {
      "text/html": [
       "<div>\n",
       "<style scoped>\n",
       "    .dataframe tbody tr th:only-of-type {\n",
       "        vertical-align: middle;\n",
       "    }\n",
       "\n",
       "    .dataframe tbody tr th {\n",
       "        vertical-align: top;\n",
       "    }\n",
       "\n",
       "    .dataframe thead th {\n",
       "        text-align: right;\n",
       "    }\n",
       "</style>\n",
       "<table border=\"1\" class=\"dataframe\">\n",
       "  <thead>\n",
       "    <tr style=\"text-align: right;\">\n",
       "      <th></th>\n",
       "      <th>PostID</th>\n",
       "      <th>EntryID</th>\n",
       "      <th>PostedBy</th>\n",
       "      <th>SourceURL</th>\n",
       "      <th>Timestamp</th>\n",
       "      <th>Text</th>\n",
       "    </tr>\n",
       "  </thead>\n",
       "  <tbody>\n",
       "    <tr>\n",
       "      <th>12</th>\n",
       "      <td>e/01e9a149fff85ff948972896145d3d65/c/c70184cfd...</td>\n",
       "      <td>e/01e9a149fff85ff948972896145d3d65</td>\n",
       "      <td>inhabitat24</td>\n",
       "      <td>NaN</td>\n",
       "      <td>2010-08-06 15:06:27</td>\n",
       "      <td>Yesterday the enviously green city of Portland...</td>\n",
       "    </tr>\n",
       "    <tr>\n",
       "      <th>4286</th>\n",
       "      <td>e/3df77e7962d4bb102c15b59c2d0a7e84/c/d3ab818a9...</td>\n",
       "      <td>e/3df77e7962d4bb102c15b59c2d0a7e84</td>\n",
       "      <td>chacha102</td>\n",
       "      <td>NaN</td>\n",
       "      <td>2009-05-30 17:22:49</td>\n",
       "      <td>I will not eat at Joes</td>\n",
       "    </tr>\n",
       "    <tr>\n",
       "      <th>4690</th>\n",
       "      <td>e/3df77e7962d4bb102c15b59c2d0a7e84/c/d57e19172...</td>\n",
       "      <td>e/3df77e7962d4bb102c15b59c2d0a7e84</td>\n",
       "      <td>chacha102</td>\n",
       "      <td>NaN</td>\n",
       "      <td>2009-07-16 21:03:03</td>\n",
       "      <td>will</td>\n",
       "    </tr>\n",
       "    <tr>\n",
       "      <th>6390</th>\n",
       "      <td>e/925a53352a23ac87caf86cd2f8e49f09/c/2e3db1c3b...</td>\n",
       "      <td>e/925a53352a23ac87caf86cd2f8e49f09</td>\n",
       "      <td>gamekingstv</td>\n",
       "      <td>NaN</td>\n",
       "      <td>2010-08-06 16:39:15</td>\n",
       "      <td>Het is vrijdag. Daar houden we van. Daarom gaa...</td>\n",
       "    </tr>\n",
       "    <tr>\n",
       "      <th>6839</th>\n",
       "      <td>e/133f50727f96484c558dc07b9cbea3bf/c/128f0824b...</td>\n",
       "      <td>e/133f50727f96484c558dc07b9cbea3bf</td>\n",
       "      <td>inhabitat24</td>\n",
       "      <td>NaN</td>\n",
       "      <td>2010-08-06 16:45:32</td>\n",
       "      <td>Read the rest of Incredible Miniature Sculptur...</td>\n",
       "    </tr>\n",
       "  </tbody>\n",
       "</table>\n",
       "</div>"
      ],
      "text/plain": [
       "                                                 PostID  \\\n",
       "12    e/01e9a149fff85ff948972896145d3d65/c/c70184cfd...   \n",
       "4286  e/3df77e7962d4bb102c15b59c2d0a7e84/c/d3ab818a9...   \n",
       "4690  e/3df77e7962d4bb102c15b59c2d0a7e84/c/d57e19172...   \n",
       "6390  e/925a53352a23ac87caf86cd2f8e49f09/c/2e3db1c3b...   \n",
       "6839  e/133f50727f96484c558dc07b9cbea3bf/c/128f0824b...   \n",
       "\n",
       "                                 EntryID     PostedBy SourceURL  \\\n",
       "12    e/01e9a149fff85ff948972896145d3d65  inhabitat24       NaN   \n",
       "4286  e/3df77e7962d4bb102c15b59c2d0a7e84    chacha102       NaN   \n",
       "4690  e/3df77e7962d4bb102c15b59c2d0a7e84    chacha102       NaN   \n",
       "6390  e/925a53352a23ac87caf86cd2f8e49f09  gamekingstv       NaN   \n",
       "6839  e/133f50727f96484c558dc07b9cbea3bf  inhabitat24       NaN   \n",
       "\n",
       "                Timestamp                                               Text  \n",
       "12    2010-08-06 15:06:27  Yesterday the enviously green city of Portland...  \n",
       "4286  2009-05-30 17:22:49                             I will not eat at Joes  \n",
       "4690  2009-07-16 21:03:03                                               will  \n",
       "6390  2010-08-06 16:39:15  Het is vrijdag. Daar houden we van. Daarom gaa...  \n",
       "6839  2010-08-06 16:45:32  Read the rest of Incredible Miniature Sculptur...  "
      ]
     },
     "execution_count": 61,
     "metadata": {},
     "output_type": "execute_result"
    }
   ],
   "source": [
    "comments[comments[['EntryID', 'PostedBy', 'Timestamp']].duplicated()].head()"
   ]
  },
  {
   "cell_type": "code",
   "execution_count": 62,
   "metadata": {},
   "outputs": [],
   "source": [
    "comments.drop_duplicates(subset=['EntryID', 'PostedBy', 'Timestamp'], inplace=True)"
   ]
  },
  {
   "cell_type": "code",
   "execution_count": 63,
   "metadata": {},
   "outputs": [],
   "source": [
    "comments['Timestamp'] = pd.to_datetime(comments['Timestamp']).dt.tz_localize('Etc/GMT-1').dt.tz_convert('UTC').dt.strftime('%Y-%m-%dT%H:%M:%S')"
   ]
  },
  {
   "cell_type": "markdown",
   "metadata": {},
   "source": [
    "## Entries 1, 2, 3"
   ]
  },
  {
   "cell_type": "code",
   "execution_count": 64,
   "metadata": {},
   "outputs": [
    {
     "data": {
      "text/plain": [
       "(12450658, 12)"
      ]
     },
     "execution_count": 64,
     "metadata": {},
     "output_type": "execute_result"
    }
   ],
   "source": [
    "entries = pd.concat([entries1, entries2, entries3])\n",
    "entries.shape"
   ]
  },
  {
   "cell_type": "code",
   "execution_count": 65,
   "metadata": {},
   "outputs": [
    {
     "data": {
      "text/html": [
       "<div>\n",
       "<style scoped>\n",
       "    .dataframe tbody tr th:only-of-type {\n",
       "        vertical-align: middle;\n",
       "    }\n",
       "\n",
       "    .dataframe tbody tr th {\n",
       "        vertical-align: top;\n",
       "    }\n",
       "\n",
       "    .dataframe thead th {\n",
       "        text-align: right;\n",
       "    }\n",
       "</style>\n",
       "<table border=\"1\" class=\"dataframe\">\n",
       "  <thead>\n",
       "    <tr style=\"text-align: right;\">\n",
       "      <th></th>\n",
       "      <th>PostID</th>\n",
       "      <th>PostedBy</th>\n",
       "      <th>SourceName</th>\n",
       "      <th>SourceURL</th>\n",
       "      <th>GeoX</th>\n",
       "      <th>GeoY</th>\n",
       "      <th>Timestamp</th>\n",
       "      <th>Text</th>\n",
       "      <th>NumImg</th>\n",
       "      <th>ImgURL</th>\n",
       "      <th>NumVid</th>\n",
       "      <th>VidURL</th>\n",
       "    </tr>\n",
       "  </thead>\n",
       "  <tbody>\n",
       "    <tr>\n",
       "      <th>0</th>\n",
       "      <td>e/29af803d670fb8d67692095f3ee623e6</td>\n",
       "      <td>newsroom1</td>\n",
       "      <td>Ottawa Citizen - News</td>\n",
       "      <td>http://www.ottawacitizen.com/index.html</td>\n",
       "      <td>\\N</td>\n",
       "      <td>\\N</td>\n",
       "      <td>2010-08-02 18:43:10</td>\n",
       "      <td>RIM 'will not compromise' BlackBerry security ...</td>\n",
       "      <td>1.0</td>\n",
       "      <td>http://www.ottawacitizen.com/will+compromise+...</td>\n",
       "      <td>0.0</td>\n",
       "      <td>NaN</td>\n",
       "    </tr>\n",
       "    <tr>\n",
       "      <th>1</th>\n",
       "      <td>e/9c8413a376bec6389be4d46d0812c2bb</td>\n",
       "      <td>mehmetinnet</td>\n",
       "      <td>Mehmetin.Net</td>\n",
       "      <td>http://www.mehmetin.net</td>\n",
       "      <td>\\N</td>\n",
       "      <td>\\N</td>\n",
       "      <td>2010-08-02 19:15:52</td>\n",
       "      <td>Fethullah Gülen: Referandum siyasî olarak görü...</td>\n",
       "      <td>1.0</td>\n",
       "      <td>http://www.mehmetin.net/2010/08/fethullah-gul...</td>\n",
       "      <td>0.0</td>\n",
       "      <td>NaN</td>\n",
       "    </tr>\n",
       "    <tr>\n",
       "      <th>2</th>\n",
       "      <td>e/2d658d97842a466a9513f587f85b0e59</td>\n",
       "      <td>mehmetergin</td>\n",
       "      <td>Mehmetin.Net</td>\n",
       "      <td>http://www.mehmetin.net/</td>\n",
       "      <td>\\N</td>\n",
       "      <td>\\N</td>\n",
       "      <td>2010-08-02 19:15:52</td>\n",
       "      <td>Fethullah Gülen: Referandum siyasî olarak görü...</td>\n",
       "      <td>1.0</td>\n",
       "      <td>http://www.mehmetin.net/2010/08/fethullah-gul...</td>\n",
       "      <td>0.0</td>\n",
       "      <td>NaN</td>\n",
       "    </tr>\n",
       "    <tr>\n",
       "      <th>3</th>\n",
       "      <td>e/b269ab5d56be4e5e90c1954ecc1ef63a</td>\n",
       "      <td>afriki</td>\n",
       "      <td>NaN</td>\n",
       "      <td>NaN</td>\n",
       "      <td>\\N</td>\n",
       "      <td>\\N</td>\n",
       "      <td>2010-08-02 16:37:57</td>\n",
       "      <td>Мне тут недавно один дизайнер сказал: «Ну прот...</td>\n",
       "      <td>0.0</td>\n",
       "      <td>NaN</td>\n",
       "      <td>0.0</td>\n",
       "      <td>NaN</td>\n",
       "    </tr>\n",
       "    <tr>\n",
       "      <th>4</th>\n",
       "      <td>e/74f0a50c374a4ad6bddcbcc60c60cad9</td>\n",
       "      <td>hamsafar</td>\n",
       "      <td>NaN</td>\n",
       "      <td>NaN</td>\n",
       "      <td>\\N</td>\n",
       "      <td>\\N</td>\n",
       "      <td>2010-08-02 18:54:39</td>\n",
       "      <td>عرض سلام و خسته نباشيد:)</td>\n",
       "      <td>0.0</td>\n",
       "      <td>NaN</td>\n",
       "      <td>0.0</td>\n",
       "      <td>NaN</td>\n",
       "    </tr>\n",
       "  </tbody>\n",
       "</table>\n",
       "</div>"
      ],
      "text/plain": [
       "                               PostID     PostedBy             SourceName  \\\n",
       "0  e/29af803d670fb8d67692095f3ee623e6    newsroom1  Ottawa Citizen - News   \n",
       "1  e/9c8413a376bec6389be4d46d0812c2bb  mehmetinnet           Mehmetin.Net   \n",
       "2  e/2d658d97842a466a9513f587f85b0e59  mehmetergin           Mehmetin.Net   \n",
       "3  e/b269ab5d56be4e5e90c1954ecc1ef63a       afriki                    NaN   \n",
       "4  e/74f0a50c374a4ad6bddcbcc60c60cad9     hamsafar                    NaN   \n",
       "\n",
       "                                 SourceURL GeoX GeoY            Timestamp  \\\n",
       "0  http://www.ottawacitizen.com/index.html   \\N   \\N  2010-08-02 18:43:10   \n",
       "1                  http://www.mehmetin.net   \\N   \\N  2010-08-02 19:15:52   \n",
       "2                 http://www.mehmetin.net/   \\N   \\N  2010-08-02 19:15:52   \n",
       "3                                      NaN   \\N   \\N  2010-08-02 16:37:57   \n",
       "4                                      NaN   \\N   \\N  2010-08-02 18:54:39   \n",
       "\n",
       "                                                Text  NumImg  \\\n",
       "0  RIM 'will not compromise' BlackBerry security ...     1.0   \n",
       "1  Fethullah Gülen: Referandum siyasî olarak görü...     1.0   \n",
       "2  Fethullah Gülen: Referandum siyasî olarak görü...     1.0   \n",
       "3  Мне тут недавно один дизайнер сказал: «Ну прот...     0.0   \n",
       "4                           عرض سلام و خسته نباشيد:)     0.0   \n",
       "\n",
       "                                              ImgURL  NumVid VidURL  \n",
       "0   http://www.ottawacitizen.com/will+compromise+...     0.0    NaN  \n",
       "1   http://www.mehmetin.net/2010/08/fethullah-gul...     0.0    NaN  \n",
       "2   http://www.mehmetin.net/2010/08/fethullah-gul...     0.0    NaN  \n",
       "3                                                NaN     0.0    NaN  \n",
       "4                                                NaN     0.0    NaN  "
      ]
     },
     "execution_count": 65,
     "metadata": {},
     "output_type": "execute_result"
    }
   ],
   "source": [
    "entries.head()"
   ]
  },
  {
   "cell_type": "code",
   "execution_count": 66,
   "metadata": {},
   "outputs": [],
   "source": [
    "entries['Timestamp'] = pd.to_datetime(entries['Timestamp']).dt.tz_localize('Etc/GMT-1').dt.tz_convert('UTC').dt.strftime('%Y-%m-%dT%H:%M:%S')"
   ]
  },
  {
   "cell_type": "code",
   "execution_count": 67,
   "metadata": {},
   "outputs": [],
   "source": [
    "entries.dropna(subset=['Timestamp'], inplace=True)"
   ]
  },
  {
   "cell_type": "code",
   "execution_count": 68,
   "metadata": {},
   "outputs": [],
   "source": [
    "entries.drop_duplicates(subset=['Text', 'SourceURL', 'PostedBy', 'Timestamp'], inplace=True)"
   ]
  },
  {
   "cell_type": "markdown",
   "metadata": {},
   "source": [
    "## Remove timestamp outliers"
   ]
  },
  {
   "cell_type": "code",
   "execution_count": 22,
   "metadata": {},
   "outputs": [],
   "source": [
    "likes = pd.read_parquet('processed_data/likes.parquet', engine='pyarrow')\n",
    "likes = likes[likes['Timestamp'] >= '2010-01-01']"
   ]
  },
  {
   "cell_type": "code",
   "execution_count": 23,
   "metadata": {},
   "outputs": [],
   "source": [
    "following = pd.read_parquet('processed_data/following.parquet', engine='pyarrow')\n",
    "following = following[following['Timestamp'] >= '2010-01-01']"
   ]
  },
  {
   "cell_type": "code",
   "execution_count": 24,
   "metadata": {},
   "outputs": [],
   "source": [
    "comments = pd.read_parquet('processed_data/comments.parquet', engine='pyarrow')\n",
    "comments = comments[comments['Timestamp'] >= '2010-01-01']"
   ]
  },
  {
   "cell_type": "code",
   "execution_count": 2,
   "metadata": {},
   "outputs": [],
   "source": [
    "entries = pd.read_parquet('processed_data/entries.parquet', engine='pyarrow')\n",
    "entries = entries[entries['Timestamp'] >= '2010-01-01']"
   ]
  },
  {
   "cell_type": "markdown",
   "metadata": {},
   "source": [
    "# Save pre-processed files"
   ]
  },
  {
   "cell_type": "code",
   "execution_count": 69,
   "metadata": {},
   "outputs": [
    {
     "name": "stdout",
     "output_type": "stream",
     "text": [
      "Requirement already satisfied: pyarrow in /Users/rustamismailov/JupyterProjects/Data Mining I/DataMiningI_py3.12/lib/python3.12/site-packages (17.0.0)\n",
      "Requirement already satisfied: numpy>=1.16.6 in /Users/rustamismailov/JupyterProjects/Data Mining I/DataMiningI_py3.12/lib/python3.12/site-packages (from pyarrow) (2.0.2)\n",
      "Note: you may need to restart the kernel to use updated packages.\n"
     ]
    }
   ],
   "source": [
    "# %pip install pyarrow"
   ]
  },
  {
   "cell_type": "code",
   "execution_count": 3,
   "metadata": {},
   "outputs": [],
   "source": [
    "users.to_parquet('processed_data/users.parquet', index=False)\n",
    "subs.to_parquet('processed_data/subs.parquet', index=False)\n",
    "services.to_parquet('processed_data/services.parquet', index=False)\n",
    "likes.to_parquet('processed_data/likes.parquet', index=False)\n",
    "following.to_parquet('processed_data/following.parquet', index=False)\n",
    "comments.to_parquet('processed_data/comments.parquet', index=False)\n",
    "entries.to_parquet('processed_data/entries.parquet', index=False)"
   ]
  },
  {
   "cell_type": "code",
   "execution_count": null,
   "metadata": {},
   "outputs": [],
   "source": []
  }
 ],
 "metadata": {
  "kernelspec": {
   "display_name": "DataMiningI_py3.12",
   "language": "python",
   "name": "dataminingi_py3.12"
  },
  "language_info": {
   "codemirror_mode": {
    "name": "ipython",
    "version": 3
   },
   "file_extension": ".py",
   "mimetype": "text/x-python",
   "name": "python",
   "nbconvert_exporter": "python",
   "pygments_lexer": "ipython3",
   "version": "3.12.4"
  }
 },
 "nbformat": 4,
 "nbformat_minor": 2
}
