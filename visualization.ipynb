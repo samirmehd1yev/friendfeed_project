{
 "cells": [
  {
   "cell_type": "code",
   "execution_count": 1,
   "metadata": {},
   "outputs": [],
   "source": [
    "import pandas as pd\n",
    "from ydata_profiling import ProfileReport"
   ]
  },
  {
   "cell_type": "code",
   "execution_count": 2,
   "metadata": {},
   "outputs": [
    {
     "data": {
      "application/vnd.jupyter.widget-view+json": {
       "model_id": "7e7da5cdc55444e38cd32d9fce8f2fce",
       "version_major": 2,
       "version_minor": 0
      },
      "text/plain": [
       "Summarize dataset:   0%|          | 0/5 [00:00<?, ?it/s]"
      ]
     },
     "metadata": {},
     "output_type": "display_data"
    },
    {
     "data": {
      "application/vnd.jupyter.widget-view+json": {
       "model_id": "15bac5b03ede4834a0b6fde7587bee89",
       "version_major": 2,
       "version_minor": 0
      },
      "text/plain": [
       "Generate report structure:   0%|          | 0/1 [00:00<?, ?it/s]"
      ]
     },
     "metadata": {},
     "output_type": "display_data"
    },
    {
     "data": {
      "application/vnd.jupyter.widget-view+json": {
       "model_id": "e7efff9654d64e0c89cbc3198e1ca16e",
       "version_major": 2,
       "version_minor": 0
      },
      "text/plain": [
       "Render HTML:   0%|          | 0/1 [00:00<?, ?it/s]"
      ]
     },
     "metadata": {},
     "output_type": "display_data"
    },
    {
     "data": {
      "application/vnd.jupyter.widget-view+json": {
       "model_id": "a888186a449241fe8486c008868c7406",
       "version_major": 2,
       "version_minor": 0
      },
      "text/plain": [
       "Export report to file:   0%|          | 0/1 [00:00<?, ?it/s]"
      ]
     },
     "metadata": {},
     "output_type": "display_data"
    },
    {
     "data": {
      "application/vnd.jupyter.widget-view+json": {
       "model_id": "f3483867899245bca1613807658ad32c",
       "version_major": 2,
       "version_minor": 0
      },
      "text/plain": [
       "Summarize dataset:   0%|          | 0/5 [00:00<?, ?it/s]"
      ]
     },
     "metadata": {},
     "output_type": "display_data"
    },
    {
     "data": {
      "application/vnd.jupyter.widget-view+json": {
       "model_id": "8cc74321b436498ebe27b6163c4c8713",
       "version_major": 2,
       "version_minor": 0
      },
      "text/plain": [
       "Generate report structure:   0%|          | 0/1 [00:00<?, ?it/s]"
      ]
     },
     "metadata": {},
     "output_type": "display_data"
    },
    {
     "data": {
      "application/vnd.jupyter.widget-view+json": {
       "model_id": "12527ec703aa46f8bbff2fcd62440f73",
       "version_major": 2,
       "version_minor": 0
      },
      "text/plain": [
       "Render HTML:   0%|          | 0/1 [00:00<?, ?it/s]"
      ]
     },
     "metadata": {},
     "output_type": "display_data"
    },
    {
     "data": {
      "application/vnd.jupyter.widget-view+json": {
       "model_id": "3684123217b54ceca4e927770c890576",
       "version_major": 2,
       "version_minor": 0
      },
      "text/plain": [
       "Export report to file:   0%|          | 0/1 [00:00<?, ?it/s]"
      ]
     },
     "metadata": {},
     "output_type": "display_data"
    }
   ],
   "source": [
    "users_col_names = ['ID', 'Type', 'Name', 'Reserved field', 'Description']\n",
    "raw_users = pd.read_csv('raw_data/users.csv', sep='|', on_bad_lines='skip', names=users_col_names)\n",
    "users = pd.read_parquet('processed_data/users.parquet', engine='pyarrow')\n",
    "\n",
    "raw_users_profile = ProfileReport(raw_users, title=\"Raw Users Report\", explorative=True)\n",
    "raw_users_profile.to_file(\"profiling/raw_users_profile.html\")\n",
    "\n",
    "users_profile = ProfileReport(users, title=\"Processed Users Report\", explorative=True)\n",
    "users_profile.to_file(\"profiling/processed_users_profile.html\")"
   ]
  },
  {
   "cell_type": "code",
   "execution_count": 3,
   "metadata": {},
   "outputs": [
    {
     "data": {
      "application/vnd.jupyter.widget-view+json": {
       "model_id": "2050e9f9a2044183bc176ac35939575d",
       "version_major": 2,
       "version_minor": 0
      },
      "text/plain": [
       "Summarize dataset:   0%|          | 0/5 [00:00<?, ?it/s]"
      ]
     },
     "metadata": {},
     "output_type": "display_data"
    },
    {
     "data": {
      "application/vnd.jupyter.widget-view+json": {
       "model_id": "b9f3e41c33cd4c13aa0574b541cefff2",
       "version_major": 2,
       "version_minor": 0
      },
      "text/plain": [
       "Generate report structure:   0%|          | 0/1 [00:00<?, ?it/s]"
      ]
     },
     "metadata": {},
     "output_type": "display_data"
    },
    {
     "data": {
      "application/vnd.jupyter.widget-view+json": {
       "model_id": "50e0ebf0a9e944e3b1f7e16cdc077035",
       "version_major": 2,
       "version_minor": 0
      },
      "text/plain": [
       "Render HTML:   0%|          | 0/1 [00:00<?, ?it/s]"
      ]
     },
     "metadata": {},
     "output_type": "display_data"
    },
    {
     "data": {
      "application/vnd.jupyter.widget-view+json": {
       "model_id": "84f0c4d80286411abed9a17adc6ed724",
       "version_major": 2,
       "version_minor": 0
      },
      "text/plain": [
       "Export report to file:   0%|          | 0/1 [00:00<?, ?it/s]"
      ]
     },
     "metadata": {},
     "output_type": "display_data"
    },
    {
     "data": {
      "application/vnd.jupyter.widget-view+json": {
       "model_id": "761e2245b09f489b89281ef70270f0ad",
       "version_major": 2,
       "version_minor": 0
      },
      "text/plain": [
       "Summarize dataset:   0%|          | 0/5 [00:00<?, ?it/s]"
      ]
     },
     "metadata": {},
     "output_type": "display_data"
    },
    {
     "data": {
      "application/vnd.jupyter.widget-view+json": {
       "model_id": "ea01fdc9677a47afbe6697623a968513",
       "version_major": 2,
       "version_minor": 0
      },
      "text/plain": [
       "Generate report structure:   0%|          | 0/1 [00:00<?, ?it/s]"
      ]
     },
     "metadata": {},
     "output_type": "display_data"
    },
    {
     "data": {
      "application/vnd.jupyter.widget-view+json": {
       "model_id": "9e4ab60226c84842b424f0e1bddd4d9e",
       "version_major": 2,
       "version_minor": 0
      },
      "text/plain": [
       "Render HTML:   0%|          | 0/1 [00:00<?, ?it/s]"
      ]
     },
     "metadata": {},
     "output_type": "display_data"
    },
    {
     "data": {
      "application/vnd.jupyter.widget-view+json": {
       "model_id": "841292e0706142cbbd9524b9a80ea960",
       "version_major": 2,
       "version_minor": 0
      },
      "text/plain": [
       "Export report to file:   0%|          | 0/1 [00:00<?, ?it/s]"
      ]
     },
     "metadata": {},
     "output_type": "display_data"
    }
   ],
   "source": [
    "subscriptions_col_names = ['FollowerID', 'FollowedID']\n",
    "raw_subs = pd.read_csv('raw_data/subscriptions.csv', sep=',', on_bad_lines='skip', names=subscriptions_col_names)\n",
    "subs = pd.read_parquet('processed_data/subs.parquet', engine='pyarrow')\n",
    "\n",
    "raw_subs_profile = ProfileReport(raw_users, title=\"Raw Subs Report\", explorative=True)\n",
    "raw_subs_profile.to_file(\"profiling/raw_subs_profile.html\")\n",
    "\n",
    "subs_profile = ProfileReport(users, title=\"Processed Subs Report\", explorative=True)\n",
    "subs_profile.to_file(\"profiling/processed_subs_profile.html\")"
   ]
  },
  {
   "cell_type": "code",
   "execution_count": 5,
   "metadata": {},
   "outputs": [
    {
     "data": {
      "application/vnd.jupyter.widget-view+json": {
       "model_id": "b004d941f53d45b1a149cbf2a906c76e",
       "version_major": 2,
       "version_minor": 0
      },
      "text/plain": [
       "Summarize dataset:   0%|          | 0/5 [00:00<?, ?it/s]"
      ]
     },
     "metadata": {},
     "output_type": "display_data"
    },
    {
     "data": {
      "application/vnd.jupyter.widget-view+json": {
       "model_id": "a01ed4548c1d4d769549543f7749fd67",
       "version_major": 2,
       "version_minor": 0
      },
      "text/plain": [
       "Generate report structure:   0%|          | 0/1 [00:00<?, ?it/s]"
      ]
     },
     "metadata": {},
     "output_type": "display_data"
    },
    {
     "data": {
      "application/vnd.jupyter.widget-view+json": {
       "model_id": "cd8bfc978a9f4bd9832cb9198385a785",
       "version_major": 2,
       "version_minor": 0
      },
      "text/plain": [
       "Render HTML:   0%|          | 0/1 [00:00<?, ?it/s]"
      ]
     },
     "metadata": {},
     "output_type": "display_data"
    },
    {
     "data": {
      "application/vnd.jupyter.widget-view+json": {
       "model_id": "8b4f999ee32f4e35ae0fc59450eebf44",
       "version_major": 2,
       "version_minor": 0
      },
      "text/plain": [
       "Export report to file:   0%|          | 0/1 [00:00<?, ?it/s]"
      ]
     },
     "metadata": {},
     "output_type": "display_data"
    },
    {
     "data": {
      "application/vnd.jupyter.widget-view+json": {
       "model_id": "963fb795bdc740689979ffa50ce9210b",
       "version_major": 2,
       "version_minor": 0
      },
      "text/plain": [
       "Summarize dataset:   0%|          | 0/5 [00:00<?, ?it/s]"
      ]
     },
     "metadata": {},
     "output_type": "display_data"
    },
    {
     "data": {
      "application/vnd.jupyter.widget-view+json": {
       "model_id": "8414fdc1e7404082ae63fde871fbf06a",
       "version_major": 2,
       "version_minor": 0
      },
      "text/plain": [
       "Generate report structure:   0%|          | 0/1 [00:00<?, ?it/s]"
      ]
     },
     "metadata": {},
     "output_type": "display_data"
    },
    {
     "data": {
      "application/vnd.jupyter.widget-view+json": {
       "model_id": "a0133e9939c74ef69a44a3204a92640d",
       "version_major": 2,
       "version_minor": 0
      },
      "text/plain": [
       "Render HTML:   0%|          | 0/1 [00:00<?, ?it/s]"
      ]
     },
     "metadata": {},
     "output_type": "display_data"
    },
    {
     "data": {
      "application/vnd.jupyter.widget-view+json": {
       "model_id": "7bb9feb3d379471aa9a0f63a325e30c3",
       "version_major": 2,
       "version_minor": 0
      },
      "text/plain": [
       "Export report to file:   0%|          | 0/1 [00:00<?, ?it/s]"
      ]
     },
     "metadata": {},
     "output_type": "display_data"
    }
   ],
   "source": [
    "services_col_names = ['UserID', 'ServiceID', 'ServiceName', 'ServiceURL', 'UserNameOnService', 'UserURLOnService']\n",
    "raw_services = pd.read_csv('raw_data/services.csv', sep='|', on_bad_lines='skip', names=services_col_names)\n",
    "services = pd.read_parquet('processed_data/services.parquet', engine='pyarrow')\n",
    "\n",
    "raw_services_profile = ProfileReport(raw_services, title=\"Raw Services Report\", explorative=True)\n",
    "raw_services_profile.to_file(\"profiling/raw_services_profile.html\")\n",
    "\n",
    "services_profile = ProfileReport(services, title=\"Processed Services Report\", explorative=True)\n",
    "services_profile.to_file(\"profiling/processed_services_profile.html\")"
   ]
  },
  {
   "cell_type": "code",
   "execution_count": 6,
   "metadata": {},
   "outputs": [
    {
     "data": {
      "application/vnd.jupyter.widget-view+json": {
       "model_id": "f0543260c7654a4caaf78ad1c1f6b4ca",
       "version_major": 2,
       "version_minor": 0
      },
      "text/plain": [
       "Summarize dataset:   0%|          | 0/5 [00:00<?, ?it/s]"
      ]
     },
     "metadata": {},
     "output_type": "display_data"
    },
    {
     "data": {
      "application/vnd.jupyter.widget-view+json": {
       "model_id": "99a71b393c4542e0ad3622c877defe85",
       "version_major": 2,
       "version_minor": 0
      },
      "text/plain": [
       "Generate report structure:   0%|          | 0/1 [00:00<?, ?it/s]"
      ]
     },
     "metadata": {},
     "output_type": "display_data"
    },
    {
     "data": {
      "application/vnd.jupyter.widget-view+json": {
       "model_id": "ac2b173e4bd841d58e59b70ee43f7aa2",
       "version_major": 2,
       "version_minor": 0
      },
      "text/plain": [
       "Render HTML:   0%|          | 0/1 [00:00<?, ?it/s]"
      ]
     },
     "metadata": {},
     "output_type": "display_data"
    },
    {
     "data": {
      "application/vnd.jupyter.widget-view+json": {
       "model_id": "3781d0c93ccd4a6381213b6ef9bfbaca",
       "version_major": 2,
       "version_minor": 0
      },
      "text/plain": [
       "Export report to file:   0%|          | 0/1 [00:00<?, ?it/s]"
      ]
     },
     "metadata": {},
     "output_type": "display_data"
    },
    {
     "data": {
      "application/vnd.jupyter.widget-view+json": {
       "model_id": "abbaba81dcb740ef9b19cf74095d9e52",
       "version_major": 2,
       "version_minor": 0
      },
      "text/plain": [
       "Summarize dataset:   0%|          | 0/5 [00:00<?, ?it/s]"
      ]
     },
     "metadata": {},
     "output_type": "display_data"
    },
    {
     "data": {
      "application/vnd.jupyter.widget-view+json": {
       "model_id": "6714168d58b144579c5a2663128f9de8",
       "version_major": 2,
       "version_minor": 0
      },
      "text/plain": [
       "Generate report structure:   0%|          | 0/1 [00:00<?, ?it/s]"
      ]
     },
     "metadata": {},
     "output_type": "display_data"
    },
    {
     "data": {
      "application/vnd.jupyter.widget-view+json": {
       "model_id": "2695e9253b1544eb949eea90cd2e5817",
       "version_major": 2,
       "version_minor": 0
      },
      "text/plain": [
       "Render HTML:   0%|          | 0/1 [00:00<?, ?it/s]"
      ]
     },
     "metadata": {},
     "output_type": "display_data"
    },
    {
     "data": {
      "application/vnd.jupyter.widget-view+json": {
       "model_id": "17386bff45ed4a54be552f4857dbee98",
       "version_major": 2,
       "version_minor": 0
      },
      "text/plain": [
       "Export report to file:   0%|          | 0/1 [00:00<?, ?it/s]"
      ]
     },
     "metadata": {},
     "output_type": "display_data"
    }
   ],
   "source": [
    "likes_col_names = ['userID', 'PostID', 'Timestamp']\n",
    "raw_likes = pd.read_csv('raw_data/likes.csv', sep='\\t', on_bad_lines='skip', names=likes_col_names)\n",
    "likes = pd.read_parquet('processed_data/likes.parquet', engine='pyarrow')\n",
    "\n",
    "raw_likes_profile = ProfileReport(raw_likes, title=\"Raw Likes Report\", explorative=True)\n",
    "raw_likes_profile.to_file(\"profiling/raw_likes_profile.html\")\n",
    "\n",
    "likes_profile = ProfileReport(likes, title=\"Processed Likes Report\", explorative=True)\n",
    "likes_profile.to_file(\"profiling/processed_likes_profile.html\")"
   ]
  },
  {
   "cell_type": "code",
   "execution_count": 2,
   "metadata": {},
   "outputs": [
    {
     "data": {
      "application/vnd.jupyter.widget-view+json": {
       "model_id": "3f43165f6e4d49ff976cb49d45b7fb4a",
       "version_major": 2,
       "version_minor": 0
      },
      "text/plain": [
       "Summarize dataset:   0%|          | 0/5 [00:00<?, ?it/s]"
      ]
     },
     "metadata": {},
     "output_type": "display_data"
    },
    {
     "name": "stderr",
     "output_type": "stream",
     "text": [
      "/Users/rustamismailov/JupyterProjects/Data Mining I/DataMiningI_py3.12/lib/python3.12/site-packages/matplotlib/image.py:181: UserWarning: Data with more than 2**24 rows cannot be accurately displayed. Downsampling to less than 2**24 rows before displaying. To remove this warning, manually downsample your data.\n",
      "  warnings.warn(msg.format(n='2**24 rows'))\n"
     ]
    },
    {
     "data": {
      "application/vnd.jupyter.widget-view+json": {
       "model_id": "4bc2a5f4e8a044818e1b0e40bbeb32af",
       "version_major": 2,
       "version_minor": 0
      },
      "text/plain": [
       "Generate report structure:   0%|          | 0/1 [00:00<?, ?it/s]"
      ]
     },
     "metadata": {},
     "output_type": "display_data"
    },
    {
     "data": {
      "application/vnd.jupyter.widget-view+json": {
       "model_id": "b07d8aa9737340508c720086f09283c9",
       "version_major": 2,
       "version_minor": 0
      },
      "text/plain": [
       "Render HTML:   0%|          | 0/1 [00:00<?, ?it/s]"
      ]
     },
     "metadata": {},
     "output_type": "display_data"
    },
    {
     "data": {
      "application/vnd.jupyter.widget-view+json": {
       "model_id": "c8990125f27142b0af653c11ebb1df9f",
       "version_major": 2,
       "version_minor": 0
      },
      "text/plain": [
       "Export report to file:   0%|          | 0/1 [00:00<?, ?it/s]"
      ]
     },
     "metadata": {},
     "output_type": "display_data"
    },
    {
     "data": {
      "application/vnd.jupyter.widget-view+json": {
       "model_id": "a6c2ad5defd8461797df5bd7a37b99fc",
       "version_major": 2,
       "version_minor": 0
      },
      "text/plain": [
       "Summarize dataset:   0%|          | 0/5 [00:00<?, ?it/s]"
      ]
     },
     "metadata": {},
     "output_type": "display_data"
    },
    {
     "name": "stderr",
     "output_type": "stream",
     "text": [
      "/Users/rustamismailov/JupyterProjects/Data Mining I/DataMiningI_py3.12/lib/python3.12/site-packages/matplotlib/image.py:181: UserWarning: Data with more than 2**24 rows cannot be accurately displayed. Downsampling to less than 2**24 rows before displaying. To remove this warning, manually downsample your data.\n",
      "  warnings.warn(msg.format(n='2**24 rows'))\n"
     ]
    },
    {
     "data": {
      "application/vnd.jupyter.widget-view+json": {
       "model_id": "467cb8c9c4d14aa4b7cf40b01e7dc948",
       "version_major": 2,
       "version_minor": 0
      },
      "text/plain": [
       "Generate report structure:   0%|          | 0/1 [00:00<?, ?it/s]"
      ]
     },
     "metadata": {},
     "output_type": "display_data"
    },
    {
     "data": {
      "application/vnd.jupyter.widget-view+json": {
       "model_id": "f6f449669b814f3a92096222600d658e",
       "version_major": 2,
       "version_minor": 0
      },
      "text/plain": [
       "Render HTML:   0%|          | 0/1 [00:00<?, ?it/s]"
      ]
     },
     "metadata": {},
     "output_type": "display_data"
    },
    {
     "data": {
      "application/vnd.jupyter.widget-view+json": {
       "model_id": "3a9b2cfc6f314e4fa6173564826f7531",
       "version_major": 2,
       "version_minor": 0
      },
      "text/plain": [
       "Export report to file:   0%|          | 0/1 [00:00<?, ?it/s]"
      ]
     },
     "metadata": {},
     "output_type": "display_data"
    }
   ],
   "source": [
    "following_col_names = ['FollowerID', 'FollowedID', 'Timestamp']\n",
    "raw_following = pd.read_csv('raw_data/followingAugSept.csv', sep='\\t', on_bad_lines='skip', names=following_col_names)\n",
    "following = pd.read_parquet('processed_data/following.parquet', engine='pyarrow')\n",
    "\n",
    "raw_following_profile = ProfileReport(raw_following, title=\"Raw Following Report\", explorative=True)\n",
    "raw_following_profile.to_file(\"profiling/raw_following_profile.html\")\n",
    "\n",
    "following_profile = ProfileReport(following, title=\"Processed Following Report\", explorative=True)\n",
    "following_profile.to_file(\"profiling/processed_following_profile.html\")"
   ]
  },
  {
   "cell_type": "code",
   "execution_count": 4,
   "metadata": {},
   "outputs": [],
   "source": [
    "comments_col_names = ['PostID', 'EntryID', 'PostedBy', 'SourceName', 'SourceURL', 'GeoX', 'GeoY', 'Timestamp', 'Text', 'NumImg', 'ImgURL', 'NumVid', 'VidURL']\n",
    "raw_comments = pd.read_csv('raw_data/commentAugSept.csv', sep='\\t', on_bad_lines='skip', names=comments_col_names)\n",
    "comments = pd.read_parquet('processed_data/comments.parquet', engine='pyarrow')\n",
    "\n",
    "raw_comments_profile = ProfileReport(raw_comments, title=\"Raw Comments Report\", explorative=True)\n",
    "raw_comments_profile.to_file(\"profiling/raw_comments_profile.html\")\n",
    "\n",
    "comments_profile = ProfileReport(comments, title=\"Processed Comments Report\", explorative=True)\n",
    "comments_profile.to_file(\"profiling/processed_comments_profile.html\")"
   ]
  },
  {
   "cell_type": "code",
   "execution_count": 17,
   "metadata": {},
   "outputs": [],
   "source": [
    "entries_col_names = ['PostID', 'PostedBy', 'SourceName', 'SourceURL', 'GeoX', 'GeoY', 'Timestamp', 'Text', 'NumImg', 'ImgURL', 'NumVid', 'VidURL']\n",
    "entries1 = pd.read_csv('raw_data/entries1.csv', sep='\\t', on_bad_lines='skip', names=entries_col_names)\n",
    "entries2 = pd.read_csv('raw_data/entries2.csv', sep='\\t', on_bad_lines='skip', names=entries_col_names)\n",
    "entries3 = pd.read_csv('raw_data/entries3.csv', sep='\\t', on_bad_lines='skip', names=entries_col_names)\n",
    "raw_entries = pd.concat([entries1, entries2, entries3], ignore_index=True)\n",
    "entries = pd.read_parquet('processed_data/entries.parquet', engine='pyarrow')\n",
    "\n",
    "raw_entries_profile = ProfileReport(raw_entries, title=\"Raw Entries Report\", explorative=True)\n",
    "raw_entries_profile.to_file(\"profiling/raw_entries_profile.html\")\n",
    "\n",
    "entries_profile = ProfileReport(entries, title=\"Processed Entries Report\", explorative=True)\n",
    "entries_profile.to_file(\"profiling/processed_entries_profile.html\")"
   ]
  },
  {
   "cell_type": "code",
   "execution_count": null,
   "metadata": {},
   "outputs": [],
   "source": []
  }
 ],
 "metadata": {
  "kernelspec": {
   "display_name": "DataMiningI_py3.12",
   "language": "python",
   "name": "dataminingi_py3.12"
  },
  "language_info": {
   "codemirror_mode": {
    "name": "ipython",
    "version": 3
   },
   "file_extension": ".py",
   "mimetype": "text/x-python",
   "name": "python",
   "nbconvert_exporter": "python",
   "pygments_lexer": "ipython3",
   "version": "3.12.4"
  }
 },
 "nbformat": 4,
 "nbformat_minor": 2
}
