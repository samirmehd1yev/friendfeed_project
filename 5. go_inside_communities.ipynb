{
 "cells": [
  {
   "cell_type": "markdown",
   "metadata": {},
   "source": [
    "# Community similarities\n",
    "\n",
    "This notebook focuses on detecting communities within the FriendFeed social network. We'll use the preprocessed datasets to build a graph and analyze community structures."
   ]
  },
  {
   "cell_type": "code",
   "execution_count": 1,
   "metadata": {},
   "outputs": [],
   "source": [
    "import os\n",
    "import gc\n",
    "import numpy as np\n",
    "import seaborn as sns\n",
    "import networkx as nx\n",
    "import matplotlib.pyplot as plt\n"
   ]
  },
  {
   "cell_type": "markdown",
   "metadata": {},
   "source": [
    "## load the network from files"
   ]
  },
  {
   "cell_type": "code",
   "execution_count": 2,
   "metadata": {},
   "outputs": [
    {
     "name": "stdout",
     "output_type": "stream",
     "text": [
      "Number of Nodes: 12776\n",
      "Number of Edges: 299677\n"
     ]
    }
   ],
   "source": [
    "graph_3 = nx.read_gexf(\"graph/subgraph_3.gexf\")\n",
    "num_nodes = graph_3.number_of_nodes()\n",
    "num_edges = graph_3.number_of_edges()\n",
    "\n",
    "print(\"Number of Nodes:\", num_nodes)\n",
    "print(\"Number of Edges:\", num_edges)"
   ]
  },
  {
   "cell_type": "code",
   "execution_count": 3,
   "metadata": {},
   "outputs": [
    {
     "name": "stdout",
     "output_type": "stream",
     "text": [
      "Number of Nodes: 2442\n",
      "Number of Edges: 12395\n"
     ]
    }
   ],
   "source": [
    "graph_20 = nx.read_gexf(\"graph/subgraph_20.gexf\")\n",
    "num_nodes = graph_20.number_of_nodes()\n",
    "num_edges = graph_20.number_of_edges()\n",
    "\n",
    "print(\"Number of Nodes:\", num_nodes)\n",
    "print(\"Number of Edges:\", num_edges)"
   ]
  },
  {
   "cell_type": "code",
   "execution_count": 4,
   "metadata": {},
   "outputs": [
    {
     "name": "stdout",
     "output_type": "stream",
     "text": [
      "Number of Nodes: 2240\n",
      "Number of Edges: 51294\n"
     ]
    }
   ],
   "source": [
    "graph_11 = nx.read_gexf(\"graph/subgraph_11.gexf\")\n",
    "num_nodes = graph_11.number_of_nodes()\n",
    "num_edges = graph_11.number_of_edges()\n",
    "\n",
    "print(\"Number of Nodes:\", num_nodes)\n",
    "print(\"Number of Edges:\", num_edges)"
   ]
  },
  {
   "cell_type": "code",
   "execution_count": 5,
   "metadata": {},
   "outputs": [
    {
     "name": "stdout",
     "output_type": "stream",
     "text": [
      "Number of Nodes: 2138\n",
      "Number of Edges: 25151\n"
     ]
    }
   ],
   "source": [
    "graph_52 = nx.read_gexf(\"graph/subgraph_52.gexf\")\n",
    "num_nodes = graph_52.number_of_nodes()\n",
    "num_edges = graph_52.number_of_edges()\n",
    "\n",
    "print(\"Number of Nodes:\", num_nodes)\n",
    "print(\"Number of Edges:\", num_edges)"
   ]
  },
  {
   "cell_type": "code",
   "execution_count": null,
   "metadata": {},
   "outputs": [],
   "source": []
  },
  {
   "cell_type": "code",
   "execution_count": null,
   "metadata": {},
   "outputs": [],
   "source": []
  },
  {
   "cell_type": "code",
   "execution_count": null,
   "metadata": {},
   "outputs": [],
   "source": []
  },
  {
   "cell_type": "code",
   "execution_count": null,
   "metadata": {},
   "outputs": [],
   "source": []
  }
 ],
 "metadata": {
  "kernelspec": {
   "display_name": "MiniConda",
   "language": "python",
   "name": "base"
  },
  "language_info": {
   "codemirror_mode": {
    "name": "ipython",
    "version": 3
   },
   "file_extension": ".py",
   "mimetype": "text/x-python",
   "name": "python",
   "nbconvert_exporter": "python",
   "pygments_lexer": "ipython3",
   "version": "3.12.2"
  }
 },
 "nbformat": 4,
 "nbformat_minor": 4
}
