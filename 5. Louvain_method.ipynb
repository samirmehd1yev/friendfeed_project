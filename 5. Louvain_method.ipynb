{
 "cells": [
  {
   "cell_type": "markdown",
   "metadata": {},
   "source": [
    "# Community Detection in FriendFeed Network\n",
    "\n",
    "This notebook focuses on detecting communities within the FriendFeed social network. We'll use the preprocessed datasets to build a graph and analyze community structures."
   ]
  },
  {
   "cell_type": "code",
   "execution_count": null,
   "metadata": {},
   "outputs": [],
   "source": [
    "import networkx as nx\n",
    "import matplotlib.pyplot as plt\n",
    "from community import community_louvain"
   ]
  },
  {
   "cell_type": "markdown",
   "metadata": {},
   "source": [
    "## Savle the network"
   ]
  },
  {
   "cell_type": "code",
   "execution_count": null,
   "metadata": {},
   "outputs": [],
   "source": [
    "# Read the graph from the GraphML file\n",
    "G = nx.read_graphml(\"graph/graph.graphml\")\n",
    "print(nx.info(G))"
   ]
  },
  {
   "cell_type": "markdown",
   "metadata": {},
   "source": [
    "## 3. Analyze Network Structure\n",
    "\n",
    "Let's examine the basic characteristics of the network, such as degree distributions."
   ]
  },
  {
   "cell_type": "code",
   "execution_count": null,
   "metadata": {},
   "outputs": [],
   "source": [
    "# Calculate degree distributions\n",
    "degrees = dict(G.degree())\n",
    "in_degrees = dict(G.in_degree())\n",
    "out_degrees = dict(G.out_degree())\n",
    "\n",
    "# Plot degree distribution\n",
    "plt.figure(figsize=(10, 6))\n",
    "sns.histplot(list(degrees.values()), bins=30, kde=True)\n",
    "plt.title('Degree Distribution')\n",
    "plt.xlabel('Degree')\n",
    "plt.ylabel('Frequency')\n",
    "plt.show()"
   ]
  },
  {
   "cell_type": "markdown",
   "metadata": {},
   "source": [
    "## 4. Detect Communities Using the Louvain Method\n",
    "\n",
    "The Louvain algorithm is a popular method for community detection in large networks. We'll use this method to detect communities and analyze them."
   ]
  },
  {
   "cell_type": "code",
   "execution_count": null,
   "metadata": {},
   "outputs": [],
   "source": [
    "%%time\n",
    "# Convert graph to undirected for community detection\n",
    "G_undirected = G.to_undirected()\n",
    "\n",
    "# Apply Louvain method for community detection\n",
    "partition = community_louvain.best_partition(G_undirected)\n",
    "communities = set(partition.values())\n",
    "num_communities = len(communities)\n",
    "\n",
    "print(f\"Number of communities detected: {num_communities}\")\n",
    "\n",
    "# Add community information as node attribute\n",
    "nx.set_node_attributes(G, partition, 'community')"
   ]
  },
  {
   "cell_type": "markdown",
   "metadata": {},
   "source": [
    "## 5. Visualize Communities\n",
    "\n",
    "Let's visualize the detected communities. Each node will be colored based on the community it belongs to."
   ]
  },
  {
   "cell_type": "code",
   "execution_count": null,
   "metadata": {},
   "outputs": [],
   "source": [
    "plt.figure(figsize=(12, 12))\n",
    "pos = nx.spring_layout(G_undirected, k=0.1)\n",
    "\n",
    "# Draw nodes with colors according to community\n",
    "colors = [partition[node] for node in G_undirected.nodes]\n",
    "nx.draw_networkx_nodes(G_undirected, pos, node_color=colors, cmap=plt.cm.jet, node_size=20)\n",
    "\n",
    "# Draw edges\n",
    "nx.draw_networkx_edges(G_undirected, pos, alpha=0.1)\n",
    "\n",
    "plt.title('Community Detection using Louvain Method')\n",
    "plt.axis('off')\n",
    "plt.show()"
   ]
  },
  {
   "cell_type": "markdown",
   "metadata": {},
   "source": [
    "## 6. Community Analysis\n",
    "\n",
    "We can further analyze the communities to understand their sizes and characteristics."
   ]
  },
  {
   "cell_type": "code",
   "execution_count": null,
   "metadata": {},
   "outputs": [],
   "source": [
    "# Calculate size of each community\n",
    "community_sizes = pd.Series(list(partition.values())).value_counts()\n",
    "\n",
    "plt.figure(figsize=(10, 6))\n",
    "sns.barplot(x=community_sizes.index, y=community_sizes.values, palette='viridis')\n",
    "plt.title('Community Size Distribution')\n",
    "plt.xlabel('Community ID')\n",
    "plt.ylabel('Number of Nodes')\n",
    "plt.show()"
   ]
  },
  {
   "cell_type": "markdown",
   "metadata": {},
   "source": [
    "## 7. Save the Results\n",
    "\n",
    "Finally, let's save the graph with community information for further analysis if needed."
   ]
  },
  {
   "cell_type": "code",
   "execution_count": null,
   "metadata": {},
   "outputs": [],
   "source": [
    "# Save graph with community info\n",
    "nx.write_gexf(G, 'friendfeed_community_graph.gexf')\n",
    "print(\"Graph with community information saved as 'friendfeed_community_graph.gexf'.\")"
   ]
  }
 ],
 "metadata": {
  "kernelspec": {
   "display_name": "MiniConda",
   "language": "python",
   "name": "base"
  },
  "language_info": {
   "codemirror_mode": {
    "name": "ipython",
    "version": 3
   },
   "file_extension": ".py",
   "mimetype": "text/x-python",
   "name": "python",
   "nbconvert_exporter": "python",
   "pygments_lexer": "ipython3",
   "version": "3.12.4"
  }
 },
 "nbformat": 4,
 "nbformat_minor": 4
}
